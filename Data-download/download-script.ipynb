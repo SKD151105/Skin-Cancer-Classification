{
  "cells": [
    {
      "cell_type": "code",
      "execution_count": 1,
      "id": "ae194368",
      "metadata": {
        "vscode": {
          "languageId": "plaintext"
        },
        "id": "ae194368"
      },
      "outputs": [],
      "source": [
        "#this change is made throguh github"
      ]
    },
    {
      "cell_type": "code",
      "source": [
        "#again test"
      ],
      "metadata": {
        "id": "Kv-hZmHh-K2g"
      },
      "id": "Kv-hZmHh-K2g",
      "execution_count": null,
      "outputs": []
    },
    {
      "cell_type": "code",
      "source": [
        "from google.colab import drive\n",
        "drive.mount('/content/drive')"
      ],
      "metadata": {
        "id": "gtODW4FU-gMT",
        "outputId": "9364a2a5-1e93-44f6-ae4a-b756d9792535",
        "colab": {
          "base_uri": "https://localhost:8080/"
        }
      },
      "id": "gtODW4FU-gMT",
      "execution_count": 2,
      "outputs": [
        {
          "output_type": "stream",
          "name": "stdout",
          "text": [
            "Mounted at /content/drive\n"
          ]
        }
      ]
    }
  ],
  "metadata": {
    "language_info": {
      "name": "python"
    },
    "colab": {
      "provenance": []
    },
    "kernelspec": {
      "name": "python3",
      "display_name": "Python 3"
    }
  },
  "nbformat": 4,
  "nbformat_minor": 5
}