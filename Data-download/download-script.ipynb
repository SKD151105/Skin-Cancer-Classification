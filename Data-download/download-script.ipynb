{
  "cells": [
    {
      "cell_type": "code",
      "execution_count": null,
      "id": "ae194368",
      "metadata": {
        "vscode": {
          "languageId": "plaintext"
        },
        "id": "ae194368"
      },
      "outputs": [],
      "source": [
        "#this change is made throguh github"
      ]
    },
    {
      "cell_type": "code",
      "source": [
        "#again test"
      ],
      "metadata": {
        "id": "Kv-hZmHh-K2g"
      },
      "id": "Kv-hZmHh-K2g",
      "execution_count": null,
      "outputs": []
    },
    {
      "cell_type": "code",
      "source": [
        "from google.colab import drive\n",
        "drive.mount('/content/drive')"
      ],
      "metadata": {
        "id": "gtODW4FU-gMT",
        "outputId": "4d36800c-45c8-4d7f-ac00-8815b8b95339",
        "colab": {
          "base_uri": "https://localhost:8080/"
        }
      },
      "id": "gtODW4FU-gMT",
      "execution_count": 1,
      "outputs": [
        {
          "output_type": "stream",
          "name": "stdout",
          "text": [
            "Mounted at /content/drive\n"
          ]
        }
      ]
    },
    {
      "cell_type": "markdown",
      "source": [],
      "metadata": {
        "id": "VVg-k_KNkZvr"
      },
      "id": "VVg-k_KNkZvr"
    },
    {
      "cell_type": "markdown",
      "source": [
        "Downlaod Data\n",
        "\n",
        "Step - 1:-\n",
        "1. Go to Google Drive\n",
        "2. Make a directory in myDrive with name mini_proj_data\n",
        "\n",
        "\n",
        "Step - 2 :-\n",
        "1. Go to Kaggle profile\n",
        "2. click on settings icon\n",
        "3. generate API\n",
        "4. a file with kaggle.json would be generated downlaod and upload it to drive in folder mini_proj_data\n",
        "\n",
        "step - 3:-\n",
        "1. Run below code to download data\n"
      ],
      "metadata": {
        "id": "GRcWi0fel9rf"
      },
      "id": "GRcWi0fel9rf"
    },
    {
      "cell_type": "code",
      "source": [
        "from google.colab import drive\n",
        "drive.mount('/content/drive')  # Mount Google Drive\n",
        "\n",
        "!mkdir -p ~/.kaggle\n",
        "!cp /content/drive/MyDrive/mini_proj_data/kaggle.json ~/.kaggle/\n",
        "!chmod 600 ~/.kaggle/kaggle.json\n",
        "\n",
        "!kaggle datasets download -d kmader/skin-cancer-mnist-ham10000 -p /content/drive/MyDrive/mini_proj_data/HAM10000 --unzip\n"
      ],
      "metadata": {
        "colab": {
          "base_uri": "https://localhost:8080/"
        },
        "id": "7zrbtTf5iZrh",
        "outputId": "dfffb41e-805a-4945-c1ee-1b542fa5a5a1"
      },
      "id": "7zrbtTf5iZrh",
      "execution_count": null,
      "outputs": [
        {
          "output_type": "stream",
          "name": "stdout",
          "text": [
            "Drive already mounted at /content/drive; to attempt to forcibly remount, call drive.mount(\"/content/drive\", force_remount=True).\n",
            "Dataset URL: https://www.kaggle.com/datasets/kmader/skin-cancer-mnist-ham10000\n",
            "License(s): CC-BY-NC-SA-4.0\n",
            "Downloading skin-cancer-mnist-ham10000.zip to /content/drive/MyDrive/mini_proj_data/HAM10000\n",
            "100% 5.19G/5.20G [00:39<00:00, 132MB/s]\n",
            "100% 5.20G/5.20G [00:39<00:00, 140MB/s]\n"
          ]
        }
      ]
    },
    {
      "cell_type": "code",
      "source": [
        "import pandas as pd\n",
        "\n",
        "# Adjust path if needed\n",
        "metadata = pd.read_csv('/content/drive/MyDrive/mini_proj_data/HAM10000/HAM10000_metadata.csv')\n",
        "\n",
        "# Check what columns you have\n",
        "print(metadata.columns)\n"
      ],
      "metadata": {
        "id": "qCgE-MeIlGmv"
      },
      "id": "qCgE-MeIlGmv",
      "execution_count": null,
      "outputs": []
    },
    {
      "cell_type": "code",
      "source": [
        "from pathlib import Path\n",
        "\n",
        "# Paths to the two image folders\n",
        "part1_dir = Path('/content/ham10000/HAM10000_images_part_1')\n",
        "part2_dir = Path('/content/ham10000/HAM10000_images_part_2')\n",
        "\n",
        "# Function to get the correct path for each image\n",
        "def resolve_path(image_id):\n",
        "    fname = f\"{image_id}.jpg\"\n",
        "    if (part1_dir / fname).exists():\n",
        "        return str(part1_dir / fname)\n",
        "    elif (part2_dir / fname).exists():\n",
        "        return str(part2_dir / fname)\n",
        "    else:\n",
        "        return None\n",
        "\n",
        "metadata['image_path'] = metadata['image_id'].apply(resolve_path)\n",
        "\n",
        "# Drop rows if any images are missing\n",
        "metadata = metadata.dropna(subset=['image_path'])\n",
        "\n",
        "# Verify\n",
        "print(metadata[['image_id', 'dx', 'image_path']].head())\n"
      ],
      "metadata": {
        "id": "ZWslJVnArlPC"
      },
      "id": "ZWslJVnArlPC",
      "execution_count": null,
      "outputs": []
    }
  ],
  "metadata": {
    "language_info": {
      "name": "python"
    },
    "colab": {
      "provenance": []
    },
    "kernelspec": {
      "name": "python3",
      "display_name": "Python 3"
    }
  },
  "nbformat": 4,
  "nbformat_minor": 5
}