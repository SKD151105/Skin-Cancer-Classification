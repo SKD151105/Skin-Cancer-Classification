{
  "cells": [
    {
      "cell_type": "code",
      "execution_count": null,
      "id": "ae194368",
      "metadata": {
        "id": "ae194368"
      },
      "outputs": [],
      "source": [
        "#this change is made throguh github"
      ]
    },
    {
      "cell_type": "code",
      "execution_count": null,
      "id": "Kv-hZmHh-K2g",
      "metadata": {
        "id": "Kv-hZmHh-K2g"
      },
      "outputs": [],
      "source": [
        "#again test"
      ]
    },
    {
      "cell_type": "code",
      "execution_count": 1,
      "id": "gtODW4FU-gMT",
      "metadata": {
        "colab": {
          "base_uri": "https://localhost:8080/"
        },
        "id": "gtODW4FU-gMT",
        "outputId": "a380f893-f3c2-4fa2-a8cf-bba6e63685b2"
      },
      "outputs": [
        {
          "name": "stdout",
          "output_type": "stream",
          "text": [
            "Mounted at /content/drive\n"
          ]
        }
      ],
      "source": [
        "from google.colab import drive\n",
        "drive.mount('/content/drive')"
      ]
    },
    {
      "cell_type": "markdown",
      "id": "VVg-k_KNkZvr",
      "metadata": {
        "id": "VVg-k_KNkZvr"
      },
      "source": []
    },
    {
      "cell_type": "markdown",
      "id": "GRcWi0fel9rf",
      "metadata": {
        "id": "GRcWi0fel9rf"
      },
      "source": [
        "Downlaod Data\n",
        "\n",
        "Step - 1:-\n",
        "1. Go to Google Drive\n",
        "2. Make a directory in myDrive with name mini_proj_data\n",
        "\n",
        "\n",
        "Step - 2 :-\n",
        "1. Go to Kaggle profile\n",
        "2. click on settings icon\n",
        "3. generate API\n",
        "4. a file with kaggle.json would be generated downlaod and upload it to drive in folder mini_proj_data\n",
        "\n",
        "step - 3:-\n",
        "1. Run below code to download data\n"
      ]
    },
    {
      "cell_type": "code",
      "execution_count": null,
      "id": "7zrbtTf5iZrh",
      "metadata": {
        "colab": {
          "base_uri": "https://localhost:8080/"
        },
        "id": "7zrbtTf5iZrh",
        "outputId": "dfffb41e-805a-4945-c1ee-1b542fa5a5a1"
      },
      "outputs": [
        {
          "name": "stdout",
          "output_type": "stream",
          "text": [
            "Drive already mounted at /content/drive; to attempt to forcibly remount, call drive.mount(\"/content/drive\", force_remount=True).\n",
            "Dataset URL: https://www.kaggle.com/datasets/kmader/skin-cancer-mnist-ham10000\n",
            "License(s): CC-BY-NC-SA-4.0\n",
            "Downloading skin-cancer-mnist-ham10000.zip to /content/drive/MyDrive/mini_proj_data/HAM10000\n",
            "100% 5.19G/5.20G [00:39<00:00, 132MB/s]\n",
            "100% 5.20G/5.20G [00:39<00:00, 140MB/s]\n"
          ]
        }
      ],
      "source": [
        "from google.colab import drive\n",
        "drive.mount('/content/drive')  # Mount Google Drive\n",
        "\n",
        "!mkdir -p ~/.kaggle\n",
        "!cp /content/drive/MyDrive/mini_proj_data/kaggle.json ~/.kaggle/\n",
        "!chmod 600 ~/.kaggle/kaggle.json\n",
        "\n",
        "!kaggle datasets download -d kmader/skin-cancer-mnist-ham10000 -p /content/drive/MyDrive/mini_proj_data/HAM10000 --unzip\n"
      ]
    },
    {
      "cell_type": "code",
      "execution_count": null,
      "id": "qCgE-MeIlGmv",
      "metadata": {
        "colab": {
          "base_uri": "https://localhost:8080/"
        },
        "id": "qCgE-MeIlGmv",
        "outputId": "5843e68e-7413-4e6a-882f-3a100d7aa14c"
      },
      "outputs": [
        {
          "name": "stdout",
          "output_type": "stream",
          "text": [
            "Index(['lesion_id', 'image_id', 'dx', 'dx_type', 'age', 'sex', 'localization'], dtype='object')\n"
          ]
        }
      ],
      "source": [
        "import pandas as pd\n",
        "\n",
        "# Adjust path if needed\n",
        "metadata = pd.read_csv('/content/drive/MyDrive/mini_proj_data/HAM10000/HAM10000_metadata.csv')\n",
        "\n",
        "# Check what columns you have\n",
        "print(metadata.columns)\n"
      ]
    },
    {
      "cell_type": "code",
      "execution_count": 2,
      "id": "04qvTLJ9OFKW",
      "metadata": {
        "colab": {
          "base_uri": "https://localhost:8080/",
          "height": 423
        },
        "id": "04qvTLJ9OFKW",
        "outputId": "6c38e419-bc0f-42b9-c0f9-024ad2f474dc"
      },
      "outputs": [
        {
          "data": {
            "text/html": [
              "<div>\n",
              "<style scoped>\n",
              "    .dataframe tbody tr th:only-of-type {\n",
              "        vertical-align: middle;\n",
              "    }\n",
              "\n",
              "    .dataframe tbody tr th {\n",
              "        vertical-align: top;\n",
              "    }\n",
              "\n",
              "    .dataframe thead th {\n",
              "        text-align: right;\n",
              "    }\n",
              "</style>\n",
              "<table border=\"1\" class=\"dataframe\">\n",
              "  <thead>\n",
              "    <tr style=\"text-align: right;\">\n",
              "      <th></th>\n",
              "      <th>lesion_id</th>\n",
              "      <th>image_id</th>\n",
              "      <th>dx</th>\n",
              "      <th>dx_type</th>\n",
              "      <th>age</th>\n",
              "      <th>sex</th>\n",
              "      <th>localization</th>\n",
              "    </tr>\n",
              "  </thead>\n",
              "  <tbody>\n",
              "    <tr>\n",
              "      <th>0</th>\n",
              "      <td>HAM_0000118</td>\n",
              "      <td>ISIC_0027419</td>\n",
              "      <td>bkl</td>\n",
              "      <td>histo</td>\n",
              "      <td>80.0</td>\n",
              "      <td>male</td>\n",
              "      <td>scalp</td>\n",
              "    </tr>\n",
              "    <tr>\n",
              "      <th>1</th>\n",
              "      <td>HAM_0000118</td>\n",
              "      <td>ISIC_0025030</td>\n",
              "      <td>bkl</td>\n",
              "      <td>histo</td>\n",
              "      <td>80.0</td>\n",
              "      <td>male</td>\n",
              "      <td>scalp</td>\n",
              "    </tr>\n",
              "    <tr>\n",
              "      <th>2</th>\n",
              "      <td>HAM_0002730</td>\n",
              "      <td>ISIC_0026769</td>\n",
              "      <td>bkl</td>\n",
              "      <td>histo</td>\n",
              "      <td>80.0</td>\n",
              "      <td>male</td>\n",
              "      <td>scalp</td>\n",
              "    </tr>\n",
              "    <tr>\n",
              "      <th>3</th>\n",
              "      <td>HAM_0002730</td>\n",
              "      <td>ISIC_0025661</td>\n",
              "      <td>bkl</td>\n",
              "      <td>histo</td>\n",
              "      <td>80.0</td>\n",
              "      <td>male</td>\n",
              "      <td>scalp</td>\n",
              "    </tr>\n",
              "    <tr>\n",
              "      <th>4</th>\n",
              "      <td>HAM_0001466</td>\n",
              "      <td>ISIC_0031633</td>\n",
              "      <td>bkl</td>\n",
              "      <td>histo</td>\n",
              "      <td>75.0</td>\n",
              "      <td>male</td>\n",
              "      <td>ear</td>\n",
              "    </tr>\n",
              "    <tr>\n",
              "      <th>...</th>\n",
              "      <td>...</td>\n",
              "      <td>...</td>\n",
              "      <td>...</td>\n",
              "      <td>...</td>\n",
              "      <td>...</td>\n",
              "      <td>...</td>\n",
              "      <td>...</td>\n",
              "    </tr>\n",
              "    <tr>\n",
              "      <th>10010</th>\n",
              "      <td>HAM_0002867</td>\n",
              "      <td>ISIC_0033084</td>\n",
              "      <td>akiec</td>\n",
              "      <td>histo</td>\n",
              "      <td>40.0</td>\n",
              "      <td>male</td>\n",
              "      <td>abdomen</td>\n",
              "    </tr>\n",
              "    <tr>\n",
              "      <th>10011</th>\n",
              "      <td>HAM_0002867</td>\n",
              "      <td>ISIC_0033550</td>\n",
              "      <td>akiec</td>\n",
              "      <td>histo</td>\n",
              "      <td>40.0</td>\n",
              "      <td>male</td>\n",
              "      <td>abdomen</td>\n",
              "    </tr>\n",
              "    <tr>\n",
              "      <th>10012</th>\n",
              "      <td>HAM_0002867</td>\n",
              "      <td>ISIC_0033536</td>\n",
              "      <td>akiec</td>\n",
              "      <td>histo</td>\n",
              "      <td>40.0</td>\n",
              "      <td>male</td>\n",
              "      <td>abdomen</td>\n",
              "    </tr>\n",
              "    <tr>\n",
              "      <th>10013</th>\n",
              "      <td>HAM_0000239</td>\n",
              "      <td>ISIC_0032854</td>\n",
              "      <td>akiec</td>\n",
              "      <td>histo</td>\n",
              "      <td>80.0</td>\n",
              "      <td>male</td>\n",
              "      <td>face</td>\n",
              "    </tr>\n",
              "    <tr>\n",
              "      <th>10014</th>\n",
              "      <td>HAM_0003521</td>\n",
              "      <td>ISIC_0032258</td>\n",
              "      <td>mel</td>\n",
              "      <td>histo</td>\n",
              "      <td>70.0</td>\n",
              "      <td>female</td>\n",
              "      <td>back</td>\n",
              "    </tr>\n",
              "  </tbody>\n",
              "</table>\n",
              "<p>10015 rows × 7 columns</p>\n",
              "</div>"
            ],
            "text/plain": [
              "         lesion_id      image_id     dx dx_type   age     sex localization\n",
              "0      HAM_0000118  ISIC_0027419    bkl   histo  80.0    male        scalp\n",
              "1      HAM_0000118  ISIC_0025030    bkl   histo  80.0    male        scalp\n",
              "2      HAM_0002730  ISIC_0026769    bkl   histo  80.0    male        scalp\n",
              "3      HAM_0002730  ISIC_0025661    bkl   histo  80.0    male        scalp\n",
              "4      HAM_0001466  ISIC_0031633    bkl   histo  75.0    male          ear\n",
              "...            ...           ...    ...     ...   ...     ...          ...\n",
              "10010  HAM_0002867  ISIC_0033084  akiec   histo  40.0    male      abdomen\n",
              "10011  HAM_0002867  ISIC_0033550  akiec   histo  40.0    male      abdomen\n",
              "10012  HAM_0002867  ISIC_0033536  akiec   histo  40.0    male      abdomen\n",
              "10013  HAM_0000239  ISIC_0032854  akiec   histo  80.0    male         face\n",
              "10014  HAM_0003521  ISIC_0032258    mel   histo  70.0  female         back\n",
              "\n",
              "[10015 rows x 7 columns]"
            ]
          },
          "execution_count": 2,
          "metadata": {},
          "output_type": "execute_result"
        }
      ],
      "source": [
        "metadata"
      ]
    },
    {
      "cell_type": "code",
      "execution_count": null,
      "id": "ZWslJVnArlPC",
      "metadata": {
        "colab": {
          "base_uri": "https://localhost:8080/"
        },
        "id": "ZWslJVnArlPC",
        "outputId": "8f3cdac6-5ee1-425c-81fc-a5b97a81f0a5"
      },
      "outputs": [
        {
          "name": "stdout",
          "output_type": "stream",
          "text": [
            "True C:\\Users\\ompat\\OneDrive\\Desktop\\mini_proj_data\\HAM10000_images_part_1\n",
            "True C:\\Users\\ompat\\OneDrive\\Desktop\\mini_proj_data\\HAM10000_images_part_2\n",
            "Empty DataFrame\n",
            "Columns: [image_id, dx, image_path]\n",
            "Index: []\n"
          ]
        }
      ],
      "source": [
        "from pathlib import Path\n",
        "\n",
        "# Paths to the two image folders\n",
        "part1_dir = Path('/content/drive/MyDrive/mini_proj_data/HAM10000/HAM10000_images_part_1')\n",
        "part2_dir = Path('/content/drive/MyDrive/mini_proj_data/HAM10000/HAM10000_images_part_2')\n",
        "\n",
        "# Function to get the correct path for each image\n",
        "def resolve_path(image_id):\n",
        "    fname = f\"{image_id}.jpg\"\n",
        "    if (part1_dir / fname).exists():\n",
        "        return str(part1_dir / fname)\n",
        "    elif (part2_dir / fname).exists():\n",
        "        return str(part2_dir / fname)\n",
        "    else:\n",
        "        return None\n",
        "\n",
        "metadata['image_path'] = metadata['image_id'].apply(resolve_path)\n",
        "\n",
        "# Drop rows if any images are missing\n",
        "metadata = metadata.dropna(subset=['image_path'])\n",
        "\n",
        "# Verify\n",
        "print(metadata[['image_id', 'dx', 'image_path']].head())\n"
      ]
    },
    {
      "cell_type": "code",
      "execution_count": 15,
      "id": "5de77038",
      "metadata": {},
      "outputs": [
        {
          "data": {
            "text/html": [
              "<div>\n",
              "<style scoped>\n",
              "    .dataframe tbody tr th:only-of-type {\n",
              "        vertical-align: middle;\n",
              "    }\n",
              "\n",
              "    .dataframe tbody tr th {\n",
              "        vertical-align: top;\n",
              "    }\n",
              "\n",
              "    .dataframe thead th {\n",
              "        text-align: right;\n",
              "    }\n",
              "</style>\n",
              "<table border=\"1\" class=\"dataframe\">\n",
              "  <thead>\n",
              "    <tr style=\"text-align: right;\">\n",
              "      <th></th>\n",
              "      <th>lesion_id</th>\n",
              "      <th>image_id</th>\n",
              "      <th>dx</th>\n",
              "      <th>dx_type</th>\n",
              "      <th>age</th>\n",
              "      <th>sex</th>\n",
              "      <th>localization</th>\n",
              "      <th>image_path</th>\n",
              "    </tr>\n",
              "  </thead>\n",
              "  <tbody>\n",
              "  </tbody>\n",
              "</table>\n",
              "</div>"
            ],
            "text/plain": [
              "Empty DataFrame\n",
              "Columns: [lesion_id, image_id, dx, dx_type, age, sex, localization, image_path]\n",
              "Index: []"
            ]
          },
          "execution_count": 15,
          "metadata": {},
          "output_type": "execute_result"
        }
      ],
      "source": [
        "metadata"
      ]
    },
    {
      "cell_type": "code",
      "execution_count": null,
      "id": "AoTVoOO9O3In",
      "metadata": {
        "id": "AoTVoOO9O3In"
      },
      "outputs": [],
      "source": [
        "metadata.to_csv(\"/content/drive/MyDrive/mini_proj_data/proj_metadata.csv\",index=False)"
      ]
    },
    {
      "cell_type": "code",
      "execution_count": null,
      "id": "KGJWfgNLPWUt",
      "metadata": {
        "id": "KGJWfgNLPWUt"
      },
      "outputs": [],
      "source": []
    }
  ],
  "metadata": {
    "colab": {
      "provenance": []
    },
    "kernelspec": {
      "display_name": "venv (3.13.5)",
      "language": "python",
      "name": "python3"
    },
    "language_info": {
      "codemirror_mode": {
        "name": "ipython",
        "version": 3
      },
      "file_extension": ".py",
      "mimetype": "text/x-python",
      "name": "python",
      "nbconvert_exporter": "python",
      "pygments_lexer": "ipython3",
      "version": "3.13.5"
    }
  },
  "nbformat": 4,
  "nbformat_minor": 5
}
