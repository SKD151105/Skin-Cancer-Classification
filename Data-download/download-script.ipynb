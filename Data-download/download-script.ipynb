{
  "cells": [
    {
      "cell_type": "code",
      "execution_count": 1,
      "id": "ae194368",
      "metadata": {
        "vscode": {
          "languageId": "plaintext"
        },
        "id": "ae194368"
      },
      "outputs": [],
      "source": [
        "#this change is made throguh github"
      ]
    },
    {
      "cell_type": "code",
      "source": [
        "#again test"
      ],
      "metadata": {
        "id": "Kv-hZmHh-K2g"
      },
      "id": "Kv-hZmHh-K2g",
      "execution_count": null,
      "outputs": []
    }
  ],
  "metadata": {
    "language_info": {
      "name": "python"
    },
    "colab": {
      "provenance": [],
      "toc_visible": true
    },
    "kernelspec": {
      "name": "python3",
      "display_name": "Python 3"
    }
  },
  "nbformat": 4,
  "nbformat_minor": 5
}