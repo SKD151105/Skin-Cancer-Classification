{
 "cells": [
  {
   "cell_type": "code",
   "execution_count": 1,
   "id": "e42f3485",
   "metadata": {},
   "outputs": [],
   "source": [
    "import seaborn as sns\n",
    "import matplotlib.pyplot as plt\n",
    "from imblearn.over_sampling import RandomOverSampler \n",
    "import numpy as np\n",
    "from sklearn.model_selection import train_test_split\n",
    "import os, cv2\n",
    "import tensorflow as tf\n",
    "from tensorflow.keras.models import Sequential\n",
    "from tensorflow.keras.layers import Conv2D, Flatten, Dense, MaxPool2D"
   ]
  },
  {
   "cell_type": "code",
   "execution_count": 2,
   "id": "e2d6a68c",
   "metadata": {},
   "outputs": [
    {
     "data": {
      "text/html": [
       "<div>\n",
       "<style scoped>\n",
       "    .dataframe tbody tr th:only-of-type {\n",
       "        vertical-align: middle;\n",
       "    }\n",
       "\n",
       "    .dataframe tbody tr th {\n",
       "        vertical-align: top;\n",
       "    }\n",
       "\n",
       "    .dataframe thead th {\n",
       "        text-align: right;\n",
       "    }\n",
       "</style>\n",
       "<table border=\"1\" class=\"dataframe\">\n",
       "  <thead>\n",
       "    <tr style=\"text-align: right;\">\n",
       "      <th></th>\n",
       "      <th>pixel0000</th>\n",
       "      <th>pixel0001</th>\n",
       "      <th>pixel0002</th>\n",
       "      <th>pixel0003</th>\n",
       "      <th>pixel0004</th>\n",
       "      <th>pixel0005</th>\n",
       "      <th>pixel0006</th>\n",
       "      <th>pixel0007</th>\n",
       "      <th>pixel0008</th>\n",
       "      <th>pixel0009</th>\n",
       "      <th>...</th>\n",
       "      <th>pixel2343</th>\n",
       "      <th>pixel2344</th>\n",
       "      <th>pixel2345</th>\n",
       "      <th>pixel2346</th>\n",
       "      <th>pixel2347</th>\n",
       "      <th>pixel2348</th>\n",
       "      <th>pixel2349</th>\n",
       "      <th>pixel2350</th>\n",
       "      <th>pixel2351</th>\n",
       "      <th>label</th>\n",
       "    </tr>\n",
       "  </thead>\n",
       "  <tbody>\n",
       "    <tr>\n",
       "      <th>0</th>\n",
       "      <td>192</td>\n",
       "      <td>153</td>\n",
       "      <td>193</td>\n",
       "      <td>195</td>\n",
       "      <td>155</td>\n",
       "      <td>192</td>\n",
       "      <td>197</td>\n",
       "      <td>154</td>\n",
       "      <td>185</td>\n",
       "      <td>202</td>\n",
       "      <td>...</td>\n",
       "      <td>173</td>\n",
       "      <td>124</td>\n",
       "      <td>138</td>\n",
       "      <td>183</td>\n",
       "      <td>147</td>\n",
       "      <td>166</td>\n",
       "      <td>185</td>\n",
       "      <td>154</td>\n",
       "      <td>177</td>\n",
       "      <td>2</td>\n",
       "    </tr>\n",
       "    <tr>\n",
       "      <th>1</th>\n",
       "      <td>25</td>\n",
       "      <td>14</td>\n",
       "      <td>30</td>\n",
       "      <td>68</td>\n",
       "      <td>48</td>\n",
       "      <td>75</td>\n",
       "      <td>123</td>\n",
       "      <td>93</td>\n",
       "      <td>126</td>\n",
       "      <td>158</td>\n",
       "      <td>...</td>\n",
       "      <td>60</td>\n",
       "      <td>39</td>\n",
       "      <td>55</td>\n",
       "      <td>25</td>\n",
       "      <td>14</td>\n",
       "      <td>28</td>\n",
       "      <td>25</td>\n",
       "      <td>14</td>\n",
       "      <td>27</td>\n",
       "      <td>2</td>\n",
       "    </tr>\n",
       "    <tr>\n",
       "      <th>2</th>\n",
       "      <td>192</td>\n",
       "      <td>138</td>\n",
       "      <td>153</td>\n",
       "      <td>200</td>\n",
       "      <td>145</td>\n",
       "      <td>163</td>\n",
       "      <td>201</td>\n",
       "      <td>142</td>\n",
       "      <td>160</td>\n",
       "      <td>206</td>\n",
       "      <td>...</td>\n",
       "      <td>167</td>\n",
       "      <td>129</td>\n",
       "      <td>143</td>\n",
       "      <td>159</td>\n",
       "      <td>124</td>\n",
       "      <td>142</td>\n",
       "      <td>136</td>\n",
       "      <td>104</td>\n",
       "      <td>117</td>\n",
       "      <td>2</td>\n",
       "    </tr>\n",
       "    <tr>\n",
       "      <th>3</th>\n",
       "      <td>38</td>\n",
       "      <td>19</td>\n",
       "      <td>30</td>\n",
       "      <td>95</td>\n",
       "      <td>59</td>\n",
       "      <td>72</td>\n",
       "      <td>143</td>\n",
       "      <td>103</td>\n",
       "      <td>119</td>\n",
       "      <td>171</td>\n",
       "      <td>...</td>\n",
       "      <td>44</td>\n",
       "      <td>26</td>\n",
       "      <td>36</td>\n",
       "      <td>25</td>\n",
       "      <td>12</td>\n",
       "      <td>17</td>\n",
       "      <td>25</td>\n",
       "      <td>12</td>\n",
       "      <td>15</td>\n",
       "      <td>2</td>\n",
       "    </tr>\n",
       "    <tr>\n",
       "      <th>4</th>\n",
       "      <td>158</td>\n",
       "      <td>113</td>\n",
       "      <td>139</td>\n",
       "      <td>194</td>\n",
       "      <td>144</td>\n",
       "      <td>174</td>\n",
       "      <td>215</td>\n",
       "      <td>162</td>\n",
       "      <td>191</td>\n",
       "      <td>225</td>\n",
       "      <td>...</td>\n",
       "      <td>209</td>\n",
       "      <td>166</td>\n",
       "      <td>185</td>\n",
       "      <td>172</td>\n",
       "      <td>135</td>\n",
       "      <td>149</td>\n",
       "      <td>109</td>\n",
       "      <td>78</td>\n",
       "      <td>92</td>\n",
       "      <td>2</td>\n",
       "    </tr>\n",
       "  </tbody>\n",
       "</table>\n",
       "<p>5 rows × 2353 columns</p>\n",
       "</div>"
      ],
      "text/plain": [
       "   pixel0000  pixel0001  pixel0002  pixel0003  pixel0004  pixel0005  \\\n",
       "0        192        153        193        195        155        192   \n",
       "1         25         14         30         68         48         75   \n",
       "2        192        138        153        200        145        163   \n",
       "3         38         19         30         95         59         72   \n",
       "4        158        113        139        194        144        174   \n",
       "\n",
       "   pixel0006  pixel0007  pixel0008  pixel0009  ...  pixel2343  pixel2344  \\\n",
       "0        197        154        185        202  ...        173        124   \n",
       "1        123         93        126        158  ...         60         39   \n",
       "2        201        142        160        206  ...        167        129   \n",
       "3        143        103        119        171  ...         44         26   \n",
       "4        215        162        191        225  ...        209        166   \n",
       "\n",
       "   pixel2345  pixel2346  pixel2347  pixel2348  pixel2349  pixel2350  \\\n",
       "0        138        183        147        166        185        154   \n",
       "1         55         25         14         28         25         14   \n",
       "2        143        159        124        142        136        104   \n",
       "3         36         25         12         17         25         12   \n",
       "4        185        172        135        149        109         78   \n",
       "\n",
       "   pixel2351  label  \n",
       "0        177      2  \n",
       "1         27      2  \n",
       "2        117      2  \n",
       "3         15      2  \n",
       "4         92      2  \n",
       "\n",
       "[5 rows x 2353 columns]"
      ]
     },
     "execution_count": 2,
     "metadata": {},
     "output_type": "execute_result"
    }
   ],
   "source": [
    "import pandas as pd\n",
    "data = pd.read_csv('hmnist_28_28_RGB.csv')\n",
    "data.head()"
   ]
  },
  {
   "cell_type": "code",
   "execution_count": 3,
   "id": "732fa945",
   "metadata": {},
   "outputs": [
    {
     "data": {
      "text/plain": [
       "label\n",
       "4    6705\n",
       "6    1113\n",
       "2    1099\n",
       "1     514\n",
       "0     327\n",
       "5     142\n",
       "3     115\n",
       "Name: count, dtype: int64"
      ]
     },
     "execution_count": 3,
     "metadata": {},
     "output_type": "execute_result"
    }
   ],
   "source": [
    "data.label.value_counts()"
   ]
  },
  {
   "cell_type": "code",
   "execution_count": null,
   "id": "943648cd",
   "metadata": {},
   "outputs": [
    {
     "name": "stdout",
     "output_type": "stream",
     "text": [
      "CSV created: images_28x28_rgb.csv\n"
     ]
    }
   ],
   "source": [
    "import os\n",
    "from PIL import Image\n",
    "\n",
    "# Path to second dataset\n",
    "data_dir = \"E:\\\\Programming\\\\cv-skin-cancer\\\\archive\\\\Oily-Dry-Skin-Types\\\\all\"\n",
    "\n",
    "# List to store flattened image data\n",
    "rows = []\n",
    "\n",
    "for label in os.listdir(data_dir):\n",
    "    folder = os.path.join(data_dir, label)\n",
    "    if not os.path.isdir(folder):\n",
    "        continue\n",
    "\n",
    "    for img_name in os.listdir(folder):\n",
    "        img_path = os.path.join(folder, img_name)\n",
    "\n",
    "        # Open and resize \n",
    "        img = Image.open(img_path).convert('RGB').resize((28, 28))\n",
    "\n",
    "        # Flatten (28x28x3 = 2352 values)\n",
    "        img_array = np.array(img).flatten()\n",
    "\n",
    "        # Add label at the end\n",
    "        img_array = np.append(img_array, 7)  #all normal skin is labeled as 7\n",
    "\n",
    "        rows.append(img_array)\n",
    "\n",
    "# Convert to DataFrame\n",
    "num_pixels = 28 * 28 * 3\n",
    "columns = [f'pixel{str(i).zfill(4)}' for i in range(num_pixels)] + ['label']\n",
    "df = pd.DataFrame(rows, columns=columns)\n",
    "\n",
    "# Save as CSV\n",
    "#df.to_csv('images_28x28_rgb.csv', index=False)\n",
    "print(\"CSV created: images_28x28_rgb.csv\")\n"
   ]
  },
  {
   "cell_type": "code",
   "execution_count": 5,
   "id": "bbe2be68",
   "metadata": {},
   "outputs": [
    {
     "data": {
      "text/html": [
       "<div>\n",
       "<style scoped>\n",
       "    .dataframe tbody tr th:only-of-type {\n",
       "        vertical-align: middle;\n",
       "    }\n",
       "\n",
       "    .dataframe tbody tr th {\n",
       "        vertical-align: top;\n",
       "    }\n",
       "\n",
       "    .dataframe thead th {\n",
       "        text-align: right;\n",
       "    }\n",
       "</style>\n",
       "<table border=\"1\" class=\"dataframe\">\n",
       "  <thead>\n",
       "    <tr style=\"text-align: right;\">\n",
       "      <th></th>\n",
       "      <th>pixel0000</th>\n",
       "      <th>pixel0001</th>\n",
       "      <th>pixel0002</th>\n",
       "      <th>pixel0003</th>\n",
       "      <th>pixel0004</th>\n",
       "      <th>pixel0005</th>\n",
       "      <th>pixel0006</th>\n",
       "      <th>pixel0007</th>\n",
       "      <th>pixel0008</th>\n",
       "      <th>pixel0009</th>\n",
       "      <th>...</th>\n",
       "      <th>pixel2343</th>\n",
       "      <th>pixel2344</th>\n",
       "      <th>pixel2345</th>\n",
       "      <th>pixel2346</th>\n",
       "      <th>pixel2347</th>\n",
       "      <th>pixel2348</th>\n",
       "      <th>pixel2349</th>\n",
       "      <th>pixel2350</th>\n",
       "      <th>pixel2351</th>\n",
       "      <th>label</th>\n",
       "    </tr>\n",
       "  </thead>\n",
       "  <tbody>\n",
       "    <tr>\n",
       "      <th>0</th>\n",
       "      <td>0</td>\n",
       "      <td>0</td>\n",
       "      <td>0</td>\n",
       "      <td>1</td>\n",
       "      <td>1</td>\n",
       "      <td>1</td>\n",
       "      <td>1</td>\n",
       "      <td>1</td>\n",
       "      <td>1</td>\n",
       "      <td>1</td>\n",
       "      <td>...</td>\n",
       "      <td>1</td>\n",
       "      <td>1</td>\n",
       "      <td>1</td>\n",
       "      <td>1</td>\n",
       "      <td>1</td>\n",
       "      <td>1</td>\n",
       "      <td>0</td>\n",
       "      <td>0</td>\n",
       "      <td>0</td>\n",
       "      <td>7</td>\n",
       "    </tr>\n",
       "    <tr>\n",
       "      <th>1</th>\n",
       "      <td>38</td>\n",
       "      <td>38</td>\n",
       "      <td>38</td>\n",
       "      <td>38</td>\n",
       "      <td>38</td>\n",
       "      <td>38</td>\n",
       "      <td>38</td>\n",
       "      <td>38</td>\n",
       "      <td>38</td>\n",
       "      <td>38</td>\n",
       "      <td>...</td>\n",
       "      <td>38</td>\n",
       "      <td>38</td>\n",
       "      <td>38</td>\n",
       "      <td>38</td>\n",
       "      <td>38</td>\n",
       "      <td>38</td>\n",
       "      <td>38</td>\n",
       "      <td>38</td>\n",
       "      <td>38</td>\n",
       "      <td>7</td>\n",
       "    </tr>\n",
       "    <tr>\n",
       "      <th>2</th>\n",
       "      <td>0</td>\n",
       "      <td>0</td>\n",
       "      <td>0</td>\n",
       "      <td>0</td>\n",
       "      <td>0</td>\n",
       "      <td>0</td>\n",
       "      <td>0</td>\n",
       "      <td>0</td>\n",
       "      <td>0</td>\n",
       "      <td>0</td>\n",
       "      <td>...</td>\n",
       "      <td>0</td>\n",
       "      <td>0</td>\n",
       "      <td>0</td>\n",
       "      <td>0</td>\n",
       "      <td>0</td>\n",
       "      <td>0</td>\n",
       "      <td>0</td>\n",
       "      <td>0</td>\n",
       "      <td>0</td>\n",
       "      <td>7</td>\n",
       "    </tr>\n",
       "    <tr>\n",
       "      <th>3</th>\n",
       "      <td>1</td>\n",
       "      <td>1</td>\n",
       "      <td>1</td>\n",
       "      <td>1</td>\n",
       "      <td>1</td>\n",
       "      <td>1</td>\n",
       "      <td>2</td>\n",
       "      <td>2</td>\n",
       "      <td>2</td>\n",
       "      <td>2</td>\n",
       "      <td>...</td>\n",
       "      <td>2</td>\n",
       "      <td>2</td>\n",
       "      <td>2</td>\n",
       "      <td>1</td>\n",
       "      <td>1</td>\n",
       "      <td>1</td>\n",
       "      <td>2</td>\n",
       "      <td>2</td>\n",
       "      <td>2</td>\n",
       "      <td>7</td>\n",
       "    </tr>\n",
       "    <tr>\n",
       "      <th>4</th>\n",
       "      <td>7</td>\n",
       "      <td>7</td>\n",
       "      <td>7</td>\n",
       "      <td>7</td>\n",
       "      <td>7</td>\n",
       "      <td>7</td>\n",
       "      <td>6</td>\n",
       "      <td>6</td>\n",
       "      <td>6</td>\n",
       "      <td>5</td>\n",
       "      <td>...</td>\n",
       "      <td>33</td>\n",
       "      <td>33</td>\n",
       "      <td>33</td>\n",
       "      <td>33</td>\n",
       "      <td>33</td>\n",
       "      <td>33</td>\n",
       "      <td>6</td>\n",
       "      <td>6</td>\n",
       "      <td>6</td>\n",
       "      <td>7</td>\n",
       "    </tr>\n",
       "  </tbody>\n",
       "</table>\n",
       "<p>5 rows × 2353 columns</p>\n",
       "</div>"
      ],
      "text/plain": [
       "   pixel0000  pixel0001  pixel0002  pixel0003  pixel0004  pixel0005  \\\n",
       "0          0          0          0          1          1          1   \n",
       "1         38         38         38         38         38         38   \n",
       "2          0          0          0          0          0          0   \n",
       "3          1          1          1          1          1          1   \n",
       "4          7          7          7          7          7          7   \n",
       "\n",
       "   pixel0006  pixel0007  pixel0008  pixel0009  ...  pixel2343  pixel2344  \\\n",
       "0          1          1          1          1  ...          1          1   \n",
       "1         38         38         38         38  ...         38         38   \n",
       "2          0          0          0          0  ...          0          0   \n",
       "3          2          2          2          2  ...          2          2   \n",
       "4          6          6          6          5  ...         33         33   \n",
       "\n",
       "   pixel2345  pixel2346  pixel2347  pixel2348  pixel2349  pixel2350  \\\n",
       "0          1          1          1          1          0          0   \n",
       "1         38         38         38         38         38         38   \n",
       "2          0          0          0          0          0          0   \n",
       "3          2          1          1          1          2          2   \n",
       "4         33         33         33         33          6          6   \n",
       "\n",
       "   pixel2351  label  \n",
       "0          0      7  \n",
       "1         38      7  \n",
       "2          0      7  \n",
       "3          2      7  \n",
       "4          6      7  \n",
       "\n",
       "[5 rows x 2353 columns]"
      ]
     },
     "execution_count": 5,
     "metadata": {},
     "output_type": "execute_result"
    }
   ],
   "source": [
    "df.head()"
   ]
  },
  {
   "cell_type": "code",
   "execution_count": 6,
   "id": "225fb067",
   "metadata": {},
   "outputs": [
    {
     "data": {
      "text/plain": [
       "(10015, 2353)"
      ]
     },
     "execution_count": 6,
     "metadata": {},
     "output_type": "execute_result"
    }
   ],
   "source": [
    "data.shape"
   ]
  },
  {
   "cell_type": "code",
   "execution_count": 7,
   "id": "bd873baa",
   "metadata": {},
   "outputs": [
    {
     "data": {
      "text/plain": [
       "(3152, 2353)"
      ]
     },
     "execution_count": 7,
     "metadata": {},
     "output_type": "execute_result"
    }
   ],
   "source": [
    "df.shape"
   ]
  },
  {
   "cell_type": "code",
   "execution_count": 8,
   "id": "2131a32d",
   "metadata": {},
   "outputs": [
    {
     "data": {
      "text/plain": [
       "label\n",
       "4    6705\n",
       "6    1113\n",
       "2    1099\n",
       "1     514\n",
       "0     327\n",
       "5     142\n",
       "3     115\n",
       "Name: count, dtype: int64"
      ]
     },
     "execution_count": 8,
     "metadata": {},
     "output_type": "execute_result"
    }
   ],
   "source": [
    "data['label'].value_counts()"
   ]
  },
  {
   "cell_type": "code",
   "execution_count": 9,
   "id": "a8135b60",
   "metadata": {},
   "outputs": [],
   "source": [
    "data = pd.concat([data, df], ignore_index=True)"
   ]
  },
  {
   "cell_type": "code",
   "execution_count": 10,
   "id": "39eaf95c",
   "metadata": {},
   "outputs": [
    {
     "data": {
      "text/plain": [
       "label\n",
       "4    6705\n",
       "7    3152\n",
       "6    1113\n",
       "2    1099\n",
       "1     514\n",
       "0     327\n",
       "5     142\n",
       "3     115\n",
       "Name: count, dtype: int64"
      ]
     },
     "execution_count": 10,
     "metadata": {},
     "output_type": "execute_result"
    }
   ],
   "source": [
    "data['label'].value_counts()"
   ]
  },
  {
   "cell_type": "code",
   "execution_count": 11,
   "id": "657523af",
   "metadata": {},
   "outputs": [
    {
     "data": {
      "text/plain": [
       "(13167, 2353)"
      ]
     },
     "execution_count": 11,
     "metadata": {},
     "output_type": "execute_result"
    }
   ],
   "source": [
    "data.shape"
   ]
  },
  {
   "cell_type": "code",
   "execution_count": 12,
   "id": "3d7b3fb3",
   "metadata": {},
   "outputs": [],
   "source": [
    "y = data['label']\n",
    "x = data.drop(columns = ['label'])"
   ]
  },
  {
   "cell_type": "code",
   "execution_count": 13,
   "id": "da135dab",
   "metadata": {},
   "outputs": [
    {
     "name": "stderr",
     "output_type": "stream",
     "text": [
      "c:\\Users\\ACER\\anaconda3\\envs\\tf-2190\\lib\\site-packages\\sklearn\\base.py:484: FutureWarning: `BaseEstimator._check_n_features` is deprecated in 1.6 and will be removed in 1.7. Use `sklearn.utils.validation._check_n_features` instead.\n",
      "  warnings.warn(\n",
      "c:\\Users\\ACER\\anaconda3\\envs\\tf-2190\\lib\\site-packages\\sklearn\\base.py:493: FutureWarning: `BaseEstimator._check_feature_names` is deprecated in 1.6 and will be removed in 1.7. Use `sklearn.utils.validation._check_feature_names` instead.\n",
      "  warnings.warn(\n"
     ]
    }
   ],
   "source": [
    "oversample = RandomOverSampler()\n",
    "x,y  = oversample.fit_resample(x,y)"
   ]
  },
  {
   "cell_type": "code",
   "execution_count": 14,
   "id": "96442206",
   "metadata": {},
   "outputs": [
    {
     "name": "stdout",
     "output_type": "stream",
     "text": [
      "Shape of X : (53640, 28, 28, 3)\n"
     ]
    }
   ],
   "source": [
    "x = np.array(x).reshape(-1,28,28,3)\n",
    "print('Shape of X :',x.shape)"
   ]
  },
  {
   "cell_type": "code",
   "execution_count": 15,
   "id": "77d72bb2",
   "metadata": {},
   "outputs": [],
   "source": [
    "x = (x-np.mean(x))/np.std(x)\n",
    "X_train, X_test, Y_train, Y_test = train_test_split(x,y, test_size=0.2, random_state=1)"
   ]
  },
  {
   "cell_type": "code",
   "execution_count": 20,
   "id": "18bb01f7",
   "metadata": {},
   "outputs": [
    {
     "name": "stdout",
     "output_type": "stream",
     "text": [
      "Model: \"sequential_1\"\n",
      "_________________________________________________________________\n",
      " Layer (type)                Output Shape              Param #   \n",
      "=================================================================\n",
      " conv2d_4 (Conv2D)           (None, 28, 28, 16)        448       \n",
      "                                                                 \n",
      " conv2d_5 (Conv2D)           (None, 26, 26, 32)        4640      \n",
      "                                                                 \n",
      " max_pooling2d_2 (MaxPooling  (None, 13, 13, 32)       0         \n",
      " 2D)                                                             \n",
      "                                                                 \n",
      " conv2d_6 (Conv2D)           (None, 13, 13, 32)        9248      \n",
      "                                                                 \n",
      " conv2d_7 (Conv2D)           (None, 11, 11, 64)        18496     \n",
      "                                                                 \n",
      " max_pooling2d_3 (MaxPooling  (None, 6, 6, 64)         0         \n",
      " 2D)                                                             \n",
      "                                                                 \n",
      " flatten_1 (Flatten)         (None, 2304)              0         \n",
      "                                                                 \n",
      " dense_3 (Dense)             (None, 64)                147520    \n",
      "                                                                 \n",
      " dense_4 (Dense)             (None, 32)                2080      \n",
      "                                                                 \n",
      " dense_5 (Dense)             (None, 8)                 264       \n",
      "                                                                 \n",
      "=================================================================\n",
      "Total params: 182,696\n",
      "Trainable params: 182,696\n",
      "Non-trainable params: 0\n",
      "_________________________________________________________________\n"
     ]
    }
   ],
   "source": [
    "model = Sequential()\n",
    "model.add(Conv2D(16, kernel_size = (3,3), input_shape = (28, 28, 3), activation = 'relu', padding = 'same'))\n",
    "model.add(Conv2D(32, kernel_size = (3,3), activation = 'relu'))\n",
    "model.add(MaxPool2D(pool_size = (2,2)))\n",
    "model.add(Conv2D(32, kernel_size = (3,3), activation = 'relu', padding = 'same'))\n",
    "model.add(Conv2D(64, kernel_size = (3,3), activation = 'relu'))\n",
    "model.add(MaxPool2D(pool_size = (2,2), padding = 'same'))\n",
    "model.add(Flatten())\n",
    "model.add(Dense(64, activation='relu'))\n",
    "model.add(Dense(32, activation='relu'))\n",
    "model.add(Dense(8, activation='softmax'))\n",
    "model.summary()"
   ]
  },
  {
   "cell_type": "code",
   "execution_count": 21,
   "id": "2c6069ee",
   "metadata": {},
   "outputs": [
    {
     "name": "stdout",
     "output_type": "stream",
     "text": [
      "Epoch 1/30\n",
      "1073/1073 [==============================] - 9s 8ms/step - loss: 0.9661 - accuracy: 0.6315 - val_loss: 0.5168 - val_accuracy: 0.8079\n",
      "Epoch 2/30\n",
      "1073/1073 [==============================] - 9s 8ms/step - loss: 0.3938 - accuracy: 0.8560 - val_loss: 0.3062 - val_accuracy: 0.8844\n",
      "Epoch 3/30\n",
      "1073/1073 [==============================] - 8s 8ms/step - loss: 0.2480 - accuracy: 0.9090 - val_loss: 0.2420 - val_accuracy: 0.9139\n",
      "Epoch 4/30\n",
      "1073/1073 [==============================] - 8s 7ms/step - loss: 0.1781 - accuracy: 0.9342 - val_loss: 0.1674 - val_accuracy: 0.9336\n",
      "Epoch 5/30\n",
      "1073/1073 [==============================] - 8s 8ms/step - loss: 0.1433 - accuracy: 0.9461 - val_loss: 0.1648 - val_accuracy: 0.9444\n",
      "Epoch 6/30\n",
      "1073/1073 [==============================] - 8s 7ms/step - loss: 0.1143 - accuracy: 0.9590 - val_loss: 0.1590 - val_accuracy: 0.9489\n",
      "Epoch 7/30\n",
      "1073/1073 [==============================] - 7s 7ms/step - loss: 0.0892 - accuracy: 0.9677 - val_loss: 0.1429 - val_accuracy: 0.9519\n",
      "Epoch 8/30\n",
      "1073/1073 [==============================] - 8s 7ms/step - loss: 0.0722 - accuracy: 0.9747 - val_loss: 0.1770 - val_accuracy: 0.9516\n",
      "Epoch 9/30\n",
      "1073/1073 [==============================] - 7s 7ms/step - loss: 0.0764 - accuracy: 0.9729 - val_loss: 0.1438 - val_accuracy: 0.9638\n",
      "Epoch 10/30\n",
      "1073/1073 [==============================] - 8s 7ms/step - loss: 0.0628 - accuracy: 0.9788 - val_loss: 0.1372 - val_accuracy: 0.9670\n",
      "Epoch 11/30\n",
      "1073/1073 [==============================] - 8s 7ms/step - loss: 0.0574 - accuracy: 0.9804 - val_loss: 0.1204 - val_accuracy: 0.9697\n",
      "Epoch 12/30\n",
      "1073/1073 [==============================] - 8s 7ms/step - loss: 0.0500 - accuracy: 0.9830 - val_loss: 0.1361 - val_accuracy: 0.9680\n",
      "Epoch 13/30\n",
      "1073/1073 [==============================] - 8s 8ms/step - loss: 0.0494 - accuracy: 0.9833 - val_loss: 0.1740 - val_accuracy: 0.9628\n",
      "Epoch 14/30\n",
      "1073/1073 [==============================] - 9s 8ms/step - loss: 0.0473 - accuracy: 0.9840 - val_loss: 0.2110 - val_accuracy: 0.9541\n",
      "Epoch 15/30\n",
      "1073/1073 [==============================] - 9s 8ms/step - loss: 0.0414 - accuracy: 0.9867 - val_loss: 0.1758 - val_accuracy: 0.9613\n",
      "Epoch 16/30\n",
      "1073/1073 [==============================] - 10s 9ms/step - loss: 0.0408 - accuracy: 0.9868 - val_loss: 0.1253 - val_accuracy: 0.9715\n",
      "Epoch 17/30\n",
      "1073/1073 [==============================] - 8s 8ms/step - loss: 0.0366 - accuracy: 0.9876 - val_loss: 0.1499 - val_accuracy: 0.9664\n",
      "Epoch 18/30\n",
      "1073/1073 [==============================] - 9s 8ms/step - loss: 0.0371 - accuracy: 0.9877 - val_loss: 0.1604 - val_accuracy: 0.9722\n",
      "Epoch 19/30\n",
      "1073/1073 [==============================] - 8s 8ms/step - loss: 0.0323 - accuracy: 0.9903 - val_loss: 0.1372 - val_accuracy: 0.9746\n",
      "Epoch 20/30\n",
      "1073/1073 [==============================] - 8s 8ms/step - loss: 0.0371 - accuracy: 0.9881 - val_loss: 0.1611 - val_accuracy: 0.9712\n",
      "Epoch 21/30\n",
      "1073/1073 [==============================] - 9s 8ms/step - loss: 0.0318 - accuracy: 0.9905 - val_loss: 0.1789 - val_accuracy: 0.9685\n",
      "Epoch 22/30\n",
      "1073/1073 [==============================] - 8s 8ms/step - loss: 0.0363 - accuracy: 0.9890 - val_loss: 0.1582 - val_accuracy: 0.9687\n",
      "Epoch 23/30\n",
      "1073/1073 [==============================] - 8s 8ms/step - loss: 0.0240 - accuracy: 0.9927 - val_loss: 0.1329 - val_accuracy: 0.9783\n",
      "Epoch 24/30\n",
      "1073/1073 [==============================] - 8s 8ms/step - loss: 0.0452 - accuracy: 0.9871 - val_loss: 0.1826 - val_accuracy: 0.9583\n",
      "Epoch 25/30\n",
      "1073/1073 [==============================] - 9s 8ms/step - loss: 0.0299 - accuracy: 0.9911 - val_loss: 0.2081 - val_accuracy: 0.9605\n",
      "Epoch 26/30\n",
      "1073/1073 [==============================] - 8s 8ms/step - loss: 0.0275 - accuracy: 0.9920 - val_loss: 0.2104 - val_accuracy: 0.9683\n",
      "Epoch 27/30\n",
      "1073/1073 [==============================] - 9s 8ms/step - loss: 0.0265 - accuracy: 0.9924 - val_loss: 0.1761 - val_accuracy: 0.9647\n",
      "Epoch 28/30\n",
      "1073/1073 [==============================] - 8s 8ms/step - loss: 0.0266 - accuracy: 0.9918 - val_loss: 0.1968 - val_accuracy: 0.9663\n",
      "Epoch 29/30\n",
      "1073/1073 [==============================] - 9s 8ms/step - loss: 0.0302 - accuracy: 0.9911 - val_loss: 0.1564 - val_accuracy: 0.9779\n",
      "Epoch 30/30\n",
      "1073/1073 [==============================] - 8s 8ms/step - loss: 0.0326 - accuracy: 0.9904 - val_loss: 0.1788 - val_accuracy: 0.9708\n"
     ]
    }
   ],
   "source": [
    "model.compile(loss = 'sparse_categorical_crossentropy',\n",
    "             optimizer = 'adam',\n",
    "              metrics = ['accuracy'])\n",
    "history = model.fit(X_train,\n",
    "                    Y_train,\n",
    "                    validation_split=0.2,\n",
    "                    batch_size = 32,\n",
    "                    epochs = 30)"
   ]
  },
  {
   "cell_type": "code",
   "execution_count": 24,
   "id": "b1b8d6af",
   "metadata": {},
   "outputs": [
    {
     "data": {
      "image/png": "[encoded data removed]",
      "text/plain": [
       "<Figure size 640x480 with 1 Axes>"
      ]
     },
     "metadata": {},
     "output_type": "display_data"
    }
   ],
   "source": [
    "plt.plot(history.history['accuracy'])\n",
    "plt.plot(history.history['val_accuracy'])\n",
    "plt.title('model accuracy')\n",
    "plt.ylabel('accuracy')\n",
    "plt.xlabel('epoch')\n",
    "plt.legend(['train', 'val'], loc='upper left')\n",
    "plt.show()"
   ]
  },
  {
   "cell_type": "code",
   "execution_count": 25,
   "id": "2c9fa778",
   "metadata": {},
   "outputs": [
    {
     "name": "stdout",
     "output_type": "stream",
     "text": [
      "336/336 - 1s - loss: 0.1635 - accuracy: 0.9726 - 1s/epoch - 4ms/step\n"
     ]
    }
   ],
   "source": [
    "loss, acc = model.evaluate(X_test, Y_test, verbose=2)"
   ]
  }
 ],
 "metadata": {
  "kernelspec": {
   "display_name": "tf-2190",
   "language": "python",
   "name": "python3"
  },
  "language_info": {
   "codemirror_mode": {
    "name": "ipython",
    "version": 3
   },
   "file_extension": ".py",
   "mimetype": "text/x-python",
   "name": "python",
   "nbconvert_exporter": "python",
   "pygments_lexer": "ipython3",
   "version": "3.9.23"
  }
 },
 "nbformat": 4,
 "nbformat_minor": 5
}
