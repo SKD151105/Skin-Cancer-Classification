{
 "cells": [
  {
   "cell_type": "code",
   "execution_count": 7,
   "id": "e42f3485",
   "metadata": {},
   "outputs": [],
   "source": [
    "import seaborn as sns\n",
    "import matplotlib.pyplot as plt\n",
    "from imblearn.over_sampling import RandomOverSampler \n",
    "import numpy as np\n",
    "from sklearn.model_selection import train_test_split\n",
    "import os, cv2\n",
    "import tensorflow as tf\n",
    "from tensorflow.keras.models import Sequential\n",
    "from tensorflow.keras.layers import Conv2D, Flatten, Dense, MaxPool2D"
   ]
  },
  {
   "cell_type": "code",
   "execution_count": 3,
   "id": "e2d6a68c",
   "metadata": {},
   "outputs": [
    {
     "data": {
      "text/html": [
       "<div>\n",
       "<style scoped>\n",
       "    .dataframe tbody tr th:only-of-type {\n",
       "        vertical-align: middle;\n",
       "    }\n",
       "\n",
       "    .dataframe tbody tr th {\n",
       "        vertical-align: top;\n",
       "    }\n",
       "\n",
       "    .dataframe thead th {\n",
       "        text-align: right;\n",
       "    }\n",
       "</style>\n",
       "<table border=\"1\" class=\"dataframe\">\n",
       "  <thead>\n",
       "    <tr style=\"text-align: right;\">\n",
       "      <th></th>\n",
       "      <th>pixel0000</th>\n",
       "      <th>pixel0001</th>\n",
       "      <th>pixel0002</th>\n",
       "      <th>pixel0003</th>\n",
       "      <th>pixel0004</th>\n",
       "      <th>pixel0005</th>\n",
       "      <th>pixel0006</th>\n",
       "      <th>pixel0007</th>\n",
       "      <th>pixel0008</th>\n",
       "      <th>pixel0009</th>\n",
       "      <th>...</th>\n",
       "      <th>pixel2343</th>\n",
       "      <th>pixel2344</th>\n",
       "      <th>pixel2345</th>\n",
       "      <th>pixel2346</th>\n",
       "      <th>pixel2347</th>\n",
       "      <th>pixel2348</th>\n",
       "      <th>pixel2349</th>\n",
       "      <th>pixel2350</th>\n",
       "      <th>pixel2351</th>\n",
       "      <th>label</th>\n",
       "    </tr>\n",
       "  </thead>\n",
       "  <tbody>\n",
       "    <tr>\n",
       "      <th>0</th>\n",
       "      <td>192</td>\n",
       "      <td>153</td>\n",
       "      <td>193</td>\n",
       "      <td>195</td>\n",
       "      <td>155</td>\n",
       "      <td>192</td>\n",
       "      <td>197</td>\n",
       "      <td>154</td>\n",
       "      <td>185</td>\n",
       "      <td>202</td>\n",
       "      <td>...</td>\n",
       "      <td>173</td>\n",
       "      <td>124</td>\n",
       "      <td>138</td>\n",
       "      <td>183</td>\n",
       "      <td>147</td>\n",
       "      <td>166</td>\n",
       "      <td>185</td>\n",
       "      <td>154</td>\n",
       "      <td>177</td>\n",
       "      <td>2</td>\n",
       "    </tr>\n",
       "    <tr>\n",
       "      <th>1</th>\n",
       "      <td>25</td>\n",
       "      <td>14</td>\n",
       "      <td>30</td>\n",
       "      <td>68</td>\n",
       "      <td>48</td>\n",
       "      <td>75</td>\n",
       "      <td>123</td>\n",
       "      <td>93</td>\n",
       "      <td>126</td>\n",
       "      <td>158</td>\n",
       "      <td>...</td>\n",
       "      <td>60</td>\n",
       "      <td>39</td>\n",
       "      <td>55</td>\n",
       "      <td>25</td>\n",
       "      <td>14</td>\n",
       "      <td>28</td>\n",
       "      <td>25</td>\n",
       "      <td>14</td>\n",
       "      <td>27</td>\n",
       "      <td>2</td>\n",
       "    </tr>\n",
       "    <tr>\n",
       "      <th>2</th>\n",
       "      <td>192</td>\n",
       "      <td>138</td>\n",
       "      <td>153</td>\n",
       "      <td>200</td>\n",
       "      <td>145</td>\n",
       "      <td>163</td>\n",
       "      <td>201</td>\n",
       "      <td>142</td>\n",
       "      <td>160</td>\n",
       "      <td>206</td>\n",
       "      <td>...</td>\n",
       "      <td>167</td>\n",
       "      <td>129</td>\n",
       "      <td>143</td>\n",
       "      <td>159</td>\n",
       "      <td>124</td>\n",
       "      <td>142</td>\n",
       "      <td>136</td>\n",
       "      <td>104</td>\n",
       "      <td>117</td>\n",
       "      <td>2</td>\n",
       "    </tr>\n",
       "    <tr>\n",
       "      <th>3</th>\n",
       "      <td>38</td>\n",
       "      <td>19</td>\n",
       "      <td>30</td>\n",
       "      <td>95</td>\n",
       "      <td>59</td>\n",
       "      <td>72</td>\n",
       "      <td>143</td>\n",
       "      <td>103</td>\n",
       "      <td>119</td>\n",
       "      <td>171</td>\n",
       "      <td>...</td>\n",
       "      <td>44</td>\n",
       "      <td>26</td>\n",
       "      <td>36</td>\n",
       "      <td>25</td>\n",
       "      <td>12</td>\n",
       "      <td>17</td>\n",
       "      <td>25</td>\n",
       "      <td>12</td>\n",
       "      <td>15</td>\n",
       "      <td>2</td>\n",
       "    </tr>\n",
       "    <tr>\n",
       "      <th>4</th>\n",
       "      <td>158</td>\n",
       "      <td>113</td>\n",
       "      <td>139</td>\n",
       "      <td>194</td>\n",
       "      <td>144</td>\n",
       "      <td>174</td>\n",
       "      <td>215</td>\n",
       "      <td>162</td>\n",
       "      <td>191</td>\n",
       "      <td>225</td>\n",
       "      <td>...</td>\n",
       "      <td>209</td>\n",
       "      <td>166</td>\n",
       "      <td>185</td>\n",
       "      <td>172</td>\n",
       "      <td>135</td>\n",
       "      <td>149</td>\n",
       "      <td>109</td>\n",
       "      <td>78</td>\n",
       "      <td>92</td>\n",
       "      <td>2</td>\n",
       "    </tr>\n",
       "  </tbody>\n",
       "</table>\n",
       "<p>5 rows × 2353 columns</p>\n",
       "</div>"
      ],
      "text/plain": [
       "   pixel0000  pixel0001  pixel0002  pixel0003  pixel0004  pixel0005  \\\n",
       "0        192        153        193        195        155        192   \n",
       "1         25         14         30         68         48         75   \n",
       "2        192        138        153        200        145        163   \n",
       "3         38         19         30         95         59         72   \n",
       "4        158        113        139        194        144        174   \n",
       "\n",
       "   pixel0006  pixel0007  pixel0008  pixel0009  ...  pixel2343  pixel2344  \\\n",
       "0        197        154        185        202  ...        173        124   \n",
       "1        123         93        126        158  ...         60         39   \n",
       "2        201        142        160        206  ...        167        129   \n",
       "3        143        103        119        171  ...         44         26   \n",
       "4        215        162        191        225  ...        209        166   \n",
       "\n",
       "   pixel2345  pixel2346  pixel2347  pixel2348  pixel2349  pixel2350  \\\n",
       "0        138        183        147        166        185        154   \n",
       "1         55         25         14         28         25         14   \n",
       "2        143        159        124        142        136        104   \n",
       "3         36         25         12         17         25         12   \n",
       "4        185        172        135        149        109         78   \n",
       "\n",
       "   pixel2351  label  \n",
       "0        177      2  \n",
       "1         27      2  \n",
       "2        117      2  \n",
       "3         15      2  \n",
       "4         92      2  \n",
       "\n",
       "[5 rows x 2353 columns]"
      ]
     },
     "execution_count": 3,
     "metadata": {},
     "output_type": "execute_result"
    }
   ],
   "source": [
    "import pandas as pd\n",
    "data = pd.read_csv('hmnist_28_28_RGB.csv')\n",
    "data.head()"
   ]
  },
  {
   "cell_type": "code",
   "execution_count": 18,
   "id": "225fb067",
   "metadata": {},
   "outputs": [
    {
     "data": {
      "text/plain": [
       "(10015, 2353)"
      ]
     },
     "execution_count": 18,
     "metadata": {},
     "output_type": "execute_result"
    }
   ],
   "source": [
    "data.shape"
   ]
  },
  {
   "cell_type": "code",
   "execution_count": 19,
   "id": "2131a32d",
   "metadata": {},
   "outputs": [
    {
     "data": {
      "text/plain": [
       "label\n",
       "4    6705\n",
       "6    1113\n",
       "2    1099\n",
       "1     514\n",
       "0     327\n",
       "5     142\n",
       "3     115\n",
       "Name: count, dtype: int64"
      ]
     },
     "execution_count": 19,
     "metadata": {},
     "output_type": "execute_result"
    }
   ],
   "source": [
    "data['label'].value_counts()"
   ]
  },
  {
   "cell_type": "code",
   "execution_count": 4,
   "id": "3d7b3fb3",
   "metadata": {},
   "outputs": [],
   "source": [
    "y = data['label']\n",
    "x = data.drop(columns = ['label'])"
   ]
  },
  {
   "cell_type": "code",
   "execution_count": 8,
   "id": "da135dab",
   "metadata": {},
   "outputs": [
    {
     "name": "stderr",
     "output_type": "stream",
     "text": [
      "c:\\Users\\ACER\\anaconda3\\envs\\tf-2190\\lib\\site-packages\\sklearn\\base.py:484: FutureWarning: `BaseEstimator._check_n_features` is deprecated in 1.6 and will be removed in 1.7. Use `sklearn.utils.validation._check_n_features` instead.\n",
      "  warnings.warn(\n",
      "c:\\Users\\ACER\\anaconda3\\envs\\tf-2190\\lib\\site-packages\\sklearn\\base.py:493: FutureWarning: `BaseEstimator._check_feature_names` is deprecated in 1.6 and will be removed in 1.7. Use `sklearn.utils.validation._check_feature_names` instead.\n",
      "  warnings.warn(\n"
     ]
    }
   ],
   "source": [
    "oversample = RandomOverSampler()\n",
    "x,y  = oversample.fit_resample(x,y)"
   ]
  },
  {
   "cell_type": "code",
   "execution_count": null,
   "id": "96442206",
   "metadata": {},
   "outputs": [
    {
     "name": "stdout",
     "output_type": "stream",
     "text": [
      "Shape of X : (46935, 28, 28, 3)\n"
     ]
    }
   ],
   "source": [
    "x = np.array(x).reshape(-1,28,28,3)\n",
    "print('Shape of X :',x.shape)"
   ]
  },
  {
   "cell_type": "code",
   "execution_count": 10,
   "id": "77d72bb2",
   "metadata": {},
   "outputs": [],
   "source": [
    "x = (x-np.mean(x))/np.std(x)\n",
    "X_train, X_test, Y_train, Y_test = train_test_split(x,y, test_size=0.2, random_state=1)"
   ]
  },
  {
   "cell_type": "code",
   "execution_count": 11,
   "id": "18bb01f7",
   "metadata": {},
   "outputs": [
    {
     "name": "stdout",
     "output_type": "stream",
     "text": [
      "Model: \"sequential\"\n",
      "_________________________________________________________________\n",
      " Layer (type)                Output Shape              Param #   \n",
      "=================================================================\n",
      " conv2d (Conv2D)             (None, 28, 28, 16)        448       \n",
      "                                                                 \n",
      " conv2d_1 (Conv2D)           (None, 26, 26, 32)        4640      \n",
      "                                                                 \n",
      " max_pooling2d (MaxPooling2D  (None, 13, 13, 32)       0         \n",
      " )                                                               \n",
      "                                                                 \n",
      " conv2d_2 (Conv2D)           (None, 13, 13, 32)        9248      \n",
      "                                                                 \n",
      " conv2d_3 (Conv2D)           (None, 11, 11, 64)        18496     \n",
      "                                                                 \n",
      " max_pooling2d_1 (MaxPooling  (None, 6, 6, 64)         0         \n",
      " 2D)                                                             \n",
      "                                                                 \n",
      " flatten (Flatten)           (None, 2304)              0         \n",
      "                                                                 \n",
      " dense (Dense)               (None, 64)                147520    \n",
      "                                                                 \n",
      " dense_1 (Dense)             (None, 32)                2080      \n",
      "                                                                 \n",
      " dense_2 (Dense)             (None, 7)                 231       \n",
      "                                                                 \n",
      "=================================================================\n",
      "Total params: 182,663\n",
      "Trainable params: 182,663\n",
      "Non-trainable params: 0\n",
      "_________________________________________________________________\n"
     ]
    }
   ],
   "source": [
    "model = Sequential()\n",
    "model.add(Conv2D(16, kernel_size = (3,3), input_shape = (28, 28, 3), activation = 'relu', padding = 'same'))\n",
    "model.add(Conv2D(32, kernel_size = (3,3), activation = 'relu'))\n",
    "model.add(MaxPool2D(pool_size = (2,2)))\n",
    "model.add(Conv2D(32, kernel_size = (3,3), activation = 'relu', padding = 'same'))\n",
    "model.add(Conv2D(64, kernel_size = (3,3), activation = 'relu'))\n",
    "model.add(MaxPool2D(pool_size = (2,2), padding = 'same'))\n",
    "model.add(Flatten())\n",
    "model.add(Dense(64, activation='relu'))\n",
    "model.add(Dense(32, activation='relu'))\n",
    "model.add(Dense(7, activation='softmax'))\n",
    "model.summary()"
   ]
  },
  {
   "cell_type": "code",
   "execution_count": 14,
   "id": "73a20a33",
   "metadata": {},
   "outputs": [],
   "source": [
    "callback = tf.keras.callbacks.ModelCheckpoint(filepath='checkpoints/best_model.h5',\n",
    "                                                  monitor='val_acc', mode='max',\n",
    "                                                 verbose=1)"
   ]
  },
  {
   "cell_type": "code",
   "execution_count": 15,
   "id": "2c6069ee",
   "metadata": {},
   "outputs": [
    {
     "name": "stdout",
     "output_type": "stream",
     "text": [
      "Epoch 1/20\n",
      "235/235 [==============================] - ETA: 0s - loss: 1.2564 - accuracy: 0.5104\n",
      "Epoch 1: saving model to checkpoints\\best_model.h5\n",
      "235/235 [==============================] - 26s 23ms/step - loss: 1.2564 - accuracy: 0.5104 - val_loss: 0.9192 - val_accuracy: 0.6636\n",
      "Epoch 2/20\n",
      "231/235 [============================>.] - ETA: 0s - loss: 0.7262 - accuracy: 0.7299\n",
      "Epoch 2: saving model to checkpoints\\best_model.h5\n",
      "235/235 [==============================] - 3s 13ms/step - loss: 0.7242 - accuracy: 0.7308 - val_loss: 0.5914 - val_accuracy: 0.7811\n",
      "Epoch 3/20\n",
      "231/235 [============================>.] - ETA: 0s - loss: 0.4847 - accuracy: 0.8215\n",
      "Epoch 3: saving model to checkpoints\\best_model.h5\n",
      "235/235 [==============================] - 3s 12ms/step - loss: 0.4839 - accuracy: 0.8216 - val_loss: 0.4223 - val_accuracy: 0.8483\n",
      "Epoch 4/20\n",
      "231/235 [============================>.] - ETA: 0s - loss: 0.3315 - accuracy: 0.8806\n",
      "Epoch 4: saving model to checkpoints\\best_model.h5\n",
      "235/235 [==============================] - 4s 16ms/step - loss: 0.3309 - accuracy: 0.8809 - val_loss: 0.3317 - val_accuracy: 0.8723\n",
      "Epoch 5/20\n",
      "232/235 [============================>.] - ETA: 0s - loss: 0.2530 - accuracy: 0.9107\n",
      "Epoch 5: saving model to checkpoints\\best_model.h5\n",
      "235/235 [==============================] - 3s 12ms/step - loss: 0.2527 - accuracy: 0.9107 - val_loss: 0.2660 - val_accuracy: 0.9097\n",
      "Epoch 6/20\n",
      "231/235 [============================>.] - ETA: 0s - loss: 0.2008 - accuracy: 0.9286\n",
      "Epoch 6: saving model to checkpoints\\best_model.h5\n",
      "235/235 [==============================] - 3s 12ms/step - loss: 0.2006 - accuracy: 0.9286 - val_loss: 0.2302 - val_accuracy: 0.9169\n",
      "Epoch 7/20\n",
      "231/235 [============================>.] - ETA: 0s - loss: 0.1613 - accuracy: 0.9420\n",
      "Epoch 7: saving model to checkpoints\\best_model.h5\n",
      "235/235 [==============================] - 3s 12ms/step - loss: 0.1614 - accuracy: 0.9420 - val_loss: 0.1903 - val_accuracy: 0.9348\n",
      "Epoch 8/20\n",
      "231/235 [============================>.] - ETA: 0s - loss: 0.1221 - accuracy: 0.9579\n",
      "Epoch 8: saving model to checkpoints\\best_model.h5\n",
      "235/235 [==============================] - 3s 12ms/step - loss: 0.1225 - accuracy: 0.9578 - val_loss: 0.1773 - val_accuracy: 0.9387\n",
      "Epoch 9/20\n",
      "232/235 [============================>.] - ETA: 0s - loss: 0.1055 - accuracy: 0.9639\n",
      "Epoch 9: saving model to checkpoints\\best_model.h5\n",
      "235/235 [==============================] - 3s 12ms/step - loss: 0.1053 - accuracy: 0.9640 - val_loss: 0.1693 - val_accuracy: 0.9457\n",
      "Epoch 10/20\n",
      "231/235 [============================>.] - ETA: 0s - loss: 0.0986 - accuracy: 0.9654\n",
      "Epoch 10: saving model to checkpoints\\best_model.h5\n",
      "235/235 [==============================] - 3s 12ms/step - loss: 0.0979 - accuracy: 0.9656 - val_loss: 0.1402 - val_accuracy: 0.9562\n",
      "Epoch 11/20\n",
      "232/235 [============================>.] - ETA: 0s - loss: 0.0682 - accuracy: 0.9768\n",
      "Epoch 11: saving model to checkpoints\\best_model.h5\n",
      "235/235 [==============================] - 3s 12ms/step - loss: 0.0682 - accuracy: 0.9768 - val_loss: 0.1763 - val_accuracy: 0.9473\n",
      "Epoch 12/20\n",
      "231/235 [============================>.] - ETA: 0s - loss: 0.0778 - accuracy: 0.9727\n",
      "Epoch 12: saving model to checkpoints\\best_model.h5\n",
      "235/235 [==============================] - 3s 12ms/step - loss: 0.0775 - accuracy: 0.9729 - val_loss: 0.1349 - val_accuracy: 0.9598\n",
      "Epoch 13/20\n",
      "231/235 [============================>.] - ETA: 0s - loss: 0.0475 - accuracy: 0.9836\n",
      "Epoch 13: saving model to checkpoints\\best_model.h5\n",
      "235/235 [==============================] - 3s 12ms/step - loss: 0.0472 - accuracy: 0.9838 - val_loss: 0.1169 - val_accuracy: 0.9708\n",
      "Epoch 14/20\n",
      "231/235 [============================>.] - ETA: 0s - loss: 0.0720 - accuracy: 0.9757\n",
      "Epoch 14: saving model to checkpoints\\best_model.h5\n",
      "235/235 [==============================] - 3s 12ms/step - loss: 0.0740 - accuracy: 0.9753 - val_loss: 0.1810 - val_accuracy: 0.9441\n",
      "Epoch 15/20\n",
      "232/235 [============================>.] - ETA: 0s - loss: 0.0381 - accuracy: 0.9877\n",
      "Epoch 15: saving model to checkpoints\\best_model.h5\n",
      "235/235 [==============================] - 3s 12ms/step - loss: 0.0389 - accuracy: 0.9874 - val_loss: 0.3250 - val_accuracy: 0.8991\n",
      "Epoch 16/20\n",
      "231/235 [============================>.] - ETA: 0s - loss: 0.0433 - accuracy: 0.9858\n",
      "Epoch 16: saving model to checkpoints\\best_model.h5\n",
      "235/235 [==============================] - 3s 12ms/step - loss: 0.0431 - accuracy: 0.9859 - val_loss: 0.1400 - val_accuracy: 0.9618\n",
      "Epoch 17/20\n",
      "233/235 [============================>.] - ETA: 0s - loss: 0.0421 - accuracy: 0.9859\n",
      "Epoch 17: saving model to checkpoints\\best_model.h5\n",
      "235/235 [==============================] - 3s 12ms/step - loss: 0.0423 - accuracy: 0.9858 - val_loss: 0.1579 - val_accuracy: 0.9635\n",
      "Epoch 18/20\n",
      "231/235 [============================>.] - ETA: 0s - loss: 0.0520 - accuracy: 0.9825\n",
      "Epoch 18: saving model to checkpoints\\best_model.h5\n",
      "235/235 [==============================] - 3s 13ms/step - loss: 0.0517 - accuracy: 0.9827 - val_loss: 0.1201 - val_accuracy: 0.9710\n",
      "Epoch 19/20\n",
      "231/235 [============================>.] - ETA: 0s - loss: 0.0131 - accuracy: 0.9965\n",
      "Epoch 19: saving model to checkpoints\\best_model.h5\n",
      "235/235 [==============================] - 3s 13ms/step - loss: 0.0133 - accuracy: 0.9964 - val_loss: 0.1407 - val_accuracy: 0.9703\n",
      "Epoch 20/20\n",
      "231/235 [============================>.] - ETA: 0s - loss: 0.0378 - accuracy: 0.9871\n",
      "Epoch 20: saving model to checkpoints\\best_model.h5\n",
      "235/235 [==============================] - 4s 16ms/step - loss: 0.0379 - accuracy: 0.9871 - val_loss: 0.1361 - val_accuracy: 0.9672\n"
     ]
    }
   ],
   "source": [
    "model.compile(loss = 'sparse_categorical_crossentropy',\n",
    "             optimizer = 'adam',\n",
    "              metrics = ['accuracy'])\n",
    "history = model.fit(X_train,\n",
    "                    Y_train,\n",
    "                    validation_split=0.2,\n",
    "                    batch_size = 128,\n",
    "                    epochs = 20,\n",
    "                    callbacks=[callback])"
   ]
  },
  {
   "cell_type": "code",
   "execution_count": 16,
   "id": "b1b8d6af",
   "metadata": {},
   "outputs": [
    {
     "data": {
      "image/png": "[encoded data removed]",
      "text/plain": [
       "<Figure size 640x480 with 1 Axes>"
      ]
     },
     "metadata": {},
     "output_type": "display_data"
    }
   ],
   "source": [
    "plt.plot(history.history['accuracy'])\n",
    "plt.plot(history.history['val_accuracy'])\n",
    "plt.title('model accuracy')\n",
    "plt.ylabel('accuracy')\n",
    "plt.xlabel('epoch')\n",
    "plt.legend(['train', 'val'], loc='upper left')\n",
    "plt.show()"
   ]
  },
  {
   "cell_type": "code",
   "execution_count": 17,
   "id": "2c9fa778",
   "metadata": {},
   "outputs": [
    {
     "name": "stdout",
     "output_type": "stream",
     "text": [
      "294/294 - 2s - loss: 0.1389 - accuracy: 0.9660 - 2s/epoch - 6ms/step\n"
     ]
    }
   ],
   "source": [
    "loss, acc = model.evaluate(X_test, Y_test, verbose=2)"
   ]
  },
  {
   "cell_type": "code",
   "execution_count": 1,
   "id": "12097ea5",
   "metadata": {},
   "outputs": [
    {
     "name": "stdout",
     "output_type": "stream",
     "text": [
      "Sun Oct 12 10:45:46 2025       \n",
      "+-----------------------------------------------------------------------------------------+\n",
      "| NVIDIA-SMI 581.29                 Driver Version: 581.29         CUDA Version: 13.0     |\n",
      "+-----------------------------------------+------------------------+----------------------+\n",
      "| GPU  Name                  Driver-Model | Bus-Id          Disp.A | Volatile Uncorr. ECC |\n",
      "| Fan  Temp   Perf          Pwr:Usage/Cap |           Memory-Usage | GPU-Util  Compute M. |\n",
      "|                                         |                        |               MIG M. |\n",
      "|=========================================+========================+======================|\n",
      "|   0  NVIDIA GeForce RTX 2050      WDDM  |   00000000:01:00.0 Off |                  N/A |\n",
      "| N/A   53C    P0             10W /   36W |       0MiB /   4096MiB |      0%      Default |\n",
      "|                                         |                        |                  N/A |\n",
      "+-----------------------------------------+------------------------+----------------------+\n",
      "\n",
      "+-----------------------------------------------------------------------------------------+\n",
      "| Processes:                                                                              |\n",
      "|  GPU   GI   CI              PID   Type   Process name                        GPU Memory |\n",
      "|        ID   ID                                                               Usage      |\n",
      "|=========================================================================================|\n",
      "|  No running processes found                                                             |\n",
      "+-----------------------------------------------------------------------------------------+\n"
     ]
    }
   ],
   "source": [
    "!nvidia-smi\n"
   ]
  },
  {
   "cell_type": "code",
   "execution_count": null,
   "id": "be9f977d",
   "metadata": {},
   "outputs": [],
   "source": []
  }
 ],
 "metadata": {
  "kernelspec": {
   "display_name": "venv",
   "language": "python",
   "name": "python3"
  },
  "language_info": {
   "codemirror_mode": {
    "name": "ipython",
    "version": 3
   },
   "file_extension": ".py",
   "mimetype": "text/x-python",
   "name": "python",
   "nbconvert_exporter": "python",
   "pygments_lexer": "ipython3",
   "version": "3.13.5"
  }
 },
 "nbformat": 4,
 "nbformat_minor": 5
}
