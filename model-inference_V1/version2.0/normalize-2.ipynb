{
  "nbformat": 4,
  "nbformat_minor": 0,
  "metadata": {
    "colab": {
      "provenance": [],
      "mount_file_id": "1bwleWcuRh0g7BB7c5hoMUQk0ningk-Nd",
      "authorship_tag": "ABX9TyMOajGvLXxhNLEWqXGox+12",
      "include_colab_link": true
    },
    "kernelspec": {
      "name": "python3",
      "display_name": "Python 3"
    },
    "language_info": {
      "name": "python"
    }
  },
  "cells": [
    {
      "cell_type": "markdown",
      "metadata": {
        "id": "view-in-github",
        "colab_type": "text"
      },
      "source": [
        "<a href=\"https://colab.research.google.com/github/SKD151105/Skin-Cancer-Classification/blob/main/model-inference_V1/version2.0/normalize-2.ipynb\" target=\"_parent\"><img src=\"https://colab.research.google.com/assets/colab-badge.svg\" alt=\"Open In Colab\"/></a>"
      ]
    },
    {
      "cell_type": "code",
      "execution_count": null,
      "metadata": {
        "id": "lsXt0NkH7iEu"
      },
      "outputs": [],
      "source": [
        "%matplotlib inline\n",
        "import matplotlib.pyplot as plt\n",
        "import numpy as np\n",
        "import pandas as pd\n",
        "import os\n",
        "from glob import glob\n",
        "import seaborn as sns\n",
        "base_skin_dir = '/content/drive/MyDrive/mini_proj_data/HAM10000'"
      ]
    },
    {
      "cell_type": "code",
      "source": [
        "imageid_path_dict = {os.path.splitext(os.path.basename(x))[0]: x\n",
        "                     for x in glob(os.path.join(base_skin_dir, '*', '*.jpg'))}\n",
        "\n",
        "lesion_type_dict = {\n",
        "    'nv': 'Melanocytic nevi',\n",
        "    'mel': 'dermatofibroma',\n",
        "    'bkl': 'Benign keratosis-like lesions ',\n",
        "    'bcc': 'Basal cell carcinoma',\n",
        "    'akiec': 'Actinic keratoses',\n",
        "    'vasc': 'Vascular lesions',\n",
        "    'df': 'Dermatofibroma'\n",
        "}"
      ],
      "metadata": {
        "id": "qEe8FsfR8soi"
      },
      "execution_count": null,
      "outputs": []
    },
    {
      "cell_type": "code",
      "source": [
        "tile_df = pd.read_csv(os.path.join(base_skin_dir, 'HAM10000_metadata.csv'))\n",
        "tile_df['path'] = tile_df['image_id'].map(imageid_path_dict.get)\n",
        "tile_df['cell_type'] = tile_df['dx'].map(lesion_type_dict.get)\n",
        "tile_df['cell_type_idx'] = pd.Categorical(tile_df['cell_type']).codes\n",
        "tile_df.sample(3)"
      ],
      "metadata": {
        "id": "LOqqHAP-BZlv"
      },
      "execution_count": null,
      "outputs": []
    },
    {
      "cell_type": "code",
      "source": [
        "tile_df.describe(exclude=[np.number])"
      ],
      "metadata": {
        "id": "HOyQtC_QBZiV"
      },
      "execution_count": null,
      "outputs": []
    },
    {
      "cell_type": "code",
      "source": [
        "fig, ax1 = plt.subplots(1, 1, figsize = (10, 5))\n",
        "tile_df['cell_type'].value_counts().plot(kind='bar', ax=ax1)"
      ],
      "metadata": {
        "id": "0PezZ_zFBZfR"
      },
      "execution_count": null,
      "outputs": []
    },
    {
      "cell_type": "code",
      "source": [
        "# load in all of the images\n",
        "from skimage.io import imread\n",
        "tile_df['image'] = tile_df['path'].map(imread)"
      ],
      "metadata": {
        "id": "IorFs7KDBZcL"
      },
      "execution_count": null,
      "outputs": []
    },
    {
      "cell_type": "code",
      "source": [
        "# see the image size distribution\n",
        "tile_df['image'].map(lambda x: x.shape).value_counts()"
      ],
      "metadata": {
        "id": "MBhLobSLBZZG"
      },
      "execution_count": null,
      "outputs": []
    },
    {
      "cell_type": "markdown",
      "source": [
        "# Show off a few in each category\n"
      ],
      "metadata": {
        "id": "fY1Prbj6B26X"
      }
    },
    {
      "cell_type": "code",
      "source": [
        "n_samples = 5\n",
        "fig, m_axs = plt.subplots(7, n_samples, figsize = (4*n_samples, 3*7))\n",
        "for n_axs, (type_name, type_rows) in zip(m_axs,\n",
        "                                         tile_df.sort_values(['cell_type']).groupby('cell_type')):\n",
        "    n_axs[0].set_title(type_name)\n",
        "    for c_ax, (_, c_row) in zip(n_axs, type_rows.sample(n_samples, random_state=2018).iterrows()):\n",
        "        c_ax.imshow(c_row['image'])\n",
        "        c_ax.axis('off')\n",
        "fig.savefig('category_samples.png', dpi=300)"
      ],
      "metadata": {
        "id": "33gDrA_ZBZWn"
      },
      "execution_count": null,
      "outputs": []
    },
    {
      "cell_type": "markdown",
      "source": [
        "## Get Average Color Information\n",
        "Here we get and normalize all of the color channel information"
      ],
      "metadata": {
        "id": "N7tHIvWSCA_y"
      }
    },
    {
      "cell_type": "code",
      "source": [
        "rgb_info_df = tile_df.apply(lambda x: pd.Series({'{}_mean'.format(k): v for k, v in\n",
        "                                  zip(['Red', 'Green', 'Blue'],\n",
        "                                      np.mean(x['image'], (0, 1)))}),1)\n",
        "gray_col_vec = rgb_info_df.apply(lambda x: np.mean(x), 1)\n",
        "for c_col in rgb_info_df.columns:\n",
        "    rgb_info_df[c_col] = rgb_info_df[c_col]/gray_col_vec\n",
        "rgb_info_df['Gray_mean'] = gray_col_vec\n",
        "rgb_info_df.sample(3)"
      ],
      "metadata": {
        "id": "oScz4AhPBZTe"
      },
      "execution_count": null,
      "outputs": []
    },
    {
      "cell_type": "code",
      "source": [
        "for c_col in rgb_info_df.columns:\n",
        "    tile_df[c_col] = rgb_info_df[c_col].values # we cant afford a copy"
      ],
      "metadata": {
        "id": "R_aLo1iwBZQ_"
      },
      "execution_count": null,
      "outputs": []
    },
    {
      "cell_type": "code",
      "source": [
        "sns.pairplot(tile_df[['Red_mean', 'Green_mean', 'Blue_mean', 'Gray_mean', 'cell_type']],\n",
        "             hue='cell_type', plot_kws = {'alpha': 0.5})"
      ],
      "metadata": {
        "id": "BL1M9pRHBZOS"
      },
      "execution_count": null,
      "outputs": []
    },
    {
      "cell_type": "markdown",
      "source": [
        "# Show Color Range\n",
        "Show how the mean color channel values affect images"
      ],
      "metadata": {
        "id": "_KGsHHpDCL5D"
      }
    },
    {
      "cell_type": "code",
      "source": [
        "n_samples = 5\n",
        "for sample_col in ['Red_mean', 'Green_mean', 'Blue_mean', 'Gray_mean']:\n",
        "    fig, m_axs = plt.subplots(7, n_samples, figsize = (4*n_samples, 3*7))\n",
        "    def take_n_space(in_rows, val_col, n):\n",
        "        s_rows = in_rows.sort_values([val_col])\n",
        "        s_idx = np.linspace(0, s_rows.shape[0]-1, n, dtype=int)\n",
        "        return s_rows.iloc[s_idx]\n",
        "    for n_axs, (type_name, type_rows) in zip(m_axs,\n",
        "                                             tile_df.sort_values(['cell_type']).groupby('cell_type')):\n",
        "\n",
        "        for c_ax, (_, c_row) in zip(n_axs,\n",
        "                                    take_n_space(type_rows,\n",
        "                                                 sample_col,\n",
        "                                                 n_samples).iterrows()):\n",
        "            c_ax.imshow(c_row['image'])\n",
        "            c_ax.axis('off')\n",
        "            c_ax.set_title('{:2.2f}'.format(c_row[sample_col]))\n",
        "        n_axs[0].set_title(type_name)\n",
        "    fig.savefig('{}_samples.png'.format(sample_col), dpi=300)"
      ],
      "metadata": {
        "id": "-v-AJGwwBZLl"
      },
      "execution_count": null,
      "outputs": []
    },
    {
      "cell_type": "markdown",
      "source": [
        "# Make a nice cover image\n",
        "Make a cover image for the dataset using all of the tiles"
      ],
      "metadata": {
        "id": "dGyXsPw-CSJ7"
      }
    },
    {
      "cell_type": "code",
      "source": [
        "from skimage.util import montage\n",
        "rgb_stack = np.stack(tile_df.\\\n",
        "                     sort_values(['cell_type', 'Red_mean'])['image'].\\\n",
        "                     map(lambda x: x[::5, ::5]).values, 0)\n",
        "rgb_montage = np.stack([montage(rgb_stack[:, :, :, i]) for i in range(rgb_stack.shape[3])], -1)\n",
        "print(rgb_montage.shape)"
      ],
      "metadata": {
        "id": "bDK1Xw7vBZIn"
      },
      "execution_count": null,
      "outputs": []
    },
    {
      "cell_type": "code",
      "source": [
        "fig, ax1 = plt.subplots(1, 1, figsize = (20, 20), dpi=300)\n",
        "ax1.imshow(rgb_montage)\n",
        "fig.savefig('nice_montage.png')"
      ],
      "metadata": {
        "id": "xRvYCbPqBZFw"
      },
      "execution_count": null,
      "outputs": []
    },
    {
      "cell_type": "code",
      "source": [
        "from skimage.io import imsave\n",
        "# this is a big file, imsave('full_dataset_montage.png', rgb_montage)"
      ],
      "metadata": {
        "id": "aPmALtqfBZDZ"
      },
      "execution_count": null,
      "outputs": []
    },
    {
      "cell_type": "markdown",
      "source": [
        "# Make an MNIST Like Dataset\n",
        "We can make an MNIST-like dataset by flattening the images into vectors and exporting them"
      ],
      "metadata": {
        "id": "tQRR6yqICa9a"
      }
    },
    {
      "cell_type": "code",
      "source": [
        "tile_df[['cell_type_idx', 'cell_type']].sort_values('cell_type_idx').drop_duplicates()"
      ],
      "metadata": {
        "id": "hN-qR1HWBY-9"
      },
      "execution_count": null,
      "outputs": []
    },
    {
      "cell_type": "code",
      "source": [
        "from PIL import Image\n",
        "def package_mnist_df(in_rows,\n",
        "                     image_col_name = 'image',\n",
        "                     label_col_name = 'cell_type_idx',\n",
        "                     image_shape=(28, 28),\n",
        "                     image_mode='RGB',\n",
        "                     label_first=False\n",
        "                    ):\n",
        "    out_vec_list = in_rows[image_col_name].map(lambda x:\n",
        "                                               np.array(Image.\\\n",
        "                                                        fromarray(x).\\\n",
        "                                                        resize(image_shape, resample=Image.LANCZOS).\\\n",
        "                                                        convert(image_mode)).ravel())\n",
        "    out_vec = np.stack(out_vec_list, 0)\n",
        "    out_df = pd.DataFrame(out_vec)\n",
        "    n_col_names =  ['pixel{:04d}'.format(i) for i in range(out_vec.shape[1])]\n",
        "    out_df.columns = n_col_names\n",
        "    out_df['label'] = in_rows[label_col_name].values.copy()\n",
        "    if label_first:\n",
        "        return out_df[['label']+n_col_names]\n",
        "    else:\n",
        "        return out_df"
      ],
      "metadata": {
        "id": "wjC0sun6BY8p"
      },
      "execution_count": null,
      "outputs": []
    },
    {
      "cell_type": "code",
      "source": [
        "from itertools import product\n",
        "for img_side_dim, img_mode in product([8, 28, 64, 128], ['L', 'RGB']):\n",
        "    if (img_side_dim==128) and (img_mode=='RGB'):\n",
        "        # 128x128xRGB is a biggie\n",
        "        break\n",
        "    out_df = package_mnist_df(tile_df,\n",
        "                              image_shape=(img_side_dim, img_side_dim),\n",
        "                             image_mode=img_mode)\n",
        "    out_path = f'hmnist_{img_side_dim}_{img_side_dim}_{img_mode}.csv'\n",
        "    out_df.to_csv(out_path, index=False)\n",
        "    print(f'Saved {out_df.shape} -> {out_path}: {os.stat(out_path).st_size/1024:2.1f}kb')"
      ],
      "metadata": {
        "id": "VxIjxb7TBY6l"
      },
      "execution_count": null,
      "outputs": []
    },
    {
      "cell_type": "code",
      "source": [],
      "metadata": {
        "id": "4XQpvK7yBY33"
      },
      "execution_count": null,
      "outputs": []
    },
    {
      "cell_type": "code",
      "source": [],
      "metadata": {
        "id": "4abn0Pb_BY1L"
      },
      "execution_count": null,
      "outputs": []
    },
    {
      "cell_type": "code",
      "source": [],
      "metadata": {
        "id": "q6lcjHmcBYyk"
      },
      "execution_count": null,
      "outputs": []
    }
  ]
}