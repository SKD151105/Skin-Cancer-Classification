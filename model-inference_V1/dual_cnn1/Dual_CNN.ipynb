{
  "cells": [
    {
      "cell_type": "code",
      "execution_count": null,
      "metadata": {
        "colab": {
          "base_uri": "https://localhost:8080/"
        },
        "id": "Sop81pPB5ORf",
        "outputId": "d2e53d22-f67e-4375-f030-890361e272b5"
      },
      "outputs": [
        {
          "name": "stdout",
          "output_type": "stream",
          "text": [
            "Drive already mounted at /content/drive; to attempt to forcibly remount, call drive.mount(\"/content/drive\", force_remount=True).\n"
          ]
        }
      ],
      "source": [
        "# ---------------------------\n",
        "# Block 1 — Mount Drive & copy images to local Colab storage (fast I/O)\n",
        "# ---------------------------\n",
        "from google.colab import drive\n",
        "drive.mount('/content/drive')\n",
        "\n",
        "# # copy images folder from Drive to Colab local disk (adjust source path if different)\n",
        "# !cp -r /content/drive/MyDrive/mini_proj_data/images /content/images\n"
      ]
    },
    {
      "cell_type": "code",
      "execution_count": 23,
      "metadata": {
        "id": "us9r-vGoHnr4"
      },
      "outputs": [],
      "source": [
        "import pandas as pd\n",
        "import numpy as np\n",
        "from sklearn.model_selection import train_test_split\n",
        "from sklearn.preprocessing import StandardScaler\n",
        "from tensorflow.keras.utils import to_categorical\n",
        "import os"
      ]
    },
    {
      "cell_type": "code",
      "execution_count": 24,
      "metadata": {},
      "outputs": [
        {
          "data": {
            "text/html": [
              "<div>\n",
              "<style scoped>\n",
              "    .dataframe tbody tr th:only-of-type {\n",
              "        vertical-align: middle;\n",
              "    }\n",
              "\n",
              "    .dataframe tbody tr th {\n",
              "        vertical-align: top;\n",
              "    }\n",
              "\n",
              "    .dataframe thead th {\n",
              "        text-align: right;\n",
              "    }\n",
              "</style>\n",
              "<table border=\"1\" class=\"dataframe\">\n",
              "  <thead>\n",
              "    <tr style=\"text-align: right;\">\n",
              "      <th></th>\n",
              "      <th>lesion_id</th>\n",
              "      <th>image_id</th>\n",
              "      <th>dx</th>\n",
              "      <th>dx_type</th>\n",
              "      <th>age</th>\n",
              "      <th>sex</th>\n",
              "      <th>localization</th>\n",
              "      <th>image_path</th>\n",
              "      <th>label_id</th>\n",
              "      <th>is_malignant</th>\n",
              "      <th>clean_path</th>\n",
              "      <th>variant</th>\n",
              "    </tr>\n",
              "  </thead>\n",
              "  <tbody>\n",
              "    <tr>\n",
              "      <th>0</th>\n",
              "      <td>HAM_0000118</td>\n",
              "      <td>ISIC_0027419</td>\n",
              "      <td>bkl</td>\n",
              "      <td>histo</td>\n",
              "      <td>80.0</td>\n",
              "      <td>male</td>\n",
              "      <td>scalp</td>\n",
              "      <td>C:\\Users\\ompat\\OneDrive\\Desktop\\mini_proj_data...</td>\n",
              "      <td>2</td>\n",
              "      <td>0</td>\n",
              "      <td>C:/Users/ompat/OneDrive/Desktop/mini_proj_data...</td>\n",
              "      <td>clean</td>\n",
              "    </tr>\n",
              "    <tr>\n",
              "      <th>1</th>\n",
              "      <td>HAM_0000118</td>\n",
              "      <td>ISIC_0025030</td>\n",
              "      <td>bkl</td>\n",
              "      <td>histo</td>\n",
              "      <td>80.0</td>\n",
              "      <td>male</td>\n",
              "      <td>scalp</td>\n",
              "      <td>C:\\Users\\ompat\\OneDrive\\Desktop\\mini_proj_data...</td>\n",
              "      <td>2</td>\n",
              "      <td>0</td>\n",
              "      <td>C:/Users/ompat/OneDrive/Desktop/mini_proj_data...</td>\n",
              "      <td>clean</td>\n",
              "    </tr>\n",
              "    <tr>\n",
              "      <th>2</th>\n",
              "      <td>HAM_0002730</td>\n",
              "      <td>ISIC_0026769</td>\n",
              "      <td>bkl</td>\n",
              "      <td>histo</td>\n",
              "      <td>80.0</td>\n",
              "      <td>male</td>\n",
              "      <td>scalp</td>\n",
              "      <td>C:\\Users\\ompat\\OneDrive\\Desktop\\mini_proj_data...</td>\n",
              "      <td>2</td>\n",
              "      <td>0</td>\n",
              "      <td>C:/Users/ompat/OneDrive/Desktop/mini_proj_data...</td>\n",
              "      <td>clean</td>\n",
              "    </tr>\n",
              "    <tr>\n",
              "      <th>3</th>\n",
              "      <td>HAM_0002730</td>\n",
              "      <td>ISIC_0025661</td>\n",
              "      <td>bkl</td>\n",
              "      <td>histo</td>\n",
              "      <td>80.0</td>\n",
              "      <td>male</td>\n",
              "      <td>scalp</td>\n",
              "      <td>C:\\Users\\ompat\\OneDrive\\Desktop\\mini_proj_data...</td>\n",
              "      <td>2</td>\n",
              "      <td>0</td>\n",
              "      <td>C:/Users/ompat/OneDrive/Desktop/mini_proj_data...</td>\n",
              "      <td>clean</td>\n",
              "    </tr>\n",
              "    <tr>\n",
              "      <th>4</th>\n",
              "      <td>HAM_0001466</td>\n",
              "      <td>ISIC_0031633</td>\n",
              "      <td>bkl</td>\n",
              "      <td>histo</td>\n",
              "      <td>75.0</td>\n",
              "      <td>male</td>\n",
              "      <td>ear</td>\n",
              "      <td>C:\\Users\\ompat\\OneDrive\\Desktop\\mini_proj_data...</td>\n",
              "      <td>2</td>\n",
              "      <td>0</td>\n",
              "      <td>C:/Users/ompat/OneDrive/Desktop/mini_proj_data...</td>\n",
              "      <td>clean</td>\n",
              "    </tr>\n",
              "    <tr>\n",
              "      <th>...</th>\n",
              "      <td>...</td>\n",
              "      <td>...</td>\n",
              "      <td>...</td>\n",
              "      <td>...</td>\n",
              "      <td>...</td>\n",
              "      <td>...</td>\n",
              "      <td>...</td>\n",
              "      <td>...</td>\n",
              "      <td>...</td>\n",
              "      <td>...</td>\n",
              "      <td>...</td>\n",
              "      <td>...</td>\n",
              "    </tr>\n",
              "    <tr>\n",
              "      <th>10010</th>\n",
              "      <td>HAM_0002867</td>\n",
              "      <td>ISIC_0033084</td>\n",
              "      <td>akiec</td>\n",
              "      <td>histo</td>\n",
              "      <td>40.0</td>\n",
              "      <td>male</td>\n",
              "      <td>abdomen</td>\n",
              "      <td>C:\\Users\\ompat\\OneDrive\\Desktop\\mini_proj_data...</td>\n",
              "      <td>0</td>\n",
              "      <td>1</td>\n",
              "      <td>C:/Users/ompat/OneDrive/Desktop/mini_proj_data...</td>\n",
              "      <td>clean</td>\n",
              "    </tr>\n",
              "    <tr>\n",
              "      <th>10011</th>\n",
              "      <td>HAM_0002867</td>\n",
              "      <td>ISIC_0033550</td>\n",
              "      <td>akiec</td>\n",
              "      <td>histo</td>\n",
              "      <td>40.0</td>\n",
              "      <td>male</td>\n",
              "      <td>abdomen</td>\n",
              "      <td>C:\\Users\\ompat\\OneDrive\\Desktop\\mini_proj_data...</td>\n",
              "      <td>0</td>\n",
              "      <td>1</td>\n",
              "      <td>C:/Users/ompat/OneDrive/Desktop/mini_proj_data...</td>\n",
              "      <td>clean</td>\n",
              "    </tr>\n",
              "    <tr>\n",
              "      <th>10012</th>\n",
              "      <td>HAM_0002867</td>\n",
              "      <td>ISIC_0033536</td>\n",
              "      <td>akiec</td>\n",
              "      <td>histo</td>\n",
              "      <td>40.0</td>\n",
              "      <td>male</td>\n",
              "      <td>abdomen</td>\n",
              "      <td>C:\\Users\\ompat\\OneDrive\\Desktop\\mini_proj_data...</td>\n",
              "      <td>0</td>\n",
              "      <td>1</td>\n",
              "      <td>C:/Users/ompat/OneDrive/Desktop/mini_proj_data...</td>\n",
              "      <td>clean</td>\n",
              "    </tr>\n",
              "    <tr>\n",
              "      <th>10013</th>\n",
              "      <td>HAM_0000239</td>\n",
              "      <td>ISIC_0032854</td>\n",
              "      <td>akiec</td>\n",
              "      <td>histo</td>\n",
              "      <td>80.0</td>\n",
              "      <td>male</td>\n",
              "      <td>face</td>\n",
              "      <td>C:\\Users\\ompat\\OneDrive\\Desktop\\mini_proj_data...</td>\n",
              "      <td>0</td>\n",
              "      <td>1</td>\n",
              "      <td>C:/Users/ompat/OneDrive/Desktop/mini_proj_data...</td>\n",
              "      <td>clean</td>\n",
              "    </tr>\n",
              "    <tr>\n",
              "      <th>10014</th>\n",
              "      <td>HAM_0003521</td>\n",
              "      <td>ISIC_0032258</td>\n",
              "      <td>mel</td>\n",
              "      <td>histo</td>\n",
              "      <td>70.0</td>\n",
              "      <td>female</td>\n",
              "      <td>back</td>\n",
              "      <td>C:\\Users\\ompat\\OneDrive\\Desktop\\mini_proj_data...</td>\n",
              "      <td>4</td>\n",
              "      <td>1</td>\n",
              "      <td>C:/Users/ompat/OneDrive/Desktop/mini_proj_data...</td>\n",
              "      <td>clean</td>\n",
              "    </tr>\n",
              "  </tbody>\n",
              "</table>\n",
              "<p>10015 rows × 12 columns</p>\n",
              "</div>"
            ],
            "text/plain": [
              "         lesion_id      image_id     dx dx_type   age     sex localization  \\\n",
              "0      HAM_0000118  ISIC_0027419    bkl   histo  80.0    male        scalp   \n",
              "1      HAM_0000118  ISIC_0025030    bkl   histo  80.0    male        scalp   \n",
              "2      HAM_0002730  ISIC_0026769    bkl   histo  80.0    male        scalp   \n",
              "3      HAM_0002730  ISIC_0025661    bkl   histo  80.0    male        scalp   \n",
              "4      HAM_0001466  ISIC_0031633    bkl   histo  75.0    male          ear   \n",
              "...            ...           ...    ...     ...   ...     ...          ...   \n",
              "10010  HAM_0002867  ISIC_0033084  akiec   histo  40.0    male      abdomen   \n",
              "10011  HAM_0002867  ISIC_0033550  akiec   histo  40.0    male      abdomen   \n",
              "10012  HAM_0002867  ISIC_0033536  akiec   histo  40.0    male      abdomen   \n",
              "10013  HAM_0000239  ISIC_0032854  akiec   histo  80.0    male         face   \n",
              "10014  HAM_0003521  ISIC_0032258    mel   histo  70.0  female         back   \n",
              "\n",
              "                                              image_path  label_id  \\\n",
              "0      C:\\Users\\ompat\\OneDrive\\Desktop\\mini_proj_data...         2   \n",
              "1      C:\\Users\\ompat\\OneDrive\\Desktop\\mini_proj_data...         2   \n",
              "2      C:\\Users\\ompat\\OneDrive\\Desktop\\mini_proj_data...         2   \n",
              "3      C:\\Users\\ompat\\OneDrive\\Desktop\\mini_proj_data...         2   \n",
              "4      C:\\Users\\ompat\\OneDrive\\Desktop\\mini_proj_data...         2   \n",
              "...                                                  ...       ...   \n",
              "10010  C:\\Users\\ompat\\OneDrive\\Desktop\\mini_proj_data...         0   \n",
              "10011  C:\\Users\\ompat\\OneDrive\\Desktop\\mini_proj_data...         0   \n",
              "10012  C:\\Users\\ompat\\OneDrive\\Desktop\\mini_proj_data...         0   \n",
              "10013  C:\\Users\\ompat\\OneDrive\\Desktop\\mini_proj_data...         0   \n",
              "10014  C:\\Users\\ompat\\OneDrive\\Desktop\\mini_proj_data...         4   \n",
              "\n",
              "       is_malignant                                         clean_path variant  \n",
              "0                 0  C:/Users/ompat/OneDrive/Desktop/mini_proj_data...   clean  \n",
              "1                 0  C:/Users/ompat/OneDrive/Desktop/mini_proj_data...   clean  \n",
              "2                 0  C:/Users/ompat/OneDrive/Desktop/mini_proj_data...   clean  \n",
              "3                 0  C:/Users/ompat/OneDrive/Desktop/mini_proj_data...   clean  \n",
              "4                 0  C:/Users/ompat/OneDrive/Desktop/mini_proj_data...   clean  \n",
              "...             ...                                                ...     ...  \n",
              "10010             1  C:/Users/ompat/OneDrive/Desktop/mini_proj_data...   clean  \n",
              "10011             1  C:/Users/ompat/OneDrive/Desktop/mini_proj_data...   clean  \n",
              "10012             1  C:/Users/ompat/OneDrive/Desktop/mini_proj_data...   clean  \n",
              "10013             1  C:/Users/ompat/OneDrive/Desktop/mini_proj_data...   clean  \n",
              "10014             1  C:/Users/ompat/OneDrive/Desktop/mini_proj_data...   clean  \n",
              "\n",
              "[10015 rows x 12 columns]"
            ]
          },
          "execution_count": 24,
          "metadata": {},
          "output_type": "execute_result"
        }
      ],
      "source": [
        "#For Local Machine(Ignore for colab)\n",
        "df=pd.read_csv(r'C:\\Users\\ompat\\OneDrive\\Desktop\\mini_proj_data\\processed_data.csv')\n",
        "df"
      ]
    },
    {
      "cell_type": "code",
      "execution_count": 25,
      "metadata": {
        "colab": {
          "base_uri": "https://localhost:8080/",
          "height": 443
        },
        "id": "Sgf6FuVdHkjh",
        "outputId": "88f72a17-2a54-41a1-bd9e-50220051cb89"
      },
      "outputs": [
        {
          "ename": "FileNotFoundError",
          "evalue": "[Errno 2] No such file or directory: '/content/drive/MyDrive/mini_proj_data/processed_data.csv'",
          "output_type": "error",
          "traceback": [
            "\u001b[31m---------------------------------------------------------------------------\u001b[39m",
            "\u001b[31mFileNotFoundError\u001b[39m                         Traceback (most recent call last)",
            "\u001b[36mCell\u001b[39m\u001b[36m \u001b[39m\u001b[32mIn[25]\u001b[39m\u001b[32m, line 1\u001b[39m\n\u001b[32m----> \u001b[39m\u001b[32m1\u001b[39m df = \u001b[43mpd\u001b[49m\u001b[43m.\u001b[49m\u001b[43mread_csv\u001b[49m\u001b[43m(\u001b[49m\u001b[33;43m'\u001b[39;49m\u001b[33;43m/content/drive/MyDrive/mini_proj_data/processed_data.csv\u001b[39;49m\u001b[33;43m'\u001b[39;49m\u001b[43m)\u001b[49m\n\u001b[32m      2\u001b[39m df\n",
            "\u001b[36mFile \u001b[39m\u001b[32mc:\\Users\\ompat\\OneDrive\\Desktop\\Skin-Cancer-Classification\\venv\\Lib\\site-packages\\pandas\\io\\parsers\\readers.py:1026\u001b[39m, in \u001b[36mread_csv\u001b[39m\u001b[34m(filepath_or_buffer, sep, delimiter, header, names, index_col, usecols, dtype, engine, converters, true_values, false_values, skipinitialspace, skiprows, skipfooter, nrows, na_values, keep_default_na, na_filter, verbose, skip_blank_lines, parse_dates, infer_datetime_format, keep_date_col, date_parser, date_format, dayfirst, cache_dates, iterator, chunksize, compression, thousands, decimal, lineterminator, quotechar, quoting, doublequote, escapechar, comment, encoding, encoding_errors, dialect, on_bad_lines, delim_whitespace, low_memory, memory_map, float_precision, storage_options, dtype_backend)\u001b[39m\n\u001b[32m   1013\u001b[39m kwds_defaults = _refine_defaults_read(\n\u001b[32m   1014\u001b[39m     dialect,\n\u001b[32m   1015\u001b[39m     delimiter,\n\u001b[32m   (...)\u001b[39m\u001b[32m   1022\u001b[39m     dtype_backend=dtype_backend,\n\u001b[32m   1023\u001b[39m )\n\u001b[32m   1024\u001b[39m kwds.update(kwds_defaults)\n\u001b[32m-> \u001b[39m\u001b[32m1026\u001b[39m \u001b[38;5;28;01mreturn\u001b[39;00m \u001b[43m_read\u001b[49m\u001b[43m(\u001b[49m\u001b[43mfilepath_or_buffer\u001b[49m\u001b[43m,\u001b[49m\u001b[43m \u001b[49m\u001b[43mkwds\u001b[49m\u001b[43m)\u001b[49m\n",
            "\u001b[36mFile \u001b[39m\u001b[32mc:\\Users\\ompat\\OneDrive\\Desktop\\Skin-Cancer-Classification\\venv\\Lib\\site-packages\\pandas\\io\\parsers\\readers.py:620\u001b[39m, in \u001b[36m_read\u001b[39m\u001b[34m(filepath_or_buffer, kwds)\u001b[39m\n\u001b[32m    617\u001b[39m _validate_names(kwds.get(\u001b[33m\"\u001b[39m\u001b[33mnames\u001b[39m\u001b[33m\"\u001b[39m, \u001b[38;5;28;01mNone\u001b[39;00m))\n\u001b[32m    619\u001b[39m \u001b[38;5;66;03m# Create the parser.\u001b[39;00m\n\u001b[32m--> \u001b[39m\u001b[32m620\u001b[39m parser = \u001b[43mTextFileReader\u001b[49m\u001b[43m(\u001b[49m\u001b[43mfilepath_or_buffer\u001b[49m\u001b[43m,\u001b[49m\u001b[43m \u001b[49m\u001b[43m*\u001b[49m\u001b[43m*\u001b[49m\u001b[43mkwds\u001b[49m\u001b[43m)\u001b[49m\n\u001b[32m    622\u001b[39m \u001b[38;5;28;01mif\u001b[39;00m chunksize \u001b[38;5;129;01mor\u001b[39;00m iterator:\n\u001b[32m    623\u001b[39m     \u001b[38;5;28;01mreturn\u001b[39;00m parser\n",
            "\u001b[36mFile \u001b[39m\u001b[32mc:\\Users\\ompat\\OneDrive\\Desktop\\Skin-Cancer-Classification\\venv\\Lib\\site-packages\\pandas\\io\\parsers\\readers.py:1620\u001b[39m, in \u001b[36mTextFileReader.__init__\u001b[39m\u001b[34m(self, f, engine, **kwds)\u001b[39m\n\u001b[32m   1617\u001b[39m     \u001b[38;5;28mself\u001b[39m.options[\u001b[33m\"\u001b[39m\u001b[33mhas_index_names\u001b[39m\u001b[33m\"\u001b[39m] = kwds[\u001b[33m\"\u001b[39m\u001b[33mhas_index_names\u001b[39m\u001b[33m\"\u001b[39m]\n\u001b[32m   1619\u001b[39m \u001b[38;5;28mself\u001b[39m.handles: IOHandles | \u001b[38;5;28;01mNone\u001b[39;00m = \u001b[38;5;28;01mNone\u001b[39;00m\n\u001b[32m-> \u001b[39m\u001b[32m1620\u001b[39m \u001b[38;5;28mself\u001b[39m._engine = \u001b[38;5;28;43mself\u001b[39;49m\u001b[43m.\u001b[49m\u001b[43m_make_engine\u001b[49m\u001b[43m(\u001b[49m\u001b[43mf\u001b[49m\u001b[43m,\u001b[49m\u001b[43m \u001b[49m\u001b[38;5;28;43mself\u001b[39;49m\u001b[43m.\u001b[49m\u001b[43mengine\u001b[49m\u001b[43m)\u001b[49m\n",
            "\u001b[36mFile \u001b[39m\u001b[32mc:\\Users\\ompat\\OneDrive\\Desktop\\Skin-Cancer-Classification\\venv\\Lib\\site-packages\\pandas\\io\\parsers\\readers.py:1880\u001b[39m, in \u001b[36mTextFileReader._make_engine\u001b[39m\u001b[34m(self, f, engine)\u001b[39m\n\u001b[32m   1878\u001b[39m     \u001b[38;5;28;01mif\u001b[39;00m \u001b[33m\"\u001b[39m\u001b[33mb\u001b[39m\u001b[33m\"\u001b[39m \u001b[38;5;129;01mnot\u001b[39;00m \u001b[38;5;129;01min\u001b[39;00m mode:\n\u001b[32m   1879\u001b[39m         mode += \u001b[33m\"\u001b[39m\u001b[33mb\u001b[39m\u001b[33m\"\u001b[39m\n\u001b[32m-> \u001b[39m\u001b[32m1880\u001b[39m \u001b[38;5;28mself\u001b[39m.handles = \u001b[43mget_handle\u001b[49m\u001b[43m(\u001b[49m\n\u001b[32m   1881\u001b[39m \u001b[43m    \u001b[49m\u001b[43mf\u001b[49m\u001b[43m,\u001b[49m\n\u001b[32m   1882\u001b[39m \u001b[43m    \u001b[49m\u001b[43mmode\u001b[49m\u001b[43m,\u001b[49m\n\u001b[32m   1883\u001b[39m \u001b[43m    \u001b[49m\u001b[43mencoding\u001b[49m\u001b[43m=\u001b[49m\u001b[38;5;28;43mself\u001b[39;49m\u001b[43m.\u001b[49m\u001b[43moptions\u001b[49m\u001b[43m.\u001b[49m\u001b[43mget\u001b[49m\u001b[43m(\u001b[49m\u001b[33;43m\"\u001b[39;49m\u001b[33;43mencoding\u001b[39;49m\u001b[33;43m\"\u001b[39;49m\u001b[43m,\u001b[49m\u001b[43m \u001b[49m\u001b[38;5;28;43;01mNone\u001b[39;49;00m\u001b[43m)\u001b[49m\u001b[43m,\u001b[49m\n\u001b[32m   1884\u001b[39m \u001b[43m    \u001b[49m\u001b[43mcompression\u001b[49m\u001b[43m=\u001b[49m\u001b[38;5;28;43mself\u001b[39;49m\u001b[43m.\u001b[49m\u001b[43moptions\u001b[49m\u001b[43m.\u001b[49m\u001b[43mget\u001b[49m\u001b[43m(\u001b[49m\u001b[33;43m\"\u001b[39;49m\u001b[33;43mcompression\u001b[39;49m\u001b[33;43m\"\u001b[39;49m\u001b[43m,\u001b[49m\u001b[43m \u001b[49m\u001b[38;5;28;43;01mNone\u001b[39;49;00m\u001b[43m)\u001b[49m\u001b[43m,\u001b[49m\n\u001b[32m   1885\u001b[39m \u001b[43m    \u001b[49m\u001b[43mmemory_map\u001b[49m\u001b[43m=\u001b[49m\u001b[38;5;28;43mself\u001b[39;49m\u001b[43m.\u001b[49m\u001b[43moptions\u001b[49m\u001b[43m.\u001b[49m\u001b[43mget\u001b[49m\u001b[43m(\u001b[49m\u001b[33;43m\"\u001b[39;49m\u001b[33;43mmemory_map\u001b[39;49m\u001b[33;43m\"\u001b[39;49m\u001b[43m,\u001b[49m\u001b[43m \u001b[49m\u001b[38;5;28;43;01mFalse\u001b[39;49;00m\u001b[43m)\u001b[49m\u001b[43m,\u001b[49m\n\u001b[32m   1886\u001b[39m \u001b[43m    \u001b[49m\u001b[43mis_text\u001b[49m\u001b[43m=\u001b[49m\u001b[43mis_text\u001b[49m\u001b[43m,\u001b[49m\n\u001b[32m   1887\u001b[39m \u001b[43m    \u001b[49m\u001b[43merrors\u001b[49m\u001b[43m=\u001b[49m\u001b[38;5;28;43mself\u001b[39;49m\u001b[43m.\u001b[49m\u001b[43moptions\u001b[49m\u001b[43m.\u001b[49m\u001b[43mget\u001b[49m\u001b[43m(\u001b[49m\u001b[33;43m\"\u001b[39;49m\u001b[33;43mencoding_errors\u001b[39;49m\u001b[33;43m\"\u001b[39;49m\u001b[43m,\u001b[49m\u001b[43m \u001b[49m\u001b[33;43m\"\u001b[39;49m\u001b[33;43mstrict\u001b[39;49m\u001b[33;43m\"\u001b[39;49m\u001b[43m)\u001b[49m\u001b[43m,\u001b[49m\n\u001b[32m   1888\u001b[39m \u001b[43m    \u001b[49m\u001b[43mstorage_options\u001b[49m\u001b[43m=\u001b[49m\u001b[38;5;28;43mself\u001b[39;49m\u001b[43m.\u001b[49m\u001b[43moptions\u001b[49m\u001b[43m.\u001b[49m\u001b[43mget\u001b[49m\u001b[43m(\u001b[49m\u001b[33;43m\"\u001b[39;49m\u001b[33;43mstorage_options\u001b[39;49m\u001b[33;43m\"\u001b[39;49m\u001b[43m,\u001b[49m\u001b[43m \u001b[49m\u001b[38;5;28;43;01mNone\u001b[39;49;00m\u001b[43m)\u001b[49m\u001b[43m,\u001b[49m\n\u001b[32m   1889\u001b[39m \u001b[43m\u001b[49m\u001b[43m)\u001b[49m\n\u001b[32m   1890\u001b[39m \u001b[38;5;28;01massert\u001b[39;00m \u001b[38;5;28mself\u001b[39m.handles \u001b[38;5;129;01mis\u001b[39;00m \u001b[38;5;129;01mnot\u001b[39;00m \u001b[38;5;28;01mNone\u001b[39;00m\n\u001b[32m   1891\u001b[39m f = \u001b[38;5;28mself\u001b[39m.handles.handle\n",
            "\u001b[36mFile \u001b[39m\u001b[32mc:\\Users\\ompat\\OneDrive\\Desktop\\Skin-Cancer-Classification\\venv\\Lib\\site-packages\\pandas\\io\\common.py:873\u001b[39m, in \u001b[36mget_handle\u001b[39m\u001b[34m(path_or_buf, mode, encoding, compression, memory_map, is_text, errors, storage_options)\u001b[39m\n\u001b[32m    868\u001b[39m \u001b[38;5;28;01melif\u001b[39;00m \u001b[38;5;28misinstance\u001b[39m(handle, \u001b[38;5;28mstr\u001b[39m):\n\u001b[32m    869\u001b[39m     \u001b[38;5;66;03m# Check whether the filename is to be opened in binary mode.\u001b[39;00m\n\u001b[32m    870\u001b[39m     \u001b[38;5;66;03m# Binary mode does not support 'encoding' and 'newline'.\u001b[39;00m\n\u001b[32m    871\u001b[39m     \u001b[38;5;28;01mif\u001b[39;00m ioargs.encoding \u001b[38;5;129;01mand\u001b[39;00m \u001b[33m\"\u001b[39m\u001b[33mb\u001b[39m\u001b[33m\"\u001b[39m \u001b[38;5;129;01mnot\u001b[39;00m \u001b[38;5;129;01min\u001b[39;00m ioargs.mode:\n\u001b[32m    872\u001b[39m         \u001b[38;5;66;03m# Encoding\u001b[39;00m\n\u001b[32m--> \u001b[39m\u001b[32m873\u001b[39m         handle = \u001b[38;5;28;43mopen\u001b[39;49m\u001b[43m(\u001b[49m\n\u001b[32m    874\u001b[39m \u001b[43m            \u001b[49m\u001b[43mhandle\u001b[49m\u001b[43m,\u001b[49m\n\u001b[32m    875\u001b[39m \u001b[43m            \u001b[49m\u001b[43mioargs\u001b[49m\u001b[43m.\u001b[49m\u001b[43mmode\u001b[49m\u001b[43m,\u001b[49m\n\u001b[32m    876\u001b[39m \u001b[43m            \u001b[49m\u001b[43mencoding\u001b[49m\u001b[43m=\u001b[49m\u001b[43mioargs\u001b[49m\u001b[43m.\u001b[49m\u001b[43mencoding\u001b[49m\u001b[43m,\u001b[49m\n\u001b[32m    877\u001b[39m \u001b[43m            \u001b[49m\u001b[43merrors\u001b[49m\u001b[43m=\u001b[49m\u001b[43merrors\u001b[49m\u001b[43m,\u001b[49m\n\u001b[32m    878\u001b[39m \u001b[43m            \u001b[49m\u001b[43mnewline\u001b[49m\u001b[43m=\u001b[49m\u001b[33;43m\"\u001b[39;49m\u001b[33;43m\"\u001b[39;49m\u001b[43m,\u001b[49m\n\u001b[32m    879\u001b[39m \u001b[43m        \u001b[49m\u001b[43m)\u001b[49m\n\u001b[32m    880\u001b[39m     \u001b[38;5;28;01melse\u001b[39;00m:\n\u001b[32m    881\u001b[39m         \u001b[38;5;66;03m# Binary mode\u001b[39;00m\n\u001b[32m    882\u001b[39m         handle = \u001b[38;5;28mopen\u001b[39m(handle, ioargs.mode)\n",
            "\u001b[31mFileNotFoundError\u001b[39m: [Errno 2] No such file or directory: '/content/drive/MyDrive/mini_proj_data/processed_data.csv'"
          ]
        }
      ],
      "source": [
        "df = pd.read_csv('/content/drive/MyDrive/mini_proj_data/processed_data.csv')\n",
        "df"
      ]
    },
    {
      "cell_type": "code",
      "execution_count": 26,
      "metadata": {
        "colab": {
          "base_uri": "https://localhost:8080/"
        },
        "id": "cFca1CzSHpBI",
        "outputId": "080f71ee-55ac-44c7-830e-d362fdbdaee9"
      },
      "outputs": [
        {
          "data": {
            "text/plain": [
              "Index(['lesion_id', 'image_id', 'dx', 'dx_type', 'age', 'sex', 'localization',\n",
              "       'image_path', 'label_id', 'is_malignant', 'clean_path', 'variant'],\n",
              "      dtype='object')"
            ]
          },
          "execution_count": 26,
          "metadata": {},
          "output_type": "execute_result"
        }
      ],
      "source": [
        "df.columns"
      ]
    },
    {
      "cell_type": "code",
      "execution_count": 27,
      "metadata": {
        "id": "091ZuLiV3nTJ"
      },
      "outputs": [],
      "source": [
        "# ---------------------------\n",
        "# Block 2 — Load CSV, prepare metadata, labels and image paths; create train/val/test splits\n",
        "# ---------------------------\n",
        "\n",
        "\n",
        "# Keep only useful cols\n",
        "# Keep lesion_id to avoid leakage\n",
        "y = df['label_id'].values\n",
        "df = df[['lesion_id','image_path','clean_path','age','sex','localization',\n",
        "         'dx_type','is_malignant','variant']].copy()\n",
        "\n",
        "# --- Handle missing values safely ---\n",
        "df['age'] = pd.to_numeric(df['age'], errors='coerce')   # force non-numeric → NaN\n",
        "df['age'] = df['age'].fillna(df['age'].median())        # fill NaN with median\n",
        "\n",
        "# Clean up sex values (some datasets have 'unknown' or nan)\n",
        "df['sex'] = df['sex'].str.lower().replace({'nan': np.nan, 'unknown': np.nan, '': np.nan})\n",
        "df['sex'] = df['sex'].map({'male':0,'female':1})\n",
        "df['sex'] = df['sex'].fillna(-1).astype('float32')      # -1 = unknown, keeps row\n",
        "\n",
        "# Drop rows where image path is missing\n",
        "df = df.dropna(subset=['clean_path','is_malignant'])\n",
        "\n",
        "# One-hot encode categorical vars (fills missing with \"unknown\")\n",
        "for col in ['localization','dx_type']:\n",
        "    df[col] = df[col].fillna('unknown')\n",
        "df = pd.get_dummies(df, columns=['localization','dx_type','variant'], drop_first=False)\n",
        "\n",
        "# Scale age safely/\n",
        "scaler = StandardScaler()\n",
        "df['age_scaled'] = scaler.fit_transform(df[['age']]).astype('float32')"
      ]
    },
    {
      "cell_type": "code",
      "execution_count": 28,
      "metadata": {
        "colab": {
          "base_uri": "https://localhost:8080/",
          "height": 461
        },
        "id": "GPzkJivV4wiv",
        "outputId": "faacc2b0-6641-4a04-9d9d-d9046c4412c8"
      },
      "outputs": [
        {
          "data": {
            "text/html": [
              "<div>\n",
              "<style scoped>\n",
              "    .dataframe tbody tr th:only-of-type {\n",
              "        vertical-align: middle;\n",
              "    }\n",
              "\n",
              "    .dataframe tbody tr th {\n",
              "        vertical-align: top;\n",
              "    }\n",
              "\n",
              "    .dataframe thead th {\n",
              "        text-align: right;\n",
              "    }\n",
              "</style>\n",
              "<table border=\"1\" class=\"dataframe\">\n",
              "  <thead>\n",
              "    <tr style=\"text-align: right;\">\n",
              "      <th></th>\n",
              "      <th>lesion_id</th>\n",
              "      <th>image_path</th>\n",
              "      <th>clean_path</th>\n",
              "      <th>age</th>\n",
              "      <th>sex</th>\n",
              "      <th>is_malignant</th>\n",
              "      <th>localization_abdomen</th>\n",
              "      <th>localization_acral</th>\n",
              "      <th>localization_back</th>\n",
              "      <th>localization_chest</th>\n",
              "      <th>...</th>\n",
              "      <th>localization_scalp</th>\n",
              "      <th>localization_trunk</th>\n",
              "      <th>localization_unknown</th>\n",
              "      <th>localization_upper extremity</th>\n",
              "      <th>dx_type_confocal</th>\n",
              "      <th>dx_type_consensus</th>\n",
              "      <th>dx_type_follow_up</th>\n",
              "      <th>dx_type_histo</th>\n",
              "      <th>variant_clean</th>\n",
              "      <th>age_scaled</th>\n",
              "    </tr>\n",
              "  </thead>\n",
              "  <tbody>\n",
              "    <tr>\n",
              "      <th>0</th>\n",
              "      <td>HAM_0000118</td>\n",
              "      <td>C:\\Users\\ompat\\OneDrive\\Desktop\\mini_proj_data...</td>\n",
              "      <td>C:/Users/ompat/OneDrive/Desktop/mini_proj_data...</td>\n",
              "      <td>80.0</td>\n",
              "      <td>0.0</td>\n",
              "      <td>0</td>\n",
              "      <td>False</td>\n",
              "      <td>False</td>\n",
              "      <td>False</td>\n",
              "      <td>False</td>\n",
              "      <td>...</td>\n",
              "      <td>True</td>\n",
              "      <td>False</td>\n",
              "      <td>False</td>\n",
              "      <td>False</td>\n",
              "      <td>False</td>\n",
              "      <td>False</td>\n",
              "      <td>False</td>\n",
              "      <td>True</td>\n",
              "      <td>True</td>\n",
              "      <td>1.663522</td>\n",
              "    </tr>\n",
              "    <tr>\n",
              "      <th>1</th>\n",
              "      <td>HAM_0000118</td>\n",
              "      <td>C:\\Users\\ompat\\OneDrive\\Desktop\\mini_proj_data...</td>\n",
              "      <td>C:/Users/ompat/OneDrive/Desktop/mini_proj_data...</td>\n",
              "      <td>80.0</td>\n",
              "      <td>0.0</td>\n",
              "      <td>0</td>\n",
              "      <td>False</td>\n",
              "      <td>False</td>\n",
              "      <td>False</td>\n",
              "      <td>False</td>\n",
              "      <td>...</td>\n",
              "      <td>True</td>\n",
              "      <td>False</td>\n",
              "      <td>False</td>\n",
              "      <td>False</td>\n",
              "      <td>False</td>\n",
              "      <td>False</td>\n",
              "      <td>False</td>\n",
              "      <td>True</td>\n",
              "      <td>True</td>\n",
              "      <td>1.663522</td>\n",
              "    </tr>\n",
              "    <tr>\n",
              "      <th>2</th>\n",
              "      <td>HAM_0002730</td>\n",
              "      <td>C:\\Users\\ompat\\OneDrive\\Desktop\\mini_proj_data...</td>\n",
              "      <td>C:/Users/ompat/OneDrive/Desktop/mini_proj_data...</td>\n",
              "      <td>80.0</td>\n",
              "      <td>0.0</td>\n",
              "      <td>0</td>\n",
              "      <td>False</td>\n",
              "      <td>False</td>\n",
              "      <td>False</td>\n",
              "      <td>False</td>\n",
              "      <td>...</td>\n",
              "      <td>True</td>\n",
              "      <td>False</td>\n",
              "      <td>False</td>\n",
              "      <td>False</td>\n",
              "      <td>False</td>\n",
              "      <td>False</td>\n",
              "      <td>False</td>\n",
              "      <td>True</td>\n",
              "      <td>True</td>\n",
              "      <td>1.663522</td>\n",
              "    </tr>\n",
              "    <tr>\n",
              "      <th>3</th>\n",
              "      <td>HAM_0002730</td>\n",
              "      <td>C:\\Users\\ompat\\OneDrive\\Desktop\\mini_proj_data...</td>\n",
              "      <td>C:/Users/ompat/OneDrive/Desktop/mini_proj_data...</td>\n",
              "      <td>80.0</td>\n",
              "      <td>0.0</td>\n",
              "      <td>0</td>\n",
              "      <td>False</td>\n",
              "      <td>False</td>\n",
              "      <td>False</td>\n",
              "      <td>False</td>\n",
              "      <td>...</td>\n",
              "      <td>True</td>\n",
              "      <td>False</td>\n",
              "      <td>False</td>\n",
              "      <td>False</td>\n",
              "      <td>False</td>\n",
              "      <td>False</td>\n",
              "      <td>False</td>\n",
              "      <td>True</td>\n",
              "      <td>True</td>\n",
              "      <td>1.663522</td>\n",
              "    </tr>\n",
              "    <tr>\n",
              "      <th>4</th>\n",
              "      <td>HAM_0001466</td>\n",
              "      <td>C:\\Users\\ompat\\OneDrive\\Desktop\\mini_proj_data...</td>\n",
              "      <td>C:/Users/ompat/OneDrive/Desktop/mini_proj_data...</td>\n",
              "      <td>75.0</td>\n",
              "      <td>0.0</td>\n",
              "      <td>0</td>\n",
              "      <td>False</td>\n",
              "      <td>False</td>\n",
              "      <td>False</td>\n",
              "      <td>False</td>\n",
              "      <td>...</td>\n",
              "      <td>False</td>\n",
              "      <td>False</td>\n",
              "      <td>False</td>\n",
              "      <td>False</td>\n",
              "      <td>False</td>\n",
              "      <td>False</td>\n",
              "      <td>False</td>\n",
              "      <td>True</td>\n",
              "      <td>True</td>\n",
              "      <td>1.368014</td>\n",
              "    </tr>\n",
              "    <tr>\n",
              "      <th>...</th>\n",
              "      <td>...</td>\n",
              "      <td>...</td>\n",
              "      <td>...</td>\n",
              "      <td>...</td>\n",
              "      <td>...</td>\n",
              "      <td>...</td>\n",
              "      <td>...</td>\n",
              "      <td>...</td>\n",
              "      <td>...</td>\n",
              "      <td>...</td>\n",
              "      <td>...</td>\n",
              "      <td>...</td>\n",
              "      <td>...</td>\n",
              "      <td>...</td>\n",
              "      <td>...</td>\n",
              "      <td>...</td>\n",
              "      <td>...</td>\n",
              "      <td>...</td>\n",
              "      <td>...</td>\n",
              "      <td>...</td>\n",
              "      <td>...</td>\n",
              "    </tr>\n",
              "    <tr>\n",
              "      <th>10010</th>\n",
              "      <td>HAM_0002867</td>\n",
              "      <td>C:\\Users\\ompat\\OneDrive\\Desktop\\mini_proj_data...</td>\n",
              "      <td>C:/Users/ompat/OneDrive/Desktop/mini_proj_data...</td>\n",
              "      <td>40.0</td>\n",
              "      <td>0.0</td>\n",
              "      <td>1</td>\n",
              "      <td>True</td>\n",
              "      <td>False</td>\n",
              "      <td>False</td>\n",
              "      <td>False</td>\n",
              "      <td>...</td>\n",
              "      <td>False</td>\n",
              "      <td>False</td>\n",
              "      <td>False</td>\n",
              "      <td>False</td>\n",
              "      <td>False</td>\n",
              "      <td>False</td>\n",
              "      <td>False</td>\n",
              "      <td>True</td>\n",
              "      <td>True</td>\n",
              "      <td>-0.700545</td>\n",
              "    </tr>\n",
              "    <tr>\n",
              "      <th>10011</th>\n",
              "      <td>HAM_0002867</td>\n",
              "      <td>C:\\Users\\ompat\\OneDrive\\Desktop\\mini_proj_data...</td>\n",
              "      <td>C:/Users/ompat/OneDrive/Desktop/mini_proj_data...</td>\n",
              "      <td>40.0</td>\n",
              "      <td>0.0</td>\n",
              "      <td>1</td>\n",
              "      <td>True</td>\n",
              "      <td>False</td>\n",
              "      <td>False</td>\n",
              "      <td>False</td>\n",
              "      <td>...</td>\n",
              "      <td>False</td>\n",
              "      <td>False</td>\n",
              "      <td>False</td>\n",
              "      <td>False</td>\n",
              "      <td>False</td>\n",
              "      <td>False</td>\n",
              "      <td>False</td>\n",
              "      <td>True</td>\n",
              "      <td>True</td>\n",
              "      <td>-0.700545</td>\n",
              "    </tr>\n",
              "    <tr>\n",
              "      <th>10012</th>\n",
              "      <td>HAM_0002867</td>\n",
              "      <td>C:\\Users\\ompat\\OneDrive\\Desktop\\mini_proj_data...</td>\n",
              "      <td>C:/Users/ompat/OneDrive/Desktop/mini_proj_data...</td>\n",
              "      <td>40.0</td>\n",
              "      <td>0.0</td>\n",
              "      <td>1</td>\n",
              "      <td>True</td>\n",
              "      <td>False</td>\n",
              "      <td>False</td>\n",
              "      <td>False</td>\n",
              "      <td>...</td>\n",
              "      <td>False</td>\n",
              "      <td>False</td>\n",
              "      <td>False</td>\n",
              "      <td>False</td>\n",
              "      <td>False</td>\n",
              "      <td>False</td>\n",
              "      <td>False</td>\n",
              "      <td>True</td>\n",
              "      <td>True</td>\n",
              "      <td>-0.700545</td>\n",
              "    </tr>\n",
              "    <tr>\n",
              "      <th>10013</th>\n",
              "      <td>HAM_0000239</td>\n",
              "      <td>C:\\Users\\ompat\\OneDrive\\Desktop\\mini_proj_data...</td>\n",
              "      <td>C:/Users/ompat/OneDrive/Desktop/mini_proj_data...</td>\n",
              "      <td>80.0</td>\n",
              "      <td>0.0</td>\n",
              "      <td>1</td>\n",
              "      <td>False</td>\n",
              "      <td>False</td>\n",
              "      <td>False</td>\n",
              "      <td>False</td>\n",
              "      <td>...</td>\n",
              "      <td>False</td>\n",
              "      <td>False</td>\n",
              "      <td>False</td>\n",
              "      <td>False</td>\n",
              "      <td>False</td>\n",
              "      <td>False</td>\n",
              "      <td>False</td>\n",
              "      <td>True</td>\n",
              "      <td>True</td>\n",
              "      <td>1.663522</td>\n",
              "    </tr>\n",
              "    <tr>\n",
              "      <th>10014</th>\n",
              "      <td>HAM_0003521</td>\n",
              "      <td>C:\\Users\\ompat\\OneDrive\\Desktop\\mini_proj_data...</td>\n",
              "      <td>C:/Users/ompat/OneDrive/Desktop/mini_proj_data...</td>\n",
              "      <td>70.0</td>\n",
              "      <td>1.0</td>\n",
              "      <td>1</td>\n",
              "      <td>False</td>\n",
              "      <td>False</td>\n",
              "      <td>True</td>\n",
              "      <td>False</td>\n",
              "      <td>...</td>\n",
              "      <td>False</td>\n",
              "      <td>False</td>\n",
              "      <td>False</td>\n",
              "      <td>False</td>\n",
              "      <td>False</td>\n",
              "      <td>False</td>\n",
              "      <td>False</td>\n",
              "      <td>True</td>\n",
              "      <td>True</td>\n",
              "      <td>1.072505</td>\n",
              "    </tr>\n",
              "  </tbody>\n",
              "</table>\n",
              "<p>10015 rows × 27 columns</p>\n",
              "</div>"
            ],
            "text/plain": [
              "         lesion_id                                         image_path  \\\n",
              "0      HAM_0000118  C:\\Users\\ompat\\OneDrive\\Desktop\\mini_proj_data...   \n",
              "1      HAM_0000118  C:\\Users\\ompat\\OneDrive\\Desktop\\mini_proj_data...   \n",
              "2      HAM_0002730  C:\\Users\\ompat\\OneDrive\\Desktop\\mini_proj_data...   \n",
              "3      HAM_0002730  C:\\Users\\ompat\\OneDrive\\Desktop\\mini_proj_data...   \n",
              "4      HAM_0001466  C:\\Users\\ompat\\OneDrive\\Desktop\\mini_proj_data...   \n",
              "...            ...                                                ...   \n",
              "10010  HAM_0002867  C:\\Users\\ompat\\OneDrive\\Desktop\\mini_proj_data...   \n",
              "10011  HAM_0002867  C:\\Users\\ompat\\OneDrive\\Desktop\\mini_proj_data...   \n",
              "10012  HAM_0002867  C:\\Users\\ompat\\OneDrive\\Desktop\\mini_proj_data...   \n",
              "10013  HAM_0000239  C:\\Users\\ompat\\OneDrive\\Desktop\\mini_proj_data...   \n",
              "10014  HAM_0003521  C:\\Users\\ompat\\OneDrive\\Desktop\\mini_proj_data...   \n",
              "\n",
              "                                              clean_path   age  sex  \\\n",
              "0      C:/Users/ompat/OneDrive/Desktop/mini_proj_data...  80.0  0.0   \n",
              "1      C:/Users/ompat/OneDrive/Desktop/mini_proj_data...  80.0  0.0   \n",
              "2      C:/Users/ompat/OneDrive/Desktop/mini_proj_data...  80.0  0.0   \n",
              "3      C:/Users/ompat/OneDrive/Desktop/mini_proj_data...  80.0  0.0   \n",
              "4      C:/Users/ompat/OneDrive/Desktop/mini_proj_data...  75.0  0.0   \n",
              "...                                                  ...   ...  ...   \n",
              "10010  C:/Users/ompat/OneDrive/Desktop/mini_proj_data...  40.0  0.0   \n",
              "10011  C:/Users/ompat/OneDrive/Desktop/mini_proj_data...  40.0  0.0   \n",
              "10012  C:/Users/ompat/OneDrive/Desktop/mini_proj_data...  40.0  0.0   \n",
              "10013  C:/Users/ompat/OneDrive/Desktop/mini_proj_data...  80.0  0.0   \n",
              "10014  C:/Users/ompat/OneDrive/Desktop/mini_proj_data...  70.0  1.0   \n",
              "\n",
              "       is_malignant  localization_abdomen  localization_acral  \\\n",
              "0                 0                 False               False   \n",
              "1                 0                 False               False   \n",
              "2                 0                 False               False   \n",
              "3                 0                 False               False   \n",
              "4                 0                 False               False   \n",
              "...             ...                   ...                 ...   \n",
              "10010             1                  True               False   \n",
              "10011             1                  True               False   \n",
              "10012             1                  True               False   \n",
              "10013             1                 False               False   \n",
              "10014             1                 False               False   \n",
              "\n",
              "       localization_back  localization_chest  ...  localization_scalp  \\\n",
              "0                  False               False  ...                True   \n",
              "1                  False               False  ...                True   \n",
              "2                  False               False  ...                True   \n",
              "3                  False               False  ...                True   \n",
              "4                  False               False  ...               False   \n",
              "...                  ...                 ...  ...                 ...   \n",
              "10010              False               False  ...               False   \n",
              "10011              False               False  ...               False   \n",
              "10012              False               False  ...               False   \n",
              "10013              False               False  ...               False   \n",
              "10014               True               False  ...               False   \n",
              "\n",
              "       localization_trunk  localization_unknown  localization_upper extremity  \\\n",
              "0                   False                 False                         False   \n",
              "1                   False                 False                         False   \n",
              "2                   False                 False                         False   \n",
              "3                   False                 False                         False   \n",
              "4                   False                 False                         False   \n",
              "...                   ...                   ...                           ...   \n",
              "10010               False                 False                         False   \n",
              "10011               False                 False                         False   \n",
              "10012               False                 False                         False   \n",
              "10013               False                 False                         False   \n",
              "10014               False                 False                         False   \n",
              "\n",
              "       dx_type_confocal  dx_type_consensus  dx_type_follow_up  dx_type_histo  \\\n",
              "0                 False              False              False           True   \n",
              "1                 False              False              False           True   \n",
              "2                 False              False              False           True   \n",
              "3                 False              False              False           True   \n",
              "4                 False              False              False           True   \n",
              "...                 ...                ...                ...            ...   \n",
              "10010             False              False              False           True   \n",
              "10011             False              False              False           True   \n",
              "10012             False              False              False           True   \n",
              "10013             False              False              False           True   \n",
              "10014             False              False              False           True   \n",
              "\n",
              "       variant_clean  age_scaled  \n",
              "0               True    1.663522  \n",
              "1               True    1.663522  \n",
              "2               True    1.663522  \n",
              "3               True    1.663522  \n",
              "4               True    1.368014  \n",
              "...              ...         ...  \n",
              "10010           True   -0.700545  \n",
              "10011           True   -0.700545  \n",
              "10012           True   -0.700545  \n",
              "10013           True    1.663522  \n",
              "10014           True    1.072505  \n",
              "\n",
              "[10015 rows x 27 columns]"
            ]
          },
          "execution_count": 28,
          "metadata": {},
          "output_type": "execute_result"
        }
      ],
      "source": [
        "df"
      ]
    },
    {
      "cell_type": "code",
      "execution_count": 29,
      "metadata": {
        "colab": {
          "base_uri": "https://localhost:8080/"
        },
        "id": "pQKzY4NT6q_O",
        "outputId": "c745af70-6019-4645-b19f-bd4106e49de2"
      },
      "outputs": [
        {
          "data": {
            "text/plain": [
              "array([2, 2, 2, ..., 0, 0, 4], shape=(10015,))"
            ]
          },
          "execution_count": 29,
          "metadata": {},
          "output_type": "execute_result"
        }
      ],
      "source": [
        "y\n"
      ]
    },
    {
      "cell_type": "code",
      "execution_count": 30,
      "metadata": {
        "colab": {
          "base_uri": "https://localhost:8080/"
        },
        "id": "eUgxaVi98-E8",
        "outputId": "f73838cc-603d-4334-9860-202aeec3850f"
      },
      "outputs": [
        {
          "data": {
            "text/plain": [
              "array([[ 1.6635225 ,  0.        ,  0.        , ...,  0.        ,\n",
              "         1.        ,  1.        ],\n",
              "       [ 1.6635225 ,  0.        ,  0.        , ...,  0.        ,\n",
              "         1.        ,  1.        ],\n",
              "       [ 1.6635225 ,  0.        ,  0.        , ...,  0.        ,\n",
              "         1.        ,  1.        ],\n",
              "       ...,\n",
              "       [-0.70054543,  0.        ,  1.        , ...,  0.        ,\n",
              "         1.        ,  1.        ],\n",
              "       [ 1.6635225 ,  0.        ,  0.        , ...,  0.        ,\n",
              "         1.        ,  1.        ],\n",
              "       [ 1.0725055 ,  1.        ,  0.        , ...,  0.        ,\n",
              "         1.        ,  1.        ]], shape=(10015, 22), dtype=float32)"
            ]
          },
          "execution_count": 30,
          "metadata": {},
          "output_type": "execute_result"
        }
      ],
      "source": [
        "# Metadata features\n",
        "feature_cols = ['age_scaled','sex'] + [c for c in df.columns if c.startswith('localization_')\n",
        "                                        or c.startswith('dx_type_')\n",
        "                                        or c.startswith('variant_')]\n",
        "X_meta = df[feature_cols].values.astype('float32')\n",
        "\n",
        "X_meta\n"
      ]
    },
    {
      "cell_type": "code",
      "execution_count": 31,
      "metadata": {
        "colab": {
          "base_uri": "https://localhost:8080/"
        },
        "id": "uS2oyepq9QNT",
        "outputId": "79138e67-238e-42e1-f4fe-1b9830f7fdf7"
      },
      "outputs": [
        {
          "data": {
            "text/plain": [
              "(10015, 22)"
            ]
          },
          "execution_count": 31,
          "metadata": {},
          "output_type": "execute_result"
        }
      ],
      "source": [
        "X_meta.shape"
      ]
    },
    {
      "cell_type": "code",
      "execution_count": 32,
      "metadata": {},
      "outputs": [],
      "source": [
        "X = df['clean_path']   # paths to images\n",
        "\n"
      ]
    },
    {
      "cell_type": "code",
      "execution_count": 14,
      "metadata": {},
      "outputs": [],
      "source": [
        "from sklearn.model_selection import train_test_split\n",
        "\n",
        "# Train + validation and test split\n",
        "X_train_val, X_test, y_train_val, y_test = train_test_split(\n",
        "    X, y, test_size=0.1, stratify=y, random_state=42\n",
        ")\n",
        "\n",
        "# Train and validation split\n",
        "X_train, X_val, y_train, y_val = train_test_split(\n",
        "    X_train_val, y_train_val, test_size=0.1, stratify=y_train_val, random_state=42\n",
        ")\n"
      ]
    },
    {
      "cell_type": "code",
      "execution_count": 33,
      "metadata": {
        "colab": {
          "base_uri": "https://localhost:8080/",
          "height": 176
        },
        "id": "rKeTUTI27WcF",
        "outputId": "77ccfd02-4582-4b27-abf2-eb8f2dff4c6e"
      },
      "outputs": [],
      "source": [
        "import cv2\n",
        "import numpy as np\n",
        "\n",
        "def load_and_preprocess_image(path, target_size=(224,224)):\n",
        "    img = cv2.imread(path)                      # read image\n",
        "    img = cv2.cvtColor(img, cv2.COLOR_BGR2RGB)  \n",
        "    img = cv2.resize(img, target_size)\n",
        "    img = img / 255.0                           # normalize to [0,1]\n",
        "    return img.astype('float32')\n",
        "\n",
        "# --- Load datasets ---\n",
        "# X_train_images = np.array([load_and_preprocess_image(p) for p in X_train])\n",
        "# X_val_images   = np.array([load_and_preprocess_image(p) for p in X_val])\n",
        "# X_test_images  = np.array([load_and_preprocess_image(p) for p in X_test])\n",
        "X_images=np.array([load_and_preprocess_image(p) for p in X])\n",
        "\n",
        "# --- Standardization step (per-channel) ---\n",
        "mean = np.mean(X_images, axis=(0,1,2), keepdims=True)\n",
        "std  = np.std(X_images, axis=(0,1,2), keepdims=True)\n",
        "\n",
        "X_images = (X_images - mean) / (std + 1e-7)\n",
        "# X_val_images   = (X_val_images   - mean) / (std + 1e-7)\n",
        "# X_test_images  = (X_test_images  - mean) / (std + 1e-7)\n"
      ]
    },
    {
      "cell_type": "code",
      "execution_count": 34,
      "metadata": {},
      "outputs": [
        {
          "data": {
            "text/plain": [
              "array([[[[ 3.4443824 ,  2.6502833 ,  3.5302312 ],\n",
              "         [ 3.659004  ,  2.8649046 ,  3.7448525 ],\n",
              "         [ 3.6804662 ,  2.8863668 ,  3.809239  ],\n",
              "         ...,\n",
              "         [ 3.8736255 ,  2.9936776 ,  3.2941475 ],\n",
              "         [ 3.9165497 ,  3.0366018 ,  3.4229205 ],\n",
              "         [ 4.088247  ,  3.208299  ,  3.5946176 ]],\n",
              "\n",
              "        [[ 3.4658446 ,  2.6502833 ,  3.5302312 ],\n",
              "         [ 3.7233903 ,  2.929291  ,  3.809239  ],\n",
              "         [ 3.8521633 ,  3.058064  ,  3.980936  ],\n",
              "         ...,\n",
              "         [ 3.8521633 ,  2.9722154 ,  3.2726853 ],\n",
              "         [ 4.152633  ,  3.2726853 ,  3.6160798 ],\n",
              "         [ 4.0453224 ,  3.1653748 ,  3.508769  ]],\n",
              "\n",
              "        [[ 3.5516932 ,  2.6717453 ,  3.5302312 ],\n",
              "         [ 3.6375418 ,  2.8219805 ,  3.659004  ],\n",
              "         [ 3.7019284 ,  2.8863668 ,  3.7663147 ],\n",
              "         ...,\n",
              "         [ 3.8521633 ,  2.9507532 ,  3.208299  ],\n",
              "         [ 4.109709  ,  3.208299  ,  3.4658446 ],\n",
              "         [ 3.959474  ,  3.058064  ,  3.3585339 ]],\n",
              "\n",
              "        ...,\n",
              "\n",
              "        [[ 2.2425025 ,  1.5342516 ,  2.156654  ],\n",
              "         [ 2.328351  ,  1.6201001 ,  2.199578  ],\n",
              "         [ 2.4141996 ,  1.7059487 ,  2.2854266 ],\n",
              "         ...,\n",
              "         [ 3.938012  ,  3.2512233 ,  3.7448525 ],\n",
              "         [ 3.7448525 ,  3.0366018 ,  3.4443824 ],\n",
              "         [ 3.4873068 ,  2.779056  ,  3.1439126 ]],\n",
              "\n",
              "        [[ 2.1781158 ,  1.4698652 ,  2.049343  ],\n",
              "         [ 2.2210402 ,  1.5127895 ,  2.0922673 ],\n",
              "         [ 2.3068888 ,  1.5771759 ,  2.156654  ],\n",
              "         ...,\n",
              "         [ 4.066785  ,  3.379996  ,  3.8950875 ],\n",
              "         [ 3.6804662 ,  2.9936776 ,  3.4443824 ],\n",
              "         [ 3.508769  ,  2.8434424 ,  3.2297611 ]],\n",
              "\n",
              "        [[ 2.1351917 ,  1.4269409 ,  2.0064187 ],\n",
              "         [ 2.1351917 ,  1.4269409 ,  2.0064187 ],\n",
              "         [ 2.1781158 ,  1.448403  ,  1.9849566 ],\n",
              "         ...,\n",
              "         [ 4.088247  ,  3.4014583 ,  3.9165497 ],\n",
              "         [ 3.659004  ,  2.9722154 ,  3.4658446 ],\n",
              "         [ 3.5516932 ,  2.8649046 ,  3.3156097 ]]],\n",
              "\n",
              "\n",
              "       [[[ 0.18213643, -0.07540932,  0.18213643],\n",
              "         [ 0.22506072, -0.03248504,  0.22506072],\n",
              "         [ 0.267985  ,  0.01043926,  0.3109093 ],\n",
              "         ...,\n",
              "         [ 0.6543036 ,  0.16067429,  0.71869004],\n",
              "         [ 0.4611443 ,  0.0319014 ,  0.6113793 ],\n",
              "         [ 0.56845504,  0.13921212,  0.71869004]],\n",
              "\n",
              "        [[ 0.20359857, -0.05394718,  0.20359857],\n",
              "         [ 0.13921212, -0.11833362,  0.13921212],\n",
              "         [ 0.16067429, -0.09687147,  0.20359857],\n",
              "         ...,\n",
              "         [ 0.6543036 ,  0.16067429,  0.71869004],\n",
              "         [ 0.48260644,  0.05336355,  0.63284147],\n",
              "         [ 0.52553076,  0.09628783,  0.67576575]],\n",
              "\n",
              "        [[ 0.18213643, -0.07540932,  0.18213643],\n",
              "         [ 0.11774997, -0.13979577,  0.11774997],\n",
              "         [ 0.13921212, -0.11833362,  0.18213643],\n",
              "         ...,\n",
              "         [ 0.63284147,  0.13921212,  0.6972279 ],\n",
              "         [ 0.48260644,  0.05336355,  0.63284147],\n",
              "         [ 0.48260644,  0.05336355,  0.63284147]],\n",
              "\n",
              "        ...,\n",
              "\n",
              "        [[ 0.6543036 ,  0.18213643,  0.63284147],\n",
              "         [ 0.7616143 ,  0.28944713,  0.7401522 ],\n",
              "         [ 0.86892503,  0.39675787,  0.8474629 ],\n",
              "         ...,\n",
              "         [ 0.37529573,  0.11774997,  0.37529573],\n",
              "         [ 0.3109093 ,  0.09628783,  0.33237144],\n",
              "         [ 0.24652286,  0.0319014 ,  0.267985  ]],\n",
              "\n",
              "        [[ 0.6543036 ,  0.18213643,  0.63284147],\n",
              "         [ 0.7616143 ,  0.28944713,  0.7401522 ],\n",
              "         [ 0.8045386 ,  0.33237144,  0.78307647],\n",
              "         ...,\n",
              "         [ 0.3538336 ,  0.09628783,  0.3538336 ],\n",
              "         [ 0.28944713,  0.07482569,  0.3109093 ],\n",
              "         [ 0.267985  ,  0.05336355,  0.28944713]],\n",
              "\n",
              "        [[ 0.67576575,  0.20359857,  0.6543036 ],\n",
              "         [ 0.7401522 ,  0.267985  ,  0.71869004],\n",
              "         [ 0.7401522 ,  0.267985  ,  0.71869004],\n",
              "         ...,\n",
              "         [ 0.39675787,  0.13921212,  0.39675787],\n",
              "         [ 0.28944713,  0.07482569,  0.3109093 ],\n",
              "         [ 0.20359857, -0.01102288,  0.22506072]]],\n",
              "\n",
              "\n",
              "       [[[ 3.0151396 ,  1.8132595 ,  2.049343  ],\n",
              "         [ 3.1009881 ,  1.899108  ,  2.1351917 ],\n",
              "         [ 3.208299  ,  2.049343  ,  2.328351  ],\n",
              "         ...,\n",
              "         [ 1.598638  ,  0.8045386 ,  1.169395  ],\n",
              "         [ 1.448403  ,  0.6543036 ,  1.01916   ],\n",
              "         [ 1.5127895 ,  0.71869004,  1.0835464 ]],\n",
              "\n",
              "        [[ 3.058064  ,  1.8561838 ,  2.0922673 ],\n",
              "         [ 3.058064  ,  1.8561838 ,  2.0922673 ],\n",
              "         [ 3.1224504 ,  1.9634945 ,  2.2425025 ],\n",
              "         ...,\n",
              "         [ 1.7274109 ,  0.93331146,  1.2981681 ],\n",
              "         [ 1.5557138 ,  0.7616143 ,  1.1264707 ],\n",
              "         [ 1.5127895 ,  0.71869004,  1.0835464 ]],\n",
              "\n",
              "        [[ 2.907829  ,  1.7488731 ,  2.027881  ],\n",
              "         [ 2.8863668 ,  1.7274109 ,  2.0064187 ],\n",
              "         [ 2.9936776 ,  1.8347217 ,  2.1351917 ],\n",
              "         ...,\n",
              "         [ 1.7917974 ,  0.9547736 ,  1.3410923 ],\n",
              "         [ 1.598638  ,  0.82600075,  1.1264707 ],\n",
              "         [ 1.448403  ,  0.67576575,  0.97623575]],\n",
              "\n",
              "        ...,\n",
              "\n",
              "        [[ 3.659004  ,  2.478586  ,  2.5429723 ],\n",
              "         [ 3.5946176 ,  2.3927374 ,  2.4571238 ],\n",
              "         [ 3.3585339 ,  2.0708053 ,  2.2425025 ],\n",
              "         ...,\n",
              "         [ 1.5557138 ,  0.97623575,  1.0835464 ],\n",
              "         [ 1.4054787 ,  0.82600075,  0.93331146],\n",
              "         [ 1.2337816 ,  0.67576575,  0.7401522 ]],\n",
              "\n",
              "        [[ 3.4229205 ,  2.2425025 ,  2.3068888 ],\n",
              "         [ 3.2726853 ,  2.0708053 ,  2.1351917 ],\n",
              "         [ 3.2941475 ,  2.0064187 ,  2.1781158 ],\n",
              "         ...,\n",
              "         [ 1.4698652 ,  0.8474629 ,  0.93331146],\n",
              "         [ 1.448403  ,  0.82600075,  0.9118493 ],\n",
              "         [ 1.2552438 ,  0.63284147,  0.67576575]],\n",
              "\n",
              "        [[ 3.337072  ,  2.156654  ,  2.2210402 ],\n",
              "         [ 3.4229205 ,  2.2210402 ,  2.2854266 ],\n",
              "         [ 3.2726853 ,  1.9849566 ,  2.156654  ],\n",
              "         ...,\n",
              "         [ 1.3625544 ,  0.7401522 ,  0.82600075],\n",
              "         [ 1.4269409 ,  0.8045386 ,  0.8474629 ],\n",
              "         [ 1.2337816 ,  0.6113793 ,  0.6543036 ]]],\n",
              "\n",
              "\n",
              "       ...,\n",
              "\n",
              "\n",
              "       [[[ 1.1479329 ,  1.0406221 ,  0.97623575],\n",
              "         [ 1.1479329 ,  1.0406221 ,  0.97623575],\n",
              "         [ 1.2552438 ,  1.0620843 ,  1.0835464 ],\n",
              "         ...,\n",
              "         [ 1.2552438 ,  0.9547736 ,  0.71869004],\n",
              "         [ 1.1908573 ,  0.9118493 ,  0.7401522 ],\n",
              "         [ 1.2552438 ,  0.97623575,  0.8045386 ]],\n",
              "\n",
              "        [[ 1.1908573 ,  1.0835464 ,  1.01916   ],\n",
              "         [ 1.2123195 ,  1.1050086 ,  1.0406221 ],\n",
              "         [ 1.3625544 ,  1.169395  ,  1.1908573 ],\n",
              "         ...,\n",
              "         [ 1.2981681 ,  0.9976979 ,  0.7616143 ],\n",
              "         [ 1.169395  ,  0.8903872 ,  0.71869004],\n",
              "         [ 1.4054787 ,  1.1264707 ,  0.9547736 ]],\n",
              "\n",
              "        [[ 1.1479329 ,  0.97623575,  0.93331146],\n",
              "         [ 1.2337816 ,  1.0620843 ,  1.01916   ],\n",
              "         [ 1.4269409 ,  1.2123195 ,  1.2337816 ],\n",
              "         ...,\n",
              "         [ 1.3196301 ,  1.01916   ,  0.78307647],\n",
              "         [ 1.3196301 ,  1.0406221 ,  0.86892503],\n",
              "         [ 1.3625544 ,  1.0835464 ,  0.9118493 ]],\n",
              "\n",
              "        ...,\n",
              "\n",
              "        [[ 2.0708053 ,  1.7917974 ,  1.9849566 ],\n",
              "         [ 2.2639644 ,  1.9849566 ,  2.1351917 ],\n",
              "         [ 2.349813  ,  2.027881  ,  2.1351917 ],\n",
              "         ...,\n",
              "         [ 2.3927374 ,  1.9849566 ,  1.8561838 ],\n",
              "         [ 2.199578  ,  1.8132595 ,  1.7274109 ],\n",
              "         [ 2.049343  ,  1.6630244 ,  1.5771759 ]],\n",
              "\n",
              "        [[ 2.027881  ,  1.7488731 ,  1.899108  ],\n",
              "         [ 2.199578  ,  1.9205703 ,  2.0708053 ],\n",
              "         [ 2.3068888 ,  1.9849566 ,  2.0922673 ],\n",
              "         ...,\n",
              "         [ 2.3068888 ,  1.899108  ,  1.7703352 ],\n",
              "         [ 2.2210402 ,  1.8561838 ,  1.7059487 ],\n",
              "         [ 1.9634945 ,  1.598638  ,  1.448403  ]],\n",
              "\n",
              "        [[ 2.0708053 ,  1.7917974 ,  1.9420323 ],\n",
              "         [ 2.0064187 ,  1.7274109 ,  1.877646  ],\n",
              "         [ 2.199578  ,  1.877646  ,  1.9849566 ],\n",
              "         ...,\n",
              "         [ 2.2639644 ,  1.8561838 ,  1.7274109 ],\n",
              "         [ 2.0922673 ,  1.7274109 ,  1.5771759 ],\n",
              "         [ 1.9849566 ,  1.6201001 ,  1.4698652 ]]],\n",
              "\n",
              "\n",
              "       [[[ 2.736132  ,  1.9205703 ,  2.3712752 ],\n",
              "         [ 2.7575939 ,  1.9420323 ,  2.3927374 ],\n",
              "         [ 3.1224504 ,  2.2854266 ,  2.736132  ],\n",
              "         ...,\n",
              "         [ 3.809239  ,  3.5302312 ,  3.7233903 ],\n",
              "         [ 3.6804662 ,  3.337072  ,  3.5516932 ],\n",
              "         [ 3.7019284 ,  3.3585339 ,  3.5731554 ]],\n",
              "\n",
              "        [[ 3.058064  ,  2.2425025 ,  2.6932075 ],\n",
              "         [ 3.1439126 ,  2.328351  ,  2.779056  ],\n",
              "         [ 3.3156097 ,  2.478586  ,  2.929291  ],\n",
              "         ...,\n",
              "         [ 3.9165497 ,  3.6375418 ,  3.830701  ],\n",
              "         [ 3.7448525 ,  3.4014583 ,  3.6160798 ],\n",
              "         [ 3.830701  ,  3.4873068 ,  3.7019284 ]],\n",
              "\n",
              "        [[ 3.058064  ,  2.2425025 ,  2.6932075 ],\n",
              "         [ 3.2726853 ,  2.4571238 ,  2.907829  ],\n",
              "         [ 3.2726853 ,  2.4571238 ,  2.907829  ],\n",
              "         ...,\n",
              "         [ 3.959474  ,  3.6160798 ,  3.830701  ],\n",
              "         [ 3.938012  ,  3.5731554 ,  3.787777  ],\n",
              "         [ 3.809239  ,  3.4443824 ,  3.659004  ]],\n",
              "\n",
              "        ...,\n",
              "\n",
              "        [[ 3.1439126 ,  2.1137295 ,  2.5858967 ],\n",
              "         [ 3.1009881 ,  2.0708053 ,  2.5429723 ],\n",
              "         [ 2.8219805 ,  1.7917974 ,  2.2639644 ],\n",
              "         ...,\n",
              "         [ 3.508769  ,  2.929291  ,  3.1224504 ],\n",
              "         [ 3.337072  ,  2.6932075 ,  2.907829  ],\n",
              "         [ 3.1224504 ,  2.4356616 ,  2.6717453 ]],\n",
              "\n",
              "        [[ 3.3156097 ,  2.349813  ,  2.8005183 ],\n",
              "         [ 2.907829  ,  1.9420323 ,  2.3927374 ],\n",
              "         [ 2.6717453 ,  1.7059487 ,  2.156654  ],\n",
              "         ...,\n",
              "         [ 3.4014583 ,  2.7575939 ,  2.9722154 ],\n",
              "         [ 3.2941475 ,  2.5858967 ,  2.8219805 ],\n",
              "         [ 3.0366018 ,  2.328351  ,  2.5215101 ]],\n",
              "\n",
              "        [[ 3.1439126 ,  2.2210402 ,  2.6502833 ],\n",
              "         [ 3.1868367 ,  2.2639644 ,  2.6932075 ],\n",
              "         [ 2.9936776 ,  2.027881  ,  2.478586  ],\n",
              "         ...,\n",
              "         [ 3.3156097 ,  2.6288211 ,  2.8649046 ],\n",
              "         [ 3.1224504 ,  2.4141996 ,  2.607359  ],\n",
              "         [ 2.907829  ,  2.1351917 ,  2.349813  ]]],\n",
              "\n",
              "\n",
              "       [[[ 3.4229205 ,  2.6932075 ,  2.4356616 ],\n",
              "         [ 3.830701  ,  3.1009881 ,  2.8434424 ],\n",
              "         [ 3.6375418 ,  2.907829  ,  2.6502833 ],\n",
              "         ...,\n",
              "         [ 3.4229205 ,  2.8005183 ,  2.6717453 ],\n",
              "         [ 3.2941475 ,  2.6717453 ,  2.5429723 ],\n",
              "         [ 3.0151396 ,  2.3927374 ,  2.2639644 ]],\n",
              "\n",
              "        [[ 3.3156097 ,  2.607359  ,  2.2854266 ],\n",
              "         [ 3.7663147 ,  3.058064  ,  2.736132  ],\n",
              "         [ 3.5302312 ,  2.8219805 ,  2.5000482 ],\n",
              "         ...,\n",
              "         [ 3.337072  ,  2.7146697 ,  2.5858967 ],\n",
              "         [ 3.0795262 ,  2.4571238 ,  2.328351  ],\n",
              "         [ 2.9722154 ,  2.349813  ,  2.2210402 ]],\n",
              "\n",
              "        [[ 3.208299  ,  2.4356616 ,  2.0922673 ],\n",
              "         [ 3.7019284 ,  2.929291  ,  2.5858967 ],\n",
              "         [ 3.4229205 ,  2.7146697 ,  2.349813  ],\n",
              "         ...,\n",
              "         [ 3.3585339 ,  2.736132  ,  2.6502833 ],\n",
              "         [ 3.1009881 ,  2.5000482 ,  2.4141996 ],\n",
              "         [ 3.0795262 ,  2.478586  ,  2.3927374 ]],\n",
              "\n",
              "        ...,\n",
              "\n",
              "        [[ 3.4658446 ,  2.6932075 ,  2.1781158 ],\n",
              "         [ 3.5302312 ,  2.7575939 ,  2.2425025 ],\n",
              "         [ 3.5731554 ,  2.8005183 ,  2.2854266 ],\n",
              "         ...,\n",
              "         [ 4.0023985 ,  3.208299  ,  2.8219805 ],\n",
              "         [ 4.0238605 ,  3.208299  ,  2.8005183 ],\n",
              "         [ 4.1955576 ,  3.379996  ,  2.929291  ]],\n",
              "\n",
              "        [[ 3.7663147 ,  2.9936776 ,  2.5215101 ],\n",
              "         [ 3.5731554 ,  2.8005183 ,  2.328351  ],\n",
              "         [ 3.659004  ,  2.8863668 ,  2.4141996 ],\n",
              "         ...,\n",
              "         [ 4.0453224 ,  3.208299  ,  2.8863668 ],\n",
              "         [ 4.088247  ,  3.2726853 ,  2.8219805 ],\n",
              "         [ 4.259944  ,  3.4443824 ,  2.9507532 ]],\n",
              "\n",
              "        [[ 3.659004  ,  2.8863668 ,  2.4141996 ],\n",
              "         [ 3.6804662 ,  2.907829  ,  2.4356616 ],\n",
              "         [ 3.7663147 ,  2.9722154 ,  2.5644348 ],\n",
              "         ...,\n",
              "         [ 4.238482  ,  3.4014583 ,  3.0795262 ],\n",
              "         [ 4.131171  ,  3.3156097 ,  2.8649046 ],\n",
              "         [ 4.2170196 ,  3.4014583 ,  2.907829  ]]]],\n",
              "      shape=(10015, 224, 224, 3), dtype=float32)"
            ]
          },
          "execution_count": 34,
          "metadata": {},
          "output_type": "execute_result"
        }
      ],
      "source": [
        "X_images"
      ]
    },
    {
      "cell_type": "code",
      "execution_count": 35,
      "metadata": {
        "id": "az43Zhha9oQj"
      },
      "outputs": [],
      "source": [
        "from tensorflow.keras import Model, regularizers\n",
        "from tensorflow.keras.layers import Conv2D, MaxPooling2D, AveragePooling2D, Flatten, Dropout, Input\n",
        "import tensorflow as tf\n",
        "\n",
        "# ---------------- CNN1 ----------------\n",
        "def build_cnn1(input_shape):\n",
        "    inputs = Input(shape=input_shape)\n",
        "\n",
        "    x = Conv2D(32, (3,3), activation='relu', padding=\"same\",\n",
        "               kernel_regularizer=regularizers.l2(1e-4))(inputs)\n",
        "    x = MaxPooling2D((2,2))(x)\n",
        "\n",
        "    x = Conv2D(64, (3,3), activation='relu', padding=\"same\",\n",
        "               kernel_regularizer=regularizers.l2(1e-4))(x)\n",
        "    x = MaxPooling2D((2,2))(x)\n",
        "\n",
        "    x = Conv2D(128, (3,3), activation='relu', padding=\"same\",\n",
        "               kernel_regularizer=regularizers.l2(1e-4))(x)\n",
        "    x = MaxPooling2D((2,2))(x)\n",
        "\n",
        "    x = Flatten()(x)\n",
        "    x = Dropout(0.5)(x)   # still useful to avoid overfitting\n",
        "    return Model(inputs, x, name=\"CNN1\")\n",
        "\n",
        "# ---------------- CNN2 ----------------\n",
        "def build_cnn2(input_shape):\n",
        "    inputs = Input(shape=input_shape)\n",
        "\n",
        "    x = Conv2D(256, (7,7), activation='relu', padding=\"same\",\n",
        "               kernel_regularizer=regularizers.l2(1e-4))(inputs)\n",
        "    x = AveragePooling2D((2,2))(x)\n",
        "\n",
        "    x = Conv2D(128, (5,5), activation='relu', padding=\"same\",\n",
        "               kernel_regularizer=regularizers.l2(1e-4))(x)\n",
        "    x = AveragePooling2D((2,2))(x)\n",
        "\n",
        "    x = Conv2D(96, (3,3), activation='relu', padding=\"same\",\n",
        "               kernel_regularizer=regularizers.l2(1e-4))(x)\n",
        "    x = AveragePooling2D((2,2))(x)\n",
        "\n",
        "    x = Flatten()(x)\n",
        "    x = Dropout(0.5)(x)\n",
        "    return Model(inputs, x, name=\"CNN2\")\n"
      ]
    },
    {
      "cell_type": "code",
      "execution_count": null,
      "metadata": {},
      "outputs": [],
      "source": [
        "from tensorflow.keras.preprocessing.image import ImageDataGenerator\n",
        "datagen = ImageDataGenerator(\n",
        "    rotation_range=20,\n",
        "    width_shift_range=0.1,\n",
        "    height_shift_range=0.1,\n",
        "    shear_range=0.1,\n",
        "    zoom_range=0.1,\n",
        "    horizontal_flip=True,\n",
        "    fill_mode='nearest'\n",
        ")\n",
        "# datagen.fit(X_train_images)\n"
      ]
    },
    {
      "cell_type": "code",
      "execution_count": 37,
      "metadata": {},
      "outputs": [
        {
          "name": "stdout",
          "output_type": "stream",
          "text": [
            "---- CNN1 Summary ----\n"
          ]
        },
        {
          "data": {
            "text/html": [
              "<pre style=\"white-space:pre;overflow-x:auto;line-height:normal;font-family:Menlo,'DejaVu Sans Mono',consolas,'Courier New',monospace\"><span style=\"font-weight: bold\">Model: \"CNN1\"</span>\n",
              "</pre>\n"
            ],
            "text/plain": [
              "\u001b[1mModel: \"CNN1\"\u001b[0m\n"
            ]
          },
          "metadata": {},
          "output_type": "display_data"
        },
        {
          "data": {
            "text/html": [
              "<pre style=\"white-space:pre;overflow-x:auto;line-height:normal;font-family:Menlo,'DejaVu Sans Mono',consolas,'Courier New',monospace\">┏━━━━━━━━━━━━━━━━━━━━━━━━━━━━━━━━━┳━━━━━━━━━━━━━━━━━━━━━━━━┳━━━━━━━━━━━━━━━┓\n",
              "┃<span style=\"font-weight: bold\"> Layer (type)                    </span>┃<span style=\"font-weight: bold\"> Output Shape           </span>┃<span style=\"font-weight: bold\">       Param # </span>┃\n",
              "┡━━━━━━━━━━━━━━━━━━━━━━━━━━━━━━━━━╇━━━━━━━━━━━━━━━━━━━━━━━━╇━━━━━━━━━━━━━━━┩\n",
              "│ input_layer_2 (<span style=\"color: #0087ff; text-decoration-color: #0087ff\">InputLayer</span>)      │ (<span style=\"color: #00d7ff; text-decoration-color: #00d7ff\">None</span>, <span style=\"color: #00af00; text-decoration-color: #00af00\">224</span>, <span style=\"color: #00af00; text-decoration-color: #00af00\">224</span>, <span style=\"color: #00af00; text-decoration-color: #00af00\">3</span>)    │             <span style=\"color: #00af00; text-decoration-color: #00af00\">0</span> │\n",
              "├─────────────────────────────────┼────────────────────────┼───────────────┤\n",
              "│ conv2d_8 (<span style=\"color: #0087ff; text-decoration-color: #0087ff\">Conv2D</span>)               │ (<span style=\"color: #00d7ff; text-decoration-color: #00d7ff\">None</span>, <span style=\"color: #00af00; text-decoration-color: #00af00\">224</span>, <span style=\"color: #00af00; text-decoration-color: #00af00\">224</span>, <span style=\"color: #00af00; text-decoration-color: #00af00\">32</span>)   │           <span style=\"color: #00af00; text-decoration-color: #00af00\">896</span> │\n",
              "├─────────────────────────────────┼────────────────────────┼───────────────┤\n",
              "│ max_pooling2d_4 (<span style=\"color: #0087ff; text-decoration-color: #0087ff\">MaxPooling2D</span>)  │ (<span style=\"color: #00d7ff; text-decoration-color: #00d7ff\">None</span>, <span style=\"color: #00af00; text-decoration-color: #00af00\">112</span>, <span style=\"color: #00af00; text-decoration-color: #00af00\">112</span>, <span style=\"color: #00af00; text-decoration-color: #00af00\">32</span>)   │             <span style=\"color: #00af00; text-decoration-color: #00af00\">0</span> │\n",
              "├─────────────────────────────────┼────────────────────────┼───────────────┤\n",
              "│ conv2d_9 (<span style=\"color: #0087ff; text-decoration-color: #0087ff\">Conv2D</span>)               │ (<span style=\"color: #00d7ff; text-decoration-color: #00d7ff\">None</span>, <span style=\"color: #00af00; text-decoration-color: #00af00\">112</span>, <span style=\"color: #00af00; text-decoration-color: #00af00\">112</span>, <span style=\"color: #00af00; text-decoration-color: #00af00\">64</span>)   │        <span style=\"color: #00af00; text-decoration-color: #00af00\">18,496</span> │\n",
              "├─────────────────────────────────┼────────────────────────┼───────────────┤\n",
              "│ max_pooling2d_5 (<span style=\"color: #0087ff; text-decoration-color: #0087ff\">MaxPooling2D</span>)  │ (<span style=\"color: #00d7ff; text-decoration-color: #00d7ff\">None</span>, <span style=\"color: #00af00; text-decoration-color: #00af00\">56</span>, <span style=\"color: #00af00; text-decoration-color: #00af00\">56</span>, <span style=\"color: #00af00; text-decoration-color: #00af00\">64</span>)     │             <span style=\"color: #00af00; text-decoration-color: #00af00\">0</span> │\n",
              "├─────────────────────────────────┼────────────────────────┼───────────────┤\n",
              "│ conv2d_10 (<span style=\"color: #0087ff; text-decoration-color: #0087ff\">Conv2D</span>)              │ (<span style=\"color: #00d7ff; text-decoration-color: #00d7ff\">None</span>, <span style=\"color: #00af00; text-decoration-color: #00af00\">56</span>, <span style=\"color: #00af00; text-decoration-color: #00af00\">56</span>, <span style=\"color: #00af00; text-decoration-color: #00af00\">128</span>)    │        <span style=\"color: #00af00; text-decoration-color: #00af00\">73,856</span> │\n",
              "├─────────────────────────────────┼────────────────────────┼───────────────┤\n",
              "│ max_pooling2d_6 (<span style=\"color: #0087ff; text-decoration-color: #0087ff\">MaxPooling2D</span>)  │ (<span style=\"color: #00d7ff; text-decoration-color: #00d7ff\">None</span>, <span style=\"color: #00af00; text-decoration-color: #00af00\">28</span>, <span style=\"color: #00af00; text-decoration-color: #00af00\">28</span>, <span style=\"color: #00af00; text-decoration-color: #00af00\">128</span>)    │             <span style=\"color: #00af00; text-decoration-color: #00af00\">0</span> │\n",
              "├─────────────────────────────────┼────────────────────────┼───────────────┤\n",
              "│ flatten_2 (<span style=\"color: #0087ff; text-decoration-color: #0087ff\">Flatten</span>)             │ (<span style=\"color: #00d7ff; text-decoration-color: #00d7ff\">None</span>, <span style=\"color: #00af00; text-decoration-color: #00af00\">100352</span>)         │             <span style=\"color: #00af00; text-decoration-color: #00af00\">0</span> │\n",
              "├─────────────────────────────────┼────────────────────────┼───────────────┤\n",
              "│ dropout (<span style=\"color: #0087ff; text-decoration-color: #0087ff\">Dropout</span>)               │ (<span style=\"color: #00d7ff; text-decoration-color: #00d7ff\">None</span>, <span style=\"color: #00af00; text-decoration-color: #00af00\">100352</span>)         │             <span style=\"color: #00af00; text-decoration-color: #00af00\">0</span> │\n",
              "└─────────────────────────────────┴────────────────────────┴───────────────┘\n",
              "</pre>\n"
            ],
            "text/plain": [
              "┏━━━━━━━━━━━━━━━━━━━━━━━━━━━━━━━━━┳━━━━━━━━━━━━━━━━━━━━━━━━┳━━━━━━━━━━━━━━━┓\n",
              "┃\u001b[1m \u001b[0m\u001b[1mLayer (type)                   \u001b[0m\u001b[1m \u001b[0m┃\u001b[1m \u001b[0m\u001b[1mOutput Shape          \u001b[0m\u001b[1m \u001b[0m┃\u001b[1m \u001b[0m\u001b[1m      Param #\u001b[0m\u001b[1m \u001b[0m┃\n",
              "┡━━━━━━━━━━━━━━━━━━━━━━━━━━━━━━━━━╇━━━━━━━━━━━━━━━━━━━━━━━━╇━━━━━━━━━━━━━━━┩\n",
              "│ input_layer_2 (\u001b[38;5;33mInputLayer\u001b[0m)      │ (\u001b[38;5;45mNone\u001b[0m, \u001b[38;5;34m224\u001b[0m, \u001b[38;5;34m224\u001b[0m, \u001b[38;5;34m3\u001b[0m)    │             \u001b[38;5;34m0\u001b[0m │\n",
              "├─────────────────────────────────┼────────────────────────┼───────────────┤\n",
              "│ conv2d_8 (\u001b[38;5;33mConv2D\u001b[0m)               │ (\u001b[38;5;45mNone\u001b[0m, \u001b[38;5;34m224\u001b[0m, \u001b[38;5;34m224\u001b[0m, \u001b[38;5;34m32\u001b[0m)   │           \u001b[38;5;34m896\u001b[0m │\n",
              "├─────────────────────────────────┼────────────────────────┼───────────────┤\n",
              "│ max_pooling2d_4 (\u001b[38;5;33mMaxPooling2D\u001b[0m)  │ (\u001b[38;5;45mNone\u001b[0m, \u001b[38;5;34m112\u001b[0m, \u001b[38;5;34m112\u001b[0m, \u001b[38;5;34m32\u001b[0m)   │             \u001b[38;5;34m0\u001b[0m │\n",
              "├─────────────────────────────────┼────────────────────────┼───────────────┤\n",
              "│ conv2d_9 (\u001b[38;5;33mConv2D\u001b[0m)               │ (\u001b[38;5;45mNone\u001b[0m, \u001b[38;5;34m112\u001b[0m, \u001b[38;5;34m112\u001b[0m, \u001b[38;5;34m64\u001b[0m)   │        \u001b[38;5;34m18,496\u001b[0m │\n",
              "├─────────────────────────────────┼────────────────────────┼───────────────┤\n",
              "│ max_pooling2d_5 (\u001b[38;5;33mMaxPooling2D\u001b[0m)  │ (\u001b[38;5;45mNone\u001b[0m, \u001b[38;5;34m56\u001b[0m, \u001b[38;5;34m56\u001b[0m, \u001b[38;5;34m64\u001b[0m)     │             \u001b[38;5;34m0\u001b[0m │\n",
              "├─────────────────────────────────┼────────────────────────┼───────────────┤\n",
              "│ conv2d_10 (\u001b[38;5;33mConv2D\u001b[0m)              │ (\u001b[38;5;45mNone\u001b[0m, \u001b[38;5;34m56\u001b[0m, \u001b[38;5;34m56\u001b[0m, \u001b[38;5;34m128\u001b[0m)    │        \u001b[38;5;34m73,856\u001b[0m │\n",
              "├─────────────────────────────────┼────────────────────────┼───────────────┤\n",
              "│ max_pooling2d_6 (\u001b[38;5;33mMaxPooling2D\u001b[0m)  │ (\u001b[38;5;45mNone\u001b[0m, \u001b[38;5;34m28\u001b[0m, \u001b[38;5;34m28\u001b[0m, \u001b[38;5;34m128\u001b[0m)    │             \u001b[38;5;34m0\u001b[0m │\n",
              "├─────────────────────────────────┼────────────────────────┼───────────────┤\n",
              "│ flatten_2 (\u001b[38;5;33mFlatten\u001b[0m)             │ (\u001b[38;5;45mNone\u001b[0m, \u001b[38;5;34m100352\u001b[0m)         │             \u001b[38;5;34m0\u001b[0m │\n",
              "├─────────────────────────────────┼────────────────────────┼───────────────┤\n",
              "│ dropout (\u001b[38;5;33mDropout\u001b[0m)               │ (\u001b[38;5;45mNone\u001b[0m, \u001b[38;5;34m100352\u001b[0m)         │             \u001b[38;5;34m0\u001b[0m │\n",
              "└─────────────────────────────────┴────────────────────────┴───────────────┘\n"
            ]
          },
          "metadata": {},
          "output_type": "display_data"
        },
        {
          "data": {
            "text/html": [
              "<pre style=\"white-space:pre;overflow-x:auto;line-height:normal;font-family:Menlo,'DejaVu Sans Mono',consolas,'Courier New',monospace\"><span style=\"font-weight: bold\"> Total params: </span><span style=\"color: #00af00; text-decoration-color: #00af00\">93,248</span> (364.25 KB)\n",
              "</pre>\n"
            ],
            "text/plain": [
              "\u001b[1m Total params: \u001b[0m\u001b[38;5;34m93,248\u001b[0m (364.25 KB)\n"
            ]
          },
          "metadata": {},
          "output_type": "display_data"
        },
        {
          "data": {
            "text/html": [
              "<pre style=\"white-space:pre;overflow-x:auto;line-height:normal;font-family:Menlo,'DejaVu Sans Mono',consolas,'Courier New',monospace\"><span style=\"font-weight: bold\"> Trainable params: </span><span style=\"color: #00af00; text-decoration-color: #00af00\">93,248</span> (364.25 KB)\n",
              "</pre>\n"
            ],
            "text/plain": [
              "\u001b[1m Trainable params: \u001b[0m\u001b[38;5;34m93,248\u001b[0m (364.25 KB)\n"
            ]
          },
          "metadata": {},
          "output_type": "display_data"
        },
        {
          "data": {
            "text/html": [
              "<pre style=\"white-space:pre;overflow-x:auto;line-height:normal;font-family:Menlo,'DejaVu Sans Mono',consolas,'Courier New',monospace\"><span style=\"font-weight: bold\"> Non-trainable params: </span><span style=\"color: #00af00; text-decoration-color: #00af00\">0</span> (0.00 B)\n",
              "</pre>\n"
            ],
            "text/plain": [
              "\u001b[1m Non-trainable params: \u001b[0m\u001b[38;5;34m0\u001b[0m (0.00 B)\n"
            ]
          },
          "metadata": {},
          "output_type": "display_data"
        },
        {
          "name": "stdout",
          "output_type": "stream",
          "text": [
            "\n",
            "---- CNN2 Summary ----\n"
          ]
        },
        {
          "data": {
            "text/html": [
              "<pre style=\"white-space:pre;overflow-x:auto;line-height:normal;font-family:Menlo,'DejaVu Sans Mono',consolas,'Courier New',monospace\"><span style=\"font-weight: bold\">Model: \"CNN2\"</span>\n",
              "</pre>\n"
            ],
            "text/plain": [
              "\u001b[1mModel: \"CNN2\"\u001b[0m\n"
            ]
          },
          "metadata": {},
          "output_type": "display_data"
        },
        {
          "data": {
            "text/html": [
              "<pre style=\"white-space:pre;overflow-x:auto;line-height:normal;font-family:Menlo,'DejaVu Sans Mono',consolas,'Courier New',monospace\">┏━━━━━━━━━━━━━━━━━━━━━━━━━━━━━━━━━┳━━━━━━━━━━━━━━━━━━━━━━━━┳━━━━━━━━━━━━━━━┓\n",
              "┃<span style=\"font-weight: bold\"> Layer (type)                    </span>┃<span style=\"font-weight: bold\"> Output Shape           </span>┃<span style=\"font-weight: bold\">       Param # </span>┃\n",
              "┡━━━━━━━━━━━━━━━━━━━━━━━━━━━━━━━━━╇━━━━━━━━━━━━━━━━━━━━━━━━╇━━━━━━━━━━━━━━━┩\n",
              "│ input_layer_3 (<span style=\"color: #0087ff; text-decoration-color: #0087ff\">InputLayer</span>)      │ (<span style=\"color: #00d7ff; text-decoration-color: #00d7ff\">None</span>, <span style=\"color: #00af00; text-decoration-color: #00af00\">224</span>, <span style=\"color: #00af00; text-decoration-color: #00af00\">224</span>, <span style=\"color: #00af00; text-decoration-color: #00af00\">3</span>)    │             <span style=\"color: #00af00; text-decoration-color: #00af00\">0</span> │\n",
              "├─────────────────────────────────┼────────────────────────┼───────────────┤\n",
              "│ conv2d_11 (<span style=\"color: #0087ff; text-decoration-color: #0087ff\">Conv2D</span>)              │ (<span style=\"color: #00d7ff; text-decoration-color: #00d7ff\">None</span>, <span style=\"color: #00af00; text-decoration-color: #00af00\">224</span>, <span style=\"color: #00af00; text-decoration-color: #00af00\">224</span>, <span style=\"color: #00af00; text-decoration-color: #00af00\">256</span>)  │        <span style=\"color: #00af00; text-decoration-color: #00af00\">37,888</span> │\n",
              "├─────────────────────────────────┼────────────────────────┼───────────────┤\n",
              "│ average_pooling2d_4             │ (<span style=\"color: #00d7ff; text-decoration-color: #00d7ff\">None</span>, <span style=\"color: #00af00; text-decoration-color: #00af00\">112</span>, <span style=\"color: #00af00; text-decoration-color: #00af00\">112</span>, <span style=\"color: #00af00; text-decoration-color: #00af00\">256</span>)  │             <span style=\"color: #00af00; text-decoration-color: #00af00\">0</span> │\n",
              "│ (<span style=\"color: #0087ff; text-decoration-color: #0087ff\">AveragePooling2D</span>)              │                        │               │\n",
              "├─────────────────────────────────┼────────────────────────┼───────────────┤\n",
              "│ conv2d_12 (<span style=\"color: #0087ff; text-decoration-color: #0087ff\">Conv2D</span>)              │ (<span style=\"color: #00d7ff; text-decoration-color: #00d7ff\">None</span>, <span style=\"color: #00af00; text-decoration-color: #00af00\">112</span>, <span style=\"color: #00af00; text-decoration-color: #00af00\">112</span>, <span style=\"color: #00af00; text-decoration-color: #00af00\">128</span>)  │       <span style=\"color: #00af00; text-decoration-color: #00af00\">819,328</span> │\n",
              "├─────────────────────────────────┼────────────────────────┼───────────────┤\n",
              "│ average_pooling2d_5             │ (<span style=\"color: #00d7ff; text-decoration-color: #00d7ff\">None</span>, <span style=\"color: #00af00; text-decoration-color: #00af00\">56</span>, <span style=\"color: #00af00; text-decoration-color: #00af00\">56</span>, <span style=\"color: #00af00; text-decoration-color: #00af00\">128</span>)    │             <span style=\"color: #00af00; text-decoration-color: #00af00\">0</span> │\n",
              "│ (<span style=\"color: #0087ff; text-decoration-color: #0087ff\">AveragePooling2D</span>)              │                        │               │\n",
              "├─────────────────────────────────┼────────────────────────┼───────────────┤\n",
              "│ conv2d_13 (<span style=\"color: #0087ff; text-decoration-color: #0087ff\">Conv2D</span>)              │ (<span style=\"color: #00d7ff; text-decoration-color: #00d7ff\">None</span>, <span style=\"color: #00af00; text-decoration-color: #00af00\">56</span>, <span style=\"color: #00af00; text-decoration-color: #00af00\">56</span>, <span style=\"color: #00af00; text-decoration-color: #00af00\">96</span>)     │       <span style=\"color: #00af00; text-decoration-color: #00af00\">110,688</span> │\n",
              "├─────────────────────────────────┼────────────────────────┼───────────────┤\n",
              "│ average_pooling2d_6             │ (<span style=\"color: #00d7ff; text-decoration-color: #00d7ff\">None</span>, <span style=\"color: #00af00; text-decoration-color: #00af00\">28</span>, <span style=\"color: #00af00; text-decoration-color: #00af00\">28</span>, <span style=\"color: #00af00; text-decoration-color: #00af00\">96</span>)     │             <span style=\"color: #00af00; text-decoration-color: #00af00\">0</span> │\n",
              "│ (<span style=\"color: #0087ff; text-decoration-color: #0087ff\">AveragePooling2D</span>)              │                        │               │\n",
              "├─────────────────────────────────┼────────────────────────┼───────────────┤\n",
              "│ flatten_3 (<span style=\"color: #0087ff; text-decoration-color: #0087ff\">Flatten</span>)             │ (<span style=\"color: #00d7ff; text-decoration-color: #00d7ff\">None</span>, <span style=\"color: #00af00; text-decoration-color: #00af00\">75264</span>)          │             <span style=\"color: #00af00; text-decoration-color: #00af00\">0</span> │\n",
              "├─────────────────────────────────┼────────────────────────┼───────────────┤\n",
              "│ dropout_1 (<span style=\"color: #0087ff; text-decoration-color: #0087ff\">Dropout</span>)             │ (<span style=\"color: #00d7ff; text-decoration-color: #00d7ff\">None</span>, <span style=\"color: #00af00; text-decoration-color: #00af00\">75264</span>)          │             <span style=\"color: #00af00; text-decoration-color: #00af00\">0</span> │\n",
              "└─────────────────────────────────┴────────────────────────┴───────────────┘\n",
              "</pre>\n"
            ],
            "text/plain": [
              "┏━━━━━━━━━━━━━━━━━━━━━━━━━━━━━━━━━┳━━━━━━━━━━━━━━━━━━━━━━━━┳━━━━━━━━━━━━━━━┓\n",
              "┃\u001b[1m \u001b[0m\u001b[1mLayer (type)                   \u001b[0m\u001b[1m \u001b[0m┃\u001b[1m \u001b[0m\u001b[1mOutput Shape          \u001b[0m\u001b[1m \u001b[0m┃\u001b[1m \u001b[0m\u001b[1m      Param #\u001b[0m\u001b[1m \u001b[0m┃\n",
              "┡━━━━━━━━━━━━━━━━━━━━━━━━━━━━━━━━━╇━━━━━━━━━━━━━━━━━━━━━━━━╇━━━━━━━━━━━━━━━┩\n",
              "│ input_layer_3 (\u001b[38;5;33mInputLayer\u001b[0m)      │ (\u001b[38;5;45mNone\u001b[0m, \u001b[38;5;34m224\u001b[0m, \u001b[38;5;34m224\u001b[0m, \u001b[38;5;34m3\u001b[0m)    │             \u001b[38;5;34m0\u001b[0m │\n",
              "├─────────────────────────────────┼────────────────────────┼───────────────┤\n",
              "│ conv2d_11 (\u001b[38;5;33mConv2D\u001b[0m)              │ (\u001b[38;5;45mNone\u001b[0m, \u001b[38;5;34m224\u001b[0m, \u001b[38;5;34m224\u001b[0m, \u001b[38;5;34m256\u001b[0m)  │        \u001b[38;5;34m37,888\u001b[0m │\n",
              "├─────────────────────────────────┼────────────────────────┼───────────────┤\n",
              "│ average_pooling2d_4             │ (\u001b[38;5;45mNone\u001b[0m, \u001b[38;5;34m112\u001b[0m, \u001b[38;5;34m112\u001b[0m, \u001b[38;5;34m256\u001b[0m)  │             \u001b[38;5;34m0\u001b[0m │\n",
              "│ (\u001b[38;5;33mAveragePooling2D\u001b[0m)              │                        │               │\n",
              "├─────────────────────────────────┼────────────────────────┼───────────────┤\n",
              "│ conv2d_12 (\u001b[38;5;33mConv2D\u001b[0m)              │ (\u001b[38;5;45mNone\u001b[0m, \u001b[38;5;34m112\u001b[0m, \u001b[38;5;34m112\u001b[0m, \u001b[38;5;34m128\u001b[0m)  │       \u001b[38;5;34m819,328\u001b[0m │\n",
              "├─────────────────────────────────┼────────────────────────┼───────────────┤\n",
              "│ average_pooling2d_5             │ (\u001b[38;5;45mNone\u001b[0m, \u001b[38;5;34m56\u001b[0m, \u001b[38;5;34m56\u001b[0m, \u001b[38;5;34m128\u001b[0m)    │             \u001b[38;5;34m0\u001b[0m │\n",
              "│ (\u001b[38;5;33mAveragePooling2D\u001b[0m)              │                        │               │\n",
              "├─────────────────────────────────┼────────────────────────┼───────────────┤\n",
              "│ conv2d_13 (\u001b[38;5;33mConv2D\u001b[0m)              │ (\u001b[38;5;45mNone\u001b[0m, \u001b[38;5;34m56\u001b[0m, \u001b[38;5;34m56\u001b[0m, \u001b[38;5;34m96\u001b[0m)     │       \u001b[38;5;34m110,688\u001b[0m │\n",
              "├─────────────────────────────────┼────────────────────────┼───────────────┤\n",
              "│ average_pooling2d_6             │ (\u001b[38;5;45mNone\u001b[0m, \u001b[38;5;34m28\u001b[0m, \u001b[38;5;34m28\u001b[0m, \u001b[38;5;34m96\u001b[0m)     │             \u001b[38;5;34m0\u001b[0m │\n",
              "│ (\u001b[38;5;33mAveragePooling2D\u001b[0m)              │                        │               │\n",
              "├─────────────────────────────────┼────────────────────────┼───────────────┤\n",
              "│ flatten_3 (\u001b[38;5;33mFlatten\u001b[0m)             │ (\u001b[38;5;45mNone\u001b[0m, \u001b[38;5;34m75264\u001b[0m)          │             \u001b[38;5;34m0\u001b[0m │\n",
              "├─────────────────────────────────┼────────────────────────┼───────────────┤\n",
              "│ dropout_1 (\u001b[38;5;33mDropout\u001b[0m)             │ (\u001b[38;5;45mNone\u001b[0m, \u001b[38;5;34m75264\u001b[0m)          │             \u001b[38;5;34m0\u001b[0m │\n",
              "└─────────────────────────────────┴────────────────────────┴───────────────┘\n"
            ]
          },
          "metadata": {},
          "output_type": "display_data"
        },
        {
          "data": {
            "text/html": [
              "<pre style=\"white-space:pre;overflow-x:auto;line-height:normal;font-family:Menlo,'DejaVu Sans Mono',consolas,'Courier New',monospace\"><span style=\"font-weight: bold\"> Total params: </span><span style=\"color: #00af00; text-decoration-color: #00af00\">967,904</span> (3.69 MB)\n",
              "</pre>\n"
            ],
            "text/plain": [
              "\u001b[1m Total params: \u001b[0m\u001b[38;5;34m967,904\u001b[0m (3.69 MB)\n"
            ]
          },
          "metadata": {},
          "output_type": "display_data"
        },
        {
          "data": {
            "text/html": [
              "<pre style=\"white-space:pre;overflow-x:auto;line-height:normal;font-family:Menlo,'DejaVu Sans Mono',consolas,'Courier New',monospace\"><span style=\"font-weight: bold\"> Trainable params: </span><span style=\"color: #00af00; text-decoration-color: #00af00\">967,904</span> (3.69 MB)\n",
              "</pre>\n"
            ],
            "text/plain": [
              "\u001b[1m Trainable params: \u001b[0m\u001b[38;5;34m967,904\u001b[0m (3.69 MB)\n"
            ]
          },
          "metadata": {},
          "output_type": "display_data"
        },
        {
          "data": {
            "text/html": [
              "<pre style=\"white-space:pre;overflow-x:auto;line-height:normal;font-family:Menlo,'DejaVu Sans Mono',consolas,'Courier New',monospace\"><span style=\"font-weight: bold\"> Non-trainable params: </span><span style=\"color: #00af00; text-decoration-color: #00af00\">0</span> (0.00 B)\n",
              "</pre>\n"
            ],
            "text/plain": [
              "\u001b[1m Non-trainable params: \u001b[0m\u001b[38;5;34m0\u001b[0m (0.00 B)\n"
            ]
          },
          "metadata": {},
          "output_type": "display_data"
        }
      ],
      "source": [
        "input_shape = (224, 224, 3)\n",
        "CNN1 = build_cnn1(input_shape)\n",
        "CNN2 = build_cnn2(input_shape)\n",
        "print(\"---- CNN1 Summary ----\")\n",
        "CNN1.summary()\n",
        "\n",
        "print(\"\\n---- CNN2 Summary ----\")\n",
        "CNN2.summary()\n",
        "# Use augmented data for feature extraction\n",
        "# train_generator = datagen.flow(X_train_images, y_train, batch_size=32, shuffle=False)"
      ]
    },
    {
      "cell_type": "code",
      "execution_count": 38,
      "metadata": {},
      "outputs": [],
      "source": [
        "from tensorflow.keras.callbacks import EarlyStopping\n",
        "early_stop = EarlyStopping(\n",
        "    monitor='val_loss',\n",
        "    patience=5,\n",
        "    restore_best_weights=True\n",
        ")"
      ]
    },
    {
      "cell_type": "code",
      "execution_count": 39,
      "metadata": {},
      "outputs": [
        {
          "name": "stdout",
          "output_type": "stream",
          "text": [
            "\u001b[1m313/313\u001b[0m \u001b[32m━━━━━━━━━━━━━━━━━━━━\u001b[0m\u001b[37m\u001b[0m \u001b[1m120s\u001b[0m 374ms/step\n",
            "\u001b[1m313/313\u001b[0m \u001b[32m━━━━━━━━━━━━━━━━━━━━\u001b[0m\u001b[37m\u001b[0m \u001b[1m1191s\u001b[0m 4s/step\n"
          ]
        }
      ],
      "source": [
        "features_cnn1 = CNN1.predict(X_images, verbose=1)\n",
        "features_cnn2 = CNN2.predict(X_images, verbose=1)"
      ]
    },
    {
      "cell_type": "code",
      "execution_count": null,
      "metadata": {},
      "outputs": [
        {
          "name": "stderr",
          "output_type": "stream",
          "text": [
            "c:\\Users\\ompat\\OneDrive\\Desktop\\Skin-Cancer-Classification\\venv\\Lib\\site-packages\\keras\\src\\trainers\\data_adapters\\py_dataset_adapter.py:121: UserWarning: Your `PyDataset` class should call `super().__init__(**kwargs)` in its constructor. `**kwargs` can include `workers`, `use_multiprocessing`, `max_queue_size`. Do not pass these arguments to `fit()`, as they will be ignored.\n",
            "  self._warn_if_super_not_called()\n"
          ]
        },
        {
          "name": "stdout",
          "output_type": "stream",
          "text": [
            "\u001b[1m29/29\u001b[0m \u001b[32m━━━━━━━━━━━━━━━━━━━━\u001b[0m\u001b[37m\u001b[0m \u001b[1m4s\u001b[0m 148ms/step\n",
            "\u001b[1m29/29\u001b[0m \u001b[32m━━━━━━━━━━━━━━━━━━━━\u001b[0m\u001b[37m\u001b[0m \u001b[1m37s\u001b[0m 1s/step\n"
          ]
        }
      ],
      "source": [
        "# # Validation generator (no augmentation)\n",
        "# val_datagen = ImageDataGenerator()\n",
        "\n",
        "# val_generator = val_datagen.flow(\n",
        "#     X_val_images, y_val,\n",
        "#     batch_size=32,\n",
        "#     shuffle=False\n",
        "# # \n",
        "\n",
        "# # Now extract features\n",
        "# features_cnn1_val = CNN1.predict(val_generator, verbose=1)\n",
        "# features_cnn2_val = CNN2.predict(val_generator, verbose=1)"
      ]
    },
    {
      "cell_type": "code",
      "execution_count": null,
      "metadata": {},
      "outputs": [
        {
          "ename": "NameError",
          "evalue": "name 'features_cnn1' is not defined",
          "output_type": "error",
          "traceback": [
            "\u001b[31m---------------------------------------------------------------------------\u001b[39m",
            "\u001b[31mNameError\u001b[39m                                 Traceback (most recent call last)",
            "\u001b[36mCell\u001b[39m\u001b[36m \u001b[39m\u001b[32mIn[22]\u001b[39m\u001b[32m, line 3\u001b[39m\n\u001b[32m      1\u001b[39m \u001b[38;5;66;03m# ---------------- Dimensionality Reduction ----------------\u001b[39;00m\n\u001b[32m      2\u001b[39m pca = PCA(n_components=\u001b[32m50\u001b[39m)\n\u001b[32m----> \u001b[39m\u001b[32m3\u001b[39m features_pca = pca.fit_transform(\u001b[43mfeatures_cnn1\u001b[49m)\n\u001b[32m      4\u001b[39m features_pca_val = pca.transform(features_cnn1_val)\n\u001b[32m      6\u001b[39m fa = FactorAnalysis(n_components=\u001b[32m50\u001b[39m)\n",
            "\u001b[31mNameError\u001b[39m: name 'features_cnn1' is not defined"
          ]
        }
      ],
      "source": [
        "# # ---------------- Dimensionality Reduction ----------------\n",
        "# pca = PCA(n_components=50)\n",
        "# features_pca = pca.fit_transform(features_cnn1)\n",
        "# features_pca_val = pca.transform(features_cnn1_val)\n",
        "\n",
        "# fa = FactorAnalysis(n_components=50)\n",
        "# features_fa = fa.fit_transform(features_cnn2)\n",
        "# features_fa_val = fa.transform(features_cnn2_val)"
      ]
    },
    {
      "cell_type": "code",
      "execution_count": 40,
      "metadata": {},
      "outputs": [],
      "source": [
        "pca = PCA(n_components=50)\n",
        "all_features = np.concatenate([features_cnn1, features_cnn2], axis=1)\n",
        "features_pca = pca.fit_transform(all_features)\n",
        "\n",
        "# later you can split back if needed\n"
      ]
    },
    {
      "cell_type": "code",
      "execution_count": null,
      "metadata": {},
      "outputs": [],
      "source": [
        "# # Merge\n",
        "# merged_features = np.concatenate([features_pca, features_fa], axis=1)\n",
        "# merged_features_val = np.concatenate([features_pca_val, features_fa_val], axis=1)"
      ]
    },
    {
      "cell_type": "code",
      "execution_count": 64,
      "metadata": {},
      "outputs": [
        {
          "name": "stdout",
          "output_type": "stream",
          "text": [
            "Train: (7010, 50) (7010,)\n",
            "Val:   (1502, 50) (1502,)\n",
            "Test:  (1503, 50) (1503,)\n"
          ]
        }
      ],
      "source": [
        "from sklearn.model_selection import train_test_split\n",
        "\n",
        "# Suppose these are ready\n",
        "# merged_features.shape -> (N_samples, N_features)\n",
        "# labels.shape           -> (N_samples,) or one-hot (N_samples, 7)\n",
        "\n",
        "# Step 1: Train + temp (val+test)\n",
        "X_train, X_temp, y_train, y_temp = train_test_split(\n",
        "    features_pca, y, test_size=0.3, random_state=42, stratify=y\n",
        ")\n",
        "\n",
        "# Step 2: Validation + Test (split from temp)\n",
        "X_val, X_test, y_val, y_test = train_test_split(\n",
        "    X_temp, y_temp, test_size=0.5, random_state=42, stratify=y_temp\n",
        ")\n",
        "\n",
        "print(\"Train:\", X_train.shape, y_train.shape)\n",
        "print(\"Val:  \", X_val.shape, y_val.shape)\n",
        "print(\"Test: \", X_test.shape, y_test.shape)\n"
      ]
    },
    {
      "cell_type": "code",
      "execution_count": null,
      "metadata": {},
      "outputs": [
        {
          "name": "stdout",
          "output_type": "stream",
          "text": [
            "Class Weights: {np.int64(0): np.float64(4.37305053025577), np.int64(1): np.float64(2.7817460317460316), np.int64(2): np.float64(1.3022478172023035), np.int64(3): np.float64(12.36331569664903), np.int64(4): np.float64(1.285530900421786), np.int64(5): np.float64(0.21338772031292808), np.int64(6): np.float64(10.115440115440116)}\n"
          ]
        }
      ],
      "source": [
        "# from sklearn.utils.class_weight import compute_class_weight\n",
        "# import numpy as np\n",
        "\n",
        "# # Get unique class labels\n",
        "# class_labels = np.unique(y_train)\n",
        "\n",
        "# # Compute weights\n",
        "# class_weights = compute_class_weight(\n",
        "#     class_weight='balanced',\n",
        "#     classes=class_labels,\n",
        "#     y=y_train\n",
        "# )\n",
        "\n",
        "# # Convert to dictionary {class_label: weight}\n",
        "# class_weights = dict(zip(class_labels, class_weights))\n",
        "\n",
        "# print(\"Class Weights:\", class_weights)\n"
      ]
    },
    {
      "cell_type": "code",
      "execution_count": 65,
      "metadata": {},
      "outputs": [
        {
          "name": "stderr",
          "output_type": "stream",
          "text": [
            "c:\\Users\\ompat\\OneDrive\\Desktop\\Skin-Cancer-Classification\\venv\\Lib\\site-packages\\keras\\src\\layers\\core\\dense.py:92: UserWarning: Do not pass an `input_shape`/`input_dim` argument to a layer. When using Sequential models, prefer using an `Input(shape)` object as the first layer in the model instead.\n",
            "  super().__init__(activity_regularizer=activity_regularizer, **kwargs)\n"
          ]
        },
        {
          "data": {
            "text/html": [
              "<pre style=\"white-space:pre;overflow-x:auto;line-height:normal;font-family:Menlo,'DejaVu Sans Mono',consolas,'Courier New',monospace\"><span style=\"font-weight: bold\">Model: \"sequential_3\"</span>\n",
              "</pre>\n"
            ],
            "text/plain": [
              "\u001b[1mModel: \"sequential_3\"\u001b[0m\n"
            ]
          },
          "metadata": {},
          "output_type": "display_data"
        },
        {
          "data": {
            "text/html": [
              "<pre style=\"white-space:pre;overflow-x:auto;line-height:normal;font-family:Menlo,'DejaVu Sans Mono',consolas,'Courier New',monospace\">┏━━━━━━━━━━━━━━━━━━━━━━━━━━━━━━━━━┳━━━━━━━━━━━━━━━━━━━━━━━━┳━━━━━━━━━━━━━━━┓\n",
              "┃<span style=\"font-weight: bold\"> Layer (type)                    </span>┃<span style=\"font-weight: bold\"> Output Shape           </span>┃<span style=\"font-weight: bold\">       Param # </span>┃\n",
              "┡━━━━━━━━━━━━━━━━━━━━━━━━━━━━━━━━━╇━━━━━━━━━━━━━━━━━━━━━━━━╇━━━━━━━━━━━━━━━┩\n",
              "│ dense_12 (<span style=\"color: #0087ff; text-decoration-color: #0087ff\">Dense</span>)                │ (<span style=\"color: #00d7ff; text-decoration-color: #00d7ff\">None</span>, <span style=\"color: #00af00; text-decoration-color: #00af00\">256</span>)            │        <span style=\"color: #00af00; text-decoration-color: #00af00\">13,056</span> │\n",
              "├─────────────────────────────────┼────────────────────────┼───────────────┤\n",
              "│ dropout_11 (<span style=\"color: #0087ff; text-decoration-color: #0087ff\">Dropout</span>)            │ (<span style=\"color: #00d7ff; text-decoration-color: #00d7ff\">None</span>, <span style=\"color: #00af00; text-decoration-color: #00af00\">256</span>)            │             <span style=\"color: #00af00; text-decoration-color: #00af00\">0</span> │\n",
              "├─────────────────────────────────┼────────────────────────┼───────────────┤\n",
              "│ dense_13 (<span style=\"color: #0087ff; text-decoration-color: #0087ff\">Dense</span>)                │ (<span style=\"color: #00d7ff; text-decoration-color: #00d7ff\">None</span>, <span style=\"color: #00af00; text-decoration-color: #00af00\">128</span>)            │        <span style=\"color: #00af00; text-decoration-color: #00af00\">32,896</span> │\n",
              "├─────────────────────────────────┼────────────────────────┼───────────────┤\n",
              "│ dropout_12 (<span style=\"color: #0087ff; text-decoration-color: #0087ff\">Dropout</span>)            │ (<span style=\"color: #00d7ff; text-decoration-color: #00d7ff\">None</span>, <span style=\"color: #00af00; text-decoration-color: #00af00\">128</span>)            │             <span style=\"color: #00af00; text-decoration-color: #00af00\">0</span> │\n",
              "├─────────────────────────────────┼────────────────────────┼───────────────┤\n",
              "│ dense_14 (<span style=\"color: #0087ff; text-decoration-color: #0087ff\">Dense</span>)                │ (<span style=\"color: #00d7ff; text-decoration-color: #00d7ff\">None</span>, <span style=\"color: #00af00; text-decoration-color: #00af00\">64</span>)             │         <span style=\"color: #00af00; text-decoration-color: #00af00\">8,256</span> │\n",
              "├─────────────────────────────────┼────────────────────────┼───────────────┤\n",
              "│ dropout_13 (<span style=\"color: #0087ff; text-decoration-color: #0087ff\">Dropout</span>)            │ (<span style=\"color: #00d7ff; text-decoration-color: #00d7ff\">None</span>, <span style=\"color: #00af00; text-decoration-color: #00af00\">64</span>)             │             <span style=\"color: #00af00; text-decoration-color: #00af00\">0</span> │\n",
              "├─────────────────────────────────┼────────────────────────┼───────────────┤\n",
              "│ dense_15 (<span style=\"color: #0087ff; text-decoration-color: #0087ff\">Dense</span>)                │ (<span style=\"color: #00d7ff; text-decoration-color: #00d7ff\">None</span>, <span style=\"color: #00af00; text-decoration-color: #00af00\">7</span>)              │           <span style=\"color: #00af00; text-decoration-color: #00af00\">455</span> │\n",
              "└─────────────────────────────────┴────────────────────────┴───────────────┘\n",
              "</pre>\n"
            ],
            "text/plain": [
              "┏━━━━━━━━━━━━━━━━━━━━━━━━━━━━━━━━━┳━━━━━━━━━━━━━━━━━━━━━━━━┳━━━━━━━━━━━━━━━┓\n",
              "┃\u001b[1m \u001b[0m\u001b[1mLayer (type)                   \u001b[0m\u001b[1m \u001b[0m┃\u001b[1m \u001b[0m\u001b[1mOutput Shape          \u001b[0m\u001b[1m \u001b[0m┃\u001b[1m \u001b[0m\u001b[1m      Param #\u001b[0m\u001b[1m \u001b[0m┃\n",
              "┡━━━━━━━━━━━━━━━━━━━━━━━━━━━━━━━━━╇━━━━━━━━━━━━━━━━━━━━━━━━╇━━━━━━━━━━━━━━━┩\n",
              "│ dense_12 (\u001b[38;5;33mDense\u001b[0m)                │ (\u001b[38;5;45mNone\u001b[0m, \u001b[38;5;34m256\u001b[0m)            │        \u001b[38;5;34m13,056\u001b[0m │\n",
              "├─────────────────────────────────┼────────────────────────┼───────────────┤\n",
              "│ dropout_11 (\u001b[38;5;33mDropout\u001b[0m)            │ (\u001b[38;5;45mNone\u001b[0m, \u001b[38;5;34m256\u001b[0m)            │             \u001b[38;5;34m0\u001b[0m │\n",
              "├─────────────────────────────────┼────────────────────────┼───────────────┤\n",
              "│ dense_13 (\u001b[38;5;33mDense\u001b[0m)                │ (\u001b[38;5;45mNone\u001b[0m, \u001b[38;5;34m128\u001b[0m)            │        \u001b[38;5;34m32,896\u001b[0m │\n",
              "├─────────────────────────────────┼────────────────────────┼───────────────┤\n",
              "│ dropout_12 (\u001b[38;5;33mDropout\u001b[0m)            │ (\u001b[38;5;45mNone\u001b[0m, \u001b[38;5;34m128\u001b[0m)            │             \u001b[38;5;34m0\u001b[0m │\n",
              "├─────────────────────────────────┼────────────────────────┼───────────────┤\n",
              "│ dense_14 (\u001b[38;5;33mDense\u001b[0m)                │ (\u001b[38;5;45mNone\u001b[0m, \u001b[38;5;34m64\u001b[0m)             │         \u001b[38;5;34m8,256\u001b[0m │\n",
              "├─────────────────────────────────┼────────────────────────┼───────────────┤\n",
              "│ dropout_13 (\u001b[38;5;33mDropout\u001b[0m)            │ (\u001b[38;5;45mNone\u001b[0m, \u001b[38;5;34m64\u001b[0m)             │             \u001b[38;5;34m0\u001b[0m │\n",
              "├─────────────────────────────────┼────────────────────────┼───────────────┤\n",
              "│ dense_15 (\u001b[38;5;33mDense\u001b[0m)                │ (\u001b[38;5;45mNone\u001b[0m, \u001b[38;5;34m7\u001b[0m)              │           \u001b[38;5;34m455\u001b[0m │\n",
              "└─────────────────────────────────┴────────────────────────┴───────────────┘\n"
            ]
          },
          "metadata": {},
          "output_type": "display_data"
        },
        {
          "data": {
            "text/html": [
              "<pre style=\"white-space:pre;overflow-x:auto;line-height:normal;font-family:Menlo,'DejaVu Sans Mono',consolas,'Courier New',monospace\"><span style=\"font-weight: bold\"> Total params: </span><span style=\"color: #00af00; text-decoration-color: #00af00\">54,663</span> (213.53 KB)\n",
              "</pre>\n"
            ],
            "text/plain": [
              "\u001b[1m Total params: \u001b[0m\u001b[38;5;34m54,663\u001b[0m (213.53 KB)\n"
            ]
          },
          "metadata": {},
          "output_type": "display_data"
        },
        {
          "data": {
            "text/html": [
              "<pre style=\"white-space:pre;overflow-x:auto;line-height:normal;font-family:Menlo,'DejaVu Sans Mono',consolas,'Courier New',monospace\"><span style=\"font-weight: bold\"> Trainable params: </span><span style=\"color: #00af00; text-decoration-color: #00af00\">54,663</span> (213.53 KB)\n",
              "</pre>\n"
            ],
            "text/plain": [
              "\u001b[1m Trainable params: \u001b[0m\u001b[38;5;34m54,663\u001b[0m (213.53 KB)\n"
            ]
          },
          "metadata": {},
          "output_type": "display_data"
        },
        {
          "data": {
            "text/html": [
              "<pre style=\"white-space:pre;overflow-x:auto;line-height:normal;font-family:Menlo,'DejaVu Sans Mono',consolas,'Courier New',monospace\"><span style=\"font-weight: bold\"> Non-trainable params: </span><span style=\"color: #00af00; text-decoration-color: #00af00\">0</span> (0.00 B)\n",
              "</pre>\n"
            ],
            "text/plain": [
              "\u001b[1m Non-trainable params: \u001b[0m\u001b[38;5;34m0\u001b[0m (0.00 B)\n"
            ]
          },
          "metadata": {},
          "output_type": "display_data"
        }
      ],
      "source": [
        "from tensorflow.keras.models import Sequential\n",
        "from tensorflow.keras.layers import Dense, Dropout\n",
        "# ---------------- Classifier ----------------\n",
        "model = Sequential([\n",
        "    Dense(256, activation='relu', input_shape=(X_train.shape[1],)),\n",
        "    Dropout(0.2),\n",
        "    Dense(128, activation='relu'),\n",
        "    Dropout(0.2),\n",
        "    Dense(64, activation='relu'),\n",
        "    Dropout(0.2),\n",
        "    Dense(7, activation='softmax')\n",
        "])\n",
        "\n",
        "model.compile(optimizer='adam',\n",
        "              loss='sparse_categorical_crossentropy',\n",
        "              metrics=['accuracy'])\n",
        "\n",
        "model.summary()\n",
        "# Early stopping callback\n",
        "\n"
      ]
    },
    {
      "cell_type": "code",
      "execution_count": 72,
      "metadata": {},
      "outputs": [
        {
          "name": "stdout",
          "output_type": "stream",
          "text": [
            "Epoch 1/80\n",
            "\u001b[1m110/110\u001b[0m \u001b[32m━━━━━━━━━━━━━━━━━━━━\u001b[0m\u001b[37m\u001b[0m \u001b[1m0s\u001b[0m 3ms/step - accuracy: 0.9449 - loss: 0.1502 - val_accuracy: 0.7330 - val_loss: 1.1991\n",
            "Epoch 2/80\n",
            "\u001b[1m110/110\u001b[0m \u001b[32m━━━━━━━━━━━━━━━━━━━━\u001b[0m\u001b[37m\u001b[0m \u001b[1m0s\u001b[0m 2ms/step - accuracy: 0.9468 - loss: 0.1487 - val_accuracy: 0.7330 - val_loss: 1.3022\n",
            "Epoch 3/80\n",
            "\u001b[1m110/110\u001b[0m \u001b[32m━━━━━━━━━━━━━━━━━━━━\u001b[0m\u001b[37m\u001b[0m \u001b[1m0s\u001b[0m 3ms/step - accuracy: 0.9496 - loss: 0.1449 - val_accuracy: 0.7290 - val_loss: 1.3519\n",
            "Epoch 4/80\n",
            "\u001b[1m110/110\u001b[0m \u001b[32m━━━━━━━━━━━━━━━━━━━━\u001b[0m\u001b[37m\u001b[0m \u001b[1m0s\u001b[0m 3ms/step - accuracy: 0.9498 - loss: 0.1411 - val_accuracy: 0.7277 - val_loss: 1.3122\n",
            "Epoch 5/80\n",
            "\u001b[1m110/110\u001b[0m \u001b[32m━━━━━━━━━━━━━━━━━━━━\u001b[0m\u001b[37m\u001b[0m \u001b[1m0s\u001b[0m 3ms/step - accuracy: 0.9506 - loss: 0.1447 - val_accuracy: 0.7423 - val_loss: 1.3052\n"
          ]
        }
      ],
      "source": [
        "history = model.fit(\n",
        "    X_train, y_train,   # <-- use your numpy labels directly\n",
        "    validation_data=(X_val, y_val),\n",
        "    epochs=80,\n",
        "    batch_size=64,\n",
        "    callbacks=[early_stop], \n",
        "       # <- stops when val_acc stops improving\n",
        "    verbose=1\n",
        ")\n"
      ]
    },
    {
      "cell_type": "code",
      "execution_count": 73,
      "metadata": {},
      "outputs": [
        {
          "name": "stdout",
          "output_type": "stream",
          "text": [
            "\u001b[1m47/47\u001b[0m \u001b[32m━━━━━━━━━━━━━━━━━━━━\u001b[0m\u001b[37m\u001b[0m \u001b[1m0s\u001b[0m 3ms/step - accuracy: 0.7252 - loss: 1.2663\n",
            "✅ Test Accuracy: 0.7252\n",
            "✅ Test Loss: 1.2663\n"
          ]
        }
      ],
      "source": [
        "# Evaluate model on test data\n",
        "test_loss, test_acc = model.evaluate(X_test, y_test, verbose=1)\n",
        "print(f\"✅ Test Accuracy: {test_acc:.4f}\")\n",
        "print(f\"✅ Test Loss: {test_loss:.4f}\")\n"
      ]
    },
    {
      "cell_type": "code",
      "execution_count": 74,
      "metadata": {},
      "outputs": [
        {
          "name": "stdout",
          "output_type": "stream",
          "text": [
            "\u001b[1m47/47\u001b[0m \u001b[32m━━━━━━━━━━━━━━━━━━━━\u001b[0m\u001b[37m\u001b[0m \u001b[1m0s\u001b[0m 2ms/step\n"
          ]
        }
      ],
      "source": [
        "y_pred_probs = model.predict(X_test)             # probabilities (N, 7)\n",
        "y_pred = np.argmax(y_pred_probs, axis=1)         # predicted labels (N,)\n"
      ]
    },
    {
      "cell_type": "code",
      "execution_count": 75,
      "metadata": {},
      "outputs": [
        {
          "name": "stdout",
          "output_type": "stream",
          "text": [
            "\n",
            "📊 Classification Report:\n",
            "              precision    recall  f1-score   support\n",
            "\n",
            "           0     0.3556    0.3265    0.3404        49\n",
            "           1     0.4125    0.4286    0.4204        77\n",
            "           2     0.4474    0.4121    0.4290       165\n",
            "           3     0.2727    0.1765    0.2143        17\n",
            "           4     0.3972    0.3353    0.3636       167\n",
            "           5     0.8549    0.9016    0.8776      1006\n",
            "           6     0.5385    0.3182    0.4000        22\n",
            "\n",
            "    accuracy                         0.7252      1503\n",
            "   macro avg     0.4684    0.4141    0.4351      1503\n",
            "weighted avg     0.7091    0.7252    0.7158      1503\n",
            "\n"
          ]
        }
      ],
      "source": [
        "from sklearn.metrics import classification_report\n",
        "\n",
        "print(\"\\n📊 Classification Report:\")\n",
        "print(classification_report(y_test, y_pred, digits=4))\n"
      ]
    },
    {
      "cell_type": "code",
      "execution_count": 76,
      "metadata": {},
      "outputs": [
        {
          "data": {
            "image/png": "[encoded data removed]",
            "text/plain": [
              "<Figure size 800x600 with 2 Axes>"
            ]
          },
          "metadata": {},
          "output_type": "display_data"
        }
      ],
      "source": [
        "from sklearn.metrics import confusion_matrix\n",
        "import seaborn as sns\n",
        "import matplotlib.pyplot as plt\n",
        "\n",
        "cm = confusion_matrix(y_test, y_pred)\n",
        "\n",
        "plt.figure(figsize=(8,6))\n",
        "sns.heatmap(cm, annot=True, fmt=\"d\", cmap=\"Blues\",\n",
        "            xticklabels=[f\"Class {i}\" for i in range(7)],\n",
        "            yticklabels=[f\"Class {i}\" for i in range(7)])\n",
        "plt.xlabel(\"Predicted\")\n",
        "plt.ylabel(\"True\")\n",
        "plt.title(\"Confusion Matrix\")\n",
        "plt.show()\n"
      ]
    },
    {
      "cell_type": "code",
      "execution_count": 77,
      "metadata": {},
      "outputs": [
        {
          "name": "stdout",
          "output_type": "stream",
          "text": [
            " ROC-AUC (macro): 0.8812\n"
          ]
        }
      ],
      "source": [
        "from sklearn.metrics import roc_auc_score, roc_curve, auc\n",
        "from sklearn.preprocessing import label_binarize\n",
        "\n",
        "# Binarize test labels (one-hot for ROC)\n",
        "y_test_bin = label_binarize(y_test, classes=np.arange(7))\n",
        "\n",
        "# ROC-AUC (macro average)\n",
        "roc_auc = roc_auc_score(y_test_bin, y_pred_probs, multi_class=\"ovr\")\n",
        "print(f\" ROC-AUC (macro): {roc_auc:.4f}\")\n"
      ]
    },
    {
      "cell_type": "code",
      "execution_count": 1,
      "metadata": {},
      "outputs": [],
      "source": [
        "import pickle\n",
        "\n",
        "# Load pickle file\n",
        "with open(\"merged_features.pkl\", \"rb\") as f:\n",
        "    merged_features = pickle.load(f)\n",
        "\n",
        "with open(\"merged_features_val.pkl\", \"rb\") as f:\n",
        "    merged_features_val = pickle.load(f)\n",
        "\n"
      ]
    },
    {
      "cell_type": "code",
      "execution_count": 2,
      "metadata": {},
      "outputs": [
        {
          "name": "stderr",
          "output_type": "stream",
          "text": [
            "WARNING:absl:Compiled the loaded model, but the compiled metrics have yet to be built. `model.compile_metrics` will be empty until you train or evaluate the model.\n"
          ]
        }
      ],
      "source": [
        "from tensorflow.keras.models import load_model\n",
        "\n",
        "# Load keras model\n",
        "classifier_model = load_model(\"classifier_model.h5\")"
      ]
    },
    {
      "cell_type": "code",
      "execution_count": 20,
      "metadata": {},
      "outputs": [
        {
          "name": "stdout",
          "output_type": "stream",
          "text": [
            "\u001b[1m32/32\u001b[0m \u001b[32m━━━━━━━━━━━━━━━━━━━━\u001b[0m\u001b[37m\u001b[0m \u001b[1m7s\u001b[0m 207ms/step\n",
            "\u001b[1m32/32\u001b[0m \u001b[32m━━━━━━━━━━━━━━━━━━━━\u001b[0m\u001b[37m\u001b[0m \u001b[1m72s\u001b[0m 2s/step\n"
          ]
        }
      ],
      "source": [
        "from sklearn.metrics import accuracy_score, classification_report, confusion_matrix\n",
        "\n",
        "# --- Step 1: Extract test features ---\n",
        "features_cnn1_test = CNN1.predict(X_test_images, verbose=1)\n",
        "features_cnn2_test = CNN2.predict(X_test_images, verbose=1)\n"
      ]
    },
    {
      "cell_type": "code",
      "execution_count": 21,
      "metadata": {},
      "outputs": [
        {
          "ename": "NameError",
          "evalue": "name 'pca' is not defined",
          "output_type": "error",
          "traceback": [
            "\u001b[31m---------------------------------------------------------------------------\u001b[39m",
            "\u001b[31mNameError\u001b[39m                                 Traceback (most recent call last)",
            "\u001b[36mCell\u001b[39m\u001b[36m \u001b[39m\u001b[32mIn[21]\u001b[39m\u001b[32m, line 2\u001b[39m\n\u001b[32m      1\u001b[39m \u001b[38;5;66;03m# --- Step 2: Apply trained PCA & FA (do NOT fit again, only transform) ---\u001b[39;00m\n\u001b[32m----> \u001b[39m\u001b[32m2\u001b[39m features_pca_test = \u001b[43mpca\u001b[49m.transform(features_cnn1_test)\n\u001b[32m      3\u001b[39m features_fa_test  = fa.transform(features_cnn2_test)\n",
            "\u001b[31mNameError\u001b[39m: name 'pca' is not defined"
          ]
        }
      ],
      "source": [
        "# --- Step 2: Apply trained PCA & FA (do NOT fit again, only transform) ---\n",
        "features_pca_test = pca.transform(features_cnn1_test)\n",
        "features_fa_test  = fa.transform(features_cnn2_test)\n"
      ]
    }
  ],
  "metadata": {
    "colab": {
      "provenance": []
    },
    "kernelspec": {
      "display_name": "venv (3.13.5)",
      "language": "python",
      "name": "python3"
    },
    "language_info": {
      "codemirror_mode": {
        "name": "ipython",
        "version": 3
      },
      "file_extension": ".py",
      "mimetype": "text/x-python",
      "name": "python",
      "nbconvert_exporter": "python",
      "pygments_lexer": "ipython3",
      "version": "3.13.5"
    }
  },
  "nbformat": 4,
  "nbformat_minor": 0
}
